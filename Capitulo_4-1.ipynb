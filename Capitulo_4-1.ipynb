{
 "cells": [
  {
   "cell_type": "markdown",
   "id": "1dc445f3-8f0f-41b7-a0fa-541467a1d3db",
   "metadata": {
    "id": "1dc445f3-8f0f-41b7-a0fa-541467a1d3db"
   },
   "source": [
    "### Universidade Federal do Rio Grande do Sul - UFRGS"
   ]
  },
  {
   "cell_type": "markdown",
   "id": "27d28d81-ad30-4559-b52d-0fee9ac96cae",
   "metadata": {
    "id": "27d28d81-ad30-4559-b52d-0fee9ac96cae"
   },
   "source": [
    "### Escola de Engenharia - EE"
   ]
  },
  {
   "cell_type": "markdown",
   "id": "103a5401-6849-4ee0-a254-08a7f684a870",
   "metadata": {
    "id": "103a5401-6849-4ee0-a254-08a7f684a870"
   },
   "source": [
    "### Programa de Pós-graduação em Engenharia Civil - PPGEC"
   ]
  },
  {
   "cell_type": "markdown",
   "id": "547b79f5-d7a3-4b02-8ce9-7c1647bff36b",
   "metadata": {
    "id": "547b79f5-d7a3-4b02-8ce9-7c1647bff36b"
   },
   "source": [
    "### Disciplina: Tópicos avançados em concreto - PEC00013"
   ]
  },
  {
   "cell_type": "markdown",
   "id": "189e93bb-f3e5-4536-9aec-d09046d6929b",
   "metadata": {
    "id": "189e93bb-f3e5-4536-9aec-d09046d6929b"
   },
   "source": [
    "### Professor: Dr. Mauro de Vasconcellos Real"
   ]
  },
  {
   "cell_type": "markdown",
   "id": "9187878f-2f69-43a6-9e66-d91991265288",
   "metadata": {},
   "source": [
    "# __Aula 04__"
   ]
  },
  {
   "cell_type": "markdown",
   "id": "ce78f794-4773-4210-bf0c-d89fd0e707f7",
   "metadata": {
    "id": "ce78f794-4773-4210-bf0c-d89fd0e707f7"
   },
   "source": [
    "## __Capítulo 4 - Cálculo das matrizes de derivadas parciais__ <a name=\"section_4\"></a>"
   ]
  },
  {
   "cell_type": "markdown",
   "id": "e4c7f828-335f-42ac-b316-e8fd6c4a263c",
   "metadata": {
    "id": "e4c7f828-335f-42ac-b316-e8fd6c4a263c"
   },
   "source": [
    "[4.1 - Introdução](#section_41)"
   ]
  },
  {
   "cell_type": "markdown",
   "id": "d203a6e2",
   "metadata": {},
   "source": [
    "[4.2 - Derivadas parciais dos esforços resistentes em relação à profundidade da linha neutra $x$](#section_42)"
   ]
  },
  {
   "cell_type": "markdown",
   "id": "5a4de045",
   "metadata": {},
   "source": [
    "[4.3 - Derivadas parciais dos esforços resistentes em relação à inclinação  da linha neutra $\\alpha$](#section_43)"
   ]
  },
  {
   "cell_type": "markdown",
   "id": "63855435-7f10-490c-9416-7f55226f1d3b",
   "metadata": {},
   "source": [
    "[4.4 - Derivadas parciais dos esforços resistentes em relação à área total de armadura $As$](#section_44)"
   ]
  },
  {
   "cell_type": "markdown",
   "id": "5bafba8c-efa5-4114-9f0e-603f32dbecc4",
   "metadata": {
    "id": "5bafba8c-efa5-4114-9f0e-603f32dbecc4"
   },
   "source": [
    "## __4.1 - Introdução__ <a name=\"section_41\"></a>"
   ]
  },
  {
   "cell_type": "markdown",
   "id": "c727166c-3816-44c9-8755-2b00dc87991b",
   "metadata": {
    "id": "0b8c3d99-64a5-44e9-9200-89c81286e8e6",
    "tags": []
   },
   "source": [
    "* O procedimento de dimensionamento ou de verificação de uma seção de concreto armado a solicitações normais, utilizando o método de Newton-Raphson, envolve o cálculo de uma matriz de derivadas parciais dos esforços resistentes."
   ]
  },
  {
   "cell_type": "markdown",
   "id": "a4e11989-6f96-4dea-92b3-8f7259485a0d",
   "metadata": {
    "id": "0b8c3d99-64a5-44e9-9200-89c81286e8e6",
    "tags": []
   },
   "source": [
    "* No Capítulo 4 é apresentado o cálculo destas derivadas parciais dos esforços resistentes em relação a $x$, $\\alpha$ e $A_s$ (profundidade e inclinação da linha neutra e área total da armadura)."
   ]
  },
  {
   "cell_type": "markdown",
   "id": "157432c3-c6ac-4105-b5b2-45e3ad381233",
   "metadata": {
    "id": "157432c3-c6ac-4105-b5b2-45e3ad381233",
    "tags": []
   },
   "source": [
    "## __4.2 - Derivadas parciais dos esforços resistentes em relação à profundidade da linha neutra $x$__ <a name=\"section_42\"></a>"
   ]
  },
  {
   "cell_type": "markdown",
   "id": "397521be-c702-4a43-8f02-b81805ccd851",
   "metadata": {},
   "source": [
    "### Contribuição do concreto comprimido"
   ]
  },
  {
   "cell_type": "markdown",
   "id": "41415329-6441-471f-bb44-3795796bc128",
   "metadata": {
    "tags": []
   },
   "source": [
    "* No Capítulo 2, foi visto que:"
   ]
  },
  {
   "cell_type": "markdown",
   "id": "8aca6003-2827-46b6-9ede-42e4991ef3f0",
   "metadata": {},
   "source": [
    "$$ M_{Rxd} = M_{R\\xi} cos\\alpha - M_{R\\eta} sen \\alpha $$\n",
    "\n",
    "$$ M_{Ryd} = M_{R\\xi} sen\\alpha + M_{R\\eta} cos \\alpha $$"
   ]
  },
  {
   "cell_type": "markdown",
   "id": "4c3f97ff-97af-4ce8-9cfb-ebd03c1514fa",
   "metadata": {},
   "source": [
    "* Derivando-se estas expressões, em relação à profundidade da linha neutra $x$, vem que"
   ]
  },
  {
   "cell_type": "markdown",
   "id": "84efb6a8-1a04-4486-b4c0-55e7936f6297",
   "metadata": {
    "tags": []
   },
   "source": [
    "$$ \\frac{\\partial{M_{Rxd}}}{\\partial{x}} = \\frac{\\partial{M_{R\\xi}}}{\\partial{x}} cos\\alpha - \\frac{\\partial{M_{R\\eta}}}{\\partial{x}} sen \\alpha $$\n",
    "\n",
    "$$ \\frac{\\partial{M_{Ryd}}}{\\partial{x}} = \\frac{\\partial{M_{R\\xi}}}{\\partial{x}} sen\\alpha + \\frac{\\partial{M_{R\\eta}}}{\\partial{x}} cos \\alpha $$\n",
    "\n"
   ]
  },
  {
   "cell_type": "markdown",
   "id": "a86fabd5-8ade-4c99-a109-afd1307722cc",
   "metadata": {},
   "source": [
    "* Como os esforços resistentes $M_{R\\xi}, M_{R\\eta}$ e $N_{R}$ são funções de $b$ e $c$ (curvatura e deformação no centróide da seção), pode-se escrever"
   ]
  },
  {
   "cell_type": "markdown",
   "id": "d42c15e8-7257-4a1b-86f3-ae1771bccd06",
   "metadata": {},
   "source": [
    "$$ \\frac{\\partial{M_{R\\xi}}}{\\partial{x}} = \\frac{\\partial{M_{R\\xi}}}{\\partial{b}} \\frac{\\partial{b}}{\\partial{x}} + \\frac{\\partial{M_{R\\xi}}}{\\partial{c}}\\frac{\\partial{c}}{\\partial{x}} $$\n",
    "\n",
    "$$ \\frac{\\partial{M_{R\\eta}}}{\\partial{x}} = \\frac{\\partial{M_{R\\eta}}}{\\partial{b}} \\frac{\\partial{b}}{\\partial{x}} + \\frac{\\partial{M_{R\\eta}}}{\\partial{c}} \\frac{\\partial{c}} {\\partial{c}} $$"
   ]
  },
  {
   "cell_type": "markdown",
   "id": "c2255bc1-7651-47ec-985c-49da098a23ab",
   "metadata": {},
   "source": [
    "* Mas $b$ e $c$, por sua vez, são funções das deformações extremas da seção $\\epsilon_{S}$ e $\\epsilon_{I}$ , então:"
   ]
  },
  {
   "cell_type": "markdown",
   "id": "55028132-4b62-4539-b845-f4784a8ed880",
   "metadata": {
    "tags": []
   },
   "source": [
    "$$ \\frac{\\partial{b}}{\\partial{x}} = \\frac{\\partial{b}}{\\partial{\\epsilon_{S}}} \\frac{\\partial{\\epsilon_{S}}}{\\partial{x}} + \\frac{\\partial{b}}{\\partial{\\epsilon_{I}}}\\frac{\\partial{\\epsilon_{I}}}{\\partial{x}} $$\n",
    "\n",
    "$$ \\frac{\\partial{c}}{\\partial{x}} = \\frac{\\partial{c}}{\\partial{\\epsilon_{S}}} \\frac{\\partial{\\epsilon_{S}}}{\\partial{x}} + \\frac{\\partial{c}}{\\partial{\\epsilon_{I}}}\\frac{\\partial{\\epsilon_{I}}}{\\partial{x}} $$"
   ]
  },
  {
   "cell_type": "markdown",
   "id": "71d686b4-02cb-4780-abb2-a22a15b65388",
   "metadata": {},
   "source": [
    "* No Capítulo 2, tinha-se, ainda, que:"
   ]
  },
  {
   "cell_type": "markdown",
   "id": "55c94e79-0950-4c18-b958-f097ffdaa75c",
   "metadata": {},
   "source": [
    "$$ b = \\frac{\\epsilon_{S} - \\epsilon_{I}}{\\eta_{S}-\\eta_{I}} $$"
   ]
  },
  {
   "cell_type": "markdown",
   "id": "566559df-8fc1-42ed-bb57-3656e547bb21",
   "metadata": {},
   "source": [
    "$$ c = \\epsilon_{S} - b\\eta_{S} = \\epsilon_{S} -  \\left(\\frac{\\epsilon_{S} - \\epsilon_{I}}{\\eta_{S}-\\eta_{I}}\\right)\\eta_{S}$$"
   ]
  },
  {
   "cell_type": "markdown",
   "id": "9f1872b4-3303-44ee-bb7c-9d80bcac9410",
   "metadata": {},
   "source": [
    "e, portanto, suas derivadas em relação a $\\epsilon_{S}$ e $\\epsilon_{I}$ são"
   ]
  },
  {
   "cell_type": "markdown",
   "id": "e70251e4-7034-432c-b905-3be8dcd54393",
   "metadata": {},
   "source": [
    "$$ \\frac{\\partial{b}}{\\partial{\\epsilon_{S}}} = \\frac{1}{\\eta_{S}-\\eta_{I}} \\;  ; \\; \\frac{\\partial{b}}{\\partial{\\epsilon_{I}}} = \\frac{-1}{\\eta_{S}-\\eta_{I}}  $$"
   ]
  },
  {
   "cell_type": "markdown",
   "id": "18f802ae-6e38-4e5d-99a2-b37387ff26e4",
   "metadata": {},
   "source": [
    "$$ \\frac{\\partial{c}}{\\partial{\\epsilon_{S}}} = 1 - \\frac{\\eta_{S}}{\\eta_{S}-\\eta_{I}} \\;  ; \\; \\frac{\\partial{c}}{\\partial{\\epsilon_{I}}} = \\frac{\\eta_{S}}{\\eta_{S}-\\eta_{I}}  $$"
   ]
  },
  {
   "cell_type": "markdown",
   "id": "0e295b41-bf70-4a28-a861-06ff56c36949",
   "metadata": {},
   "source": [
    "* As derivadas de $\\epsilon_{S}$ e $\\epsilon_{I}$ em relação a $x$ são dadas por:"
   ]
  },
  {
   "cell_type": "markdown",
   "id": "f20e3e95-e63d-4a39-b77e-cb1fdc029421",
   "metadata": {},
   "source": [
    "<img src=\"./images4/derivadas_epsilon.jpg\" alt=\"derivadas de epsilon em relação a x\" style=\"width:800px\"/>"
   ]
  },
  {
   "cell_type": "markdown",
   "id": "8d395a90-a72b-4441-8b3a-68cafd3cdf79",
   "metadata": {},
   "source": [
    "* Exemplos:"
   ]
  },
  {
   "cell_type": "code",
   "execution_count": 1,
   "id": "e98db3fc-7937-4191-854b-9a80f955bc9e",
   "metadata": {},
   "outputs": [],
   "source": [
    "import sympy as sp\n",
    "sp.init_printing()"
   ]
  },
  {
   "cell_type": "code",
   "execution_count": 2,
   "id": "cc51ddb2-a01a-4c77-9c01-afd06f18593b",
   "metadata": {},
   "outputs": [],
   "source": [
    "epsilon_S = sp.Symbol('epsilon_S')\n",
    "epsilon_I = sp.Symbol('epsilon_I')\n",
    "epsilon_cu = sp.Symbol('epsilon_cu')\n",
    "d, x = sp.symbols('d, x',positive = True)"
   ]
  },
  {
   "cell_type": "code",
   "execution_count": 3,
   "id": "f8ff211f-66f2-4144-9527-a35284f35f52",
   "metadata": {},
   "outputs": [],
   "source": [
    "epsilon_S = - 0.010*x/(d-x) "
   ]
  },
  {
   "cell_type": "code",
   "execution_count": 4,
   "id": "0d20f699-3f54-423e-946c-0984ac272afc",
   "metadata": {},
   "outputs": [],
   "source": [
    "des_dx = sp.diff(epsilon_S,x)"
   ]
  },
  {
   "cell_type": "code",
   "execution_count": 5,
   "id": "349e940b-6156-464d-8e6c-def253cb6183",
   "metadata": {},
   "outputs": [
    {
     "data": {
      "image/png": "[encoded data removed]",
      "text/latex": [
       "$\\displaystyle - \\frac{0.01 x}{\\left(d - x\\right)^{2}} - \\frac{0.01}{d - x}$"
      ],
      "text/plain": [
       "   0.01⋅x     0.01\n",
       "- ──────── - ─────\n",
       "         2   d - x\n",
       "  (d - x)         "
      ]
     },
     "execution_count": 5,
     "metadata": {},
     "output_type": "execute_result"
    }
   ],
   "source": [
    "des_dx"
   ]
  },
  {
   "cell_type": "code",
   "execution_count": 7,
   "id": "1300e704-dbb2-4928-9fa2-c1713c849ec0",
   "metadata": {},
   "outputs": [],
   "source": [
    "des_dx = sp.simplify(des_dx)"
   ]
  },
  {
   "cell_type": "code",
   "execution_count": 8,
   "id": "d5f71f15-5d93-484f-95c8-4c6d4a4dcd5a",
   "metadata": {},
   "outputs": [
    {
     "data": {
      "image/png": "[encoded data removed]",
      "text/latex": [
       "$\\displaystyle - \\frac{0.01 d}{\\left(d - x\\right)^{2}}$"
      ],
      "text/plain": [
       "-0.01⋅d \n",
       "────────\n",
       "       2\n",
       "(d - x) "
      ]
     },
     "execution_count": 8,
     "metadata": {},
     "output_type": "execute_result"
    }
   ],
   "source": [
    "des_dx"
   ]
  },
  {
   "cell_type": "code",
   "execution_count": 9,
   "id": "9630c79f-0ac0-4601-b5bd-a80f3524f77e",
   "metadata": {},
   "outputs": [],
   "source": [
    "epsilon_I = epsilon_cu * (d-x)/x"
   ]
  },
  {
   "cell_type": "code",
   "execution_count": 11,
   "id": "31101834-6848-4aac-8b32-b6c8633ad0b4",
   "metadata": {},
   "outputs": [],
   "source": [
    "dei_dx = sp.diff(epsilon_I,x)"
   ]
  },
  {
   "cell_type": "code",
   "execution_count": 12,
   "id": "aaae3d5c-3783-4a9c-a05c-29457133df66",
   "metadata": {},
   "outputs": [
    {
     "data": {
      "image/png": "[encoded data removed]",
      "text/latex": [
       "$\\displaystyle - \\frac{\\epsilon_{cu}}{x} - \\frac{\\epsilon_{cu} \\left(d - x\\right)}{x^{2}}$"
      ],
      "text/plain": [
       "  ε_cu   ε_cu⋅(d - x)\n",
       "- ──── - ────────────\n",
       "   x           2     \n",
       "              x      "
      ]
     },
     "execution_count": 12,
     "metadata": {},
     "output_type": "execute_result"
    }
   ],
   "source": [
    "dei_dx"
   ]
  },
  {
   "cell_type": "code",
   "execution_count": 13,
   "id": "f441a1fe-a397-4090-82f0-15fd61fcd386",
   "metadata": {},
   "outputs": [],
   "source": [
    "dei_dx = sp.simplify(dei_dx)"
   ]
  },
  {
   "cell_type": "code",
   "execution_count": 14,
   "id": "bf68ddf5-62e4-45e9-8def-c4f290237088",
   "metadata": {},
   "outputs": [
    {
     "data": {
      "image/png": "[encoded data removed]",
      "text/latex": [
       "$\\displaystyle - \\frac{d \\epsilon_{cu}}{x^{2}}$"
      ],
      "text/plain": [
       "-d⋅ε_cu \n",
       "────────\n",
       "    2   \n",
       "   x    "
      ]
     },
     "execution_count": 14,
     "metadata": {},
     "output_type": "execute_result"
    }
   ],
   "source": [
    "dei_dx"
   ]
  },
  {
   "cell_type": "markdown",
   "id": "223ad3ab-4949-44d2-bf83-d1fbad9dcc1e",
   "metadata": {},
   "source": [
    "* Com isto têm-se as expressões das derivadas $\\partial{b}/\\partial{x}$ e $\\partial{c}/\\partial{x}$ definidas:"
   ]
  },
  {
   "cell_type": "markdown",
   "id": "0208d7ef-fe35-413a-af07-43181ad82259",
   "metadata": {},
   "source": [
    "$$ \\frac{\\partial{b}}{\\partial{x}} = \\frac{1}{\\eta_S-\\eta_I}\\left( \\frac{\\partial{\\epsilon_{S}}}{\\partial{x}} -\\frac{\\partial{\\epsilon_{I}}}{\\partial{x}} \\right) = \\lambda_1 $$\n",
    "\n",
    "$$ \\frac{\\partial{c}}{\\partial{x}} = \\frac{\\partial{\\epsilon_{S}}}{\\partial{x}} - \\eta_S \\frac{ \\frac{\\partial{\\epsilon_{S}}}{\\partial{x}} - \\frac{\\partial{\\epsilon_{I}}}{\\partial{x}}}{\\eta_S - \\eta_I} = \\lambda_2 $$"
   ]
  },
  {
   "cell_type": "markdown",
   "id": "7b8c2a06-4ae6-419f-817a-970cb55739fa",
   "metadata": {
    "tags": []
   },
   "source": [
    "Observe-se que as derivadas $\\partial{\\epsilon_S}/\\partial{x}$ e $\\partial{\\epsilon_I}/\\partial{x}$ dependem do domínio de dimensionamento em que se encontra a profundidade da linha neutra $x$, conforme a tabela acima."
   ]
  },
  {
   "cell_type": "markdown",
   "id": "aea59977-fff6-4853-ba38-ee7b1e9dfe8d",
   "metadata": {},
   "source": [
    "* Exemplo:"
   ]
  },
  {
   "cell_type": "code",
   "execution_count": 25,
   "id": "749aabde-d85e-4f0d-9079-6746600fbe12",
   "metadata": {},
   "outputs": [],
   "source": [
    "db_dx, db_des, db_dei = sp.symbols('db_dx, db_des, db_dei')\n",
    "eta_S, eta_I = sp.symbols('eta_S,eta_I')\n",
    "des_dx, dei_dx = sp.symbols('des_dx, dei_dx')"
   ]
  },
  {
   "cell_type": "code",
   "execution_count": 26,
   "id": "2c6d3a2d-51a1-4fa9-87c3-dfb6e7fd4a52",
   "metadata": {},
   "outputs": [],
   "source": [
    "db_des = 1/(eta_S-eta_I)"
   ]
  },
  {
   "cell_type": "code",
   "execution_count": 27,
   "id": "6644378e-a8a6-4b7b-bb58-25b2b150f3e7",
   "metadata": {},
   "outputs": [],
   "source": [
    "db_dei = -1/(eta_S-eta_I)"
   ]
  },
  {
   "cell_type": "code",
   "execution_count": 28,
   "id": "13c7021c-cecf-4e43-860c-5ba5c9568e6d",
   "metadata": {},
   "outputs": [],
   "source": [
    "db_dx = db_des*des_dx + db_dei*dei_dx"
   ]
  },
  {
   "cell_type": "code",
   "execution_count": 29,
   "id": "928bfa2d-2228-453e-94b0-0441559748dc",
   "metadata": {},
   "outputs": [
    {
     "data": {
      "image/png": "[encoded data removed]",
      "text/latex": [
       "$\\displaystyle - \\frac{dei_{dx}}{- \\eta_{I} + \\eta_{S}} + \\frac{des_{dx}}{- \\eta_{I} + \\eta_{S}}$"
      ],
      "text/plain": [
       "    dei_dx       des_dx  \n",
       "- ────────── + ──────────\n",
       "  -η_I + η_S   -η_I + η_S"
      ]
     },
     "execution_count": 29,
     "metadata": {},
     "output_type": "execute_result"
    }
   ],
   "source": [
    "db_dx"
   ]
  },
  {
   "cell_type": "code",
   "execution_count": 30,
   "id": "a0e8512a-1521-4af3-8273-e84e1c273817",
   "metadata": {},
   "outputs": [],
   "source": [
    "db_dx = sp.simplify(db_dx)"
   ]
  },
  {
   "cell_type": "code",
   "execution_count": 31,
   "id": "d1f7fa67-e81d-4606-bf0b-c100917fed63",
   "metadata": {},
   "outputs": [
    {
     "data": {
      "image/png": "[encoded data removed]",
      "text/latex": [
       "$\\displaystyle \\frac{dei_{dx} - des_{dx}}{\\eta_{I} - \\eta_{S}}$"
      ],
      "text/plain": [
       "dei_dx - des_dx\n",
       "───────────────\n",
       "   η_I - η_S   "
      ]
     },
     "execution_count": 31,
     "metadata": {},
     "output_type": "execute_result"
    }
   ],
   "source": [
    "db_dx"
   ]
  },
  {
   "cell_type": "markdown",
   "id": "569bd3f9-0bac-4874-87b0-3ca641360a9e",
   "metadata": {},
   "source": [
    "$$\\lambda_1 = \\frac{1}{\\eta_S-\\eta_I}\\left( \\frac{\\partial{\\epsilon_S}}{\\partial{x}} - \\frac{\\partial{\\epsilon_I}}{\\partial{x}} \\right) $$\n"
   ]
  },
  {
   "cell_type": "markdown",
   "id": "51d652f8-2457-4ba1-bd46-76bde4e00723",
   "metadata": {},
   "source": [
    "* As derivadas dos esforços resistentes, em relação a $b$ e $c$, são calculadas separadamente para as regiões I e II de concreto e para a armadura."
   ]
  },
  {
   "cell_type": "markdown",
   "id": "b6745db5-ccc1-426f-b46e-b5f0199ebebd",
   "metadata": {},
   "source": [
    "* A contribuição do concreto para os esforços resistentes é dada na região I por"
   ]
  },
  {
   "cell_type": "markdown",
   "id": "dccc9057-2164-49ff-9dc5-015588e4e1a9",
   "metadata": {},
   "source": [
    "$$ M_{R\\xi 1} = \\sigma_{cd} \\sum_{i=1}^{n1} (D_0 G_{01} + D_1 G_{02} + D_2 G_{03}) $$"
   ]
  },
  {
   "cell_type": "markdown",
   "id": "c8fcaf5f-653d-44d7-add4-6fe0e959dc5a",
   "metadata": {},
   "source": [
    "$$ M_{R\\eta 1} = -\\sigma_{cd} \\sum_{i=1}^{n1} (D_0 G_{10} + D_1 G_{11} + D_2 G_{12}) $$"
   ]
  },
  {
   "cell_type": "markdown",
   "id": "99afb400-2fed-4238-9ea7-2a07ee386f67",
   "metadata": {},
   "source": [
    "$$ N_{R1} = \\sigma_{cd} \\sum_{i=1}^{n1} (D_0 G_{00} + D_1 G_{01} + D_2 G_{02}) $$"
   ]
  },
  {
   "cell_type": "markdown",
   "id": "e7c2352d-195d-4e31-b4ae-02d7fe139e0e",
   "metadata": {},
   "source": [
    "* Para a região II, tem-se que:"
   ]
  },
  {
   "cell_type": "markdown",
   "id": "2e787911-8c22-437c-97f1-4e5889ce03d9",
   "metadata": {},
   "source": [
    "$$ M_{R\\xi 2} = -\\sigma_{cd} \\sum_{i=1}^{n2} G_{01} $$"
   ]
  },
  {
   "cell_type": "markdown",
   "id": "369872a3-c330-47a0-b4d8-ccc3860366fb",
   "metadata": {},
   "source": [
    "$$ M_{R\\eta2 } = -\\sigma_{cd} \\sum_{i=1}^{n2} G_{10} $$"
   ]
  },
  {
   "cell_type": "markdown",
   "id": "966521bf-4485-4e53-8f0e-d5a8d2521578",
   "metadata": {},
   "source": [
    "$$ N_{R 2} = -\\sigma_{cd} \\sum_{i=1}^{n2} G_{00} $$"
   ]
  },
  {
   "cell_type": "markdown",
   "id": "1607045b-382b-4057-be72-4bffefd61bb1",
   "metadata": {
    "tags": []
   },
   "source": [
    "onde $n_1$ e $n_2$ são os números de segmentos de reta, que compõem a poligonal fechada que descreve a seção, encontrados, respectivamente, nas regiões I e II."
   ]
  },
  {
   "cell_type": "markdown",
   "id": "a99b5e08-720f-42f3-b4d5-e5d2cdcd63d7",
   "metadata": {},
   "source": [
    "* Derivando-se estas expressões em relação a $b$ e $c$ obtêm-se para a região I:"
   ]
  },
  {
   "cell_type": "markdown",
   "id": "2414170c-dd3e-42d9-93e0-77e297202f99",
   "metadata": {},
   "source": [
    "$$ \\frac{\\partial{M_{R\\xi 1}}}{\\partial{b}} = \\sigma_{cd} \\sum_{i=1}^{n1} \\left(\\frac{\\partial{D_0}}{\\partial{b}} G_{01} + \\frac{\\partial{D_1}}{\\partial{b}} G_{02} + \\frac{\\partial{D_2}}{\\partial{b}} G_{03}\\right) $$"
   ]
  },
  {
   "cell_type": "markdown",
   "id": "4ee8d37b-a0ac-4d5b-91c8-855ebd27a0fd",
   "metadata": {},
   "source": [
    "$$ \\frac{\\partial{M_{R\\eta 1}}}{\\partial{b}} = -\\sigma_{cd} \\sum_{i=1}^{n1} \\left(\\frac{\\partial{D_0}}{\\partial{b}} G_{10} + \\frac{\\partial{D_1}}{\\partial{b}} G_{11} + \\frac{\\partial{D_2}}{\\partial{b}} G_{12}\\right) $$"
   ]
  },
  {
   "cell_type": "markdown",
   "id": "787fdac9-0bae-46a4-a51f-5a486226de44",
   "metadata": {},
   "source": [
    "$$ \\frac{\\partial{N_{R_1}}}{\\partial{b}} = \\sigma_{cd} \\sum_{i=1}^{n1} \\left(\\frac{\\partial{D_0}}{\\partial{b}} G_{00} + \\frac{\\partial{D_1}}{\\partial{b}} G_{01} + \\frac{\\partial{D_2}}{\\partial{b}} G_{02}\\right) $$"
   ]
  },
  {
   "cell_type": "markdown",
   "id": "7a070303-908d-4590-9c1a-b205e7f0e382",
   "metadata": {},
   "source": [
    "e"
   ]
  },
  {
   "cell_type": "markdown",
   "id": "b3a02148-2c6a-4e68-9b76-d6fc70aa75dc",
   "metadata": {},
   "source": [
    "$$ \\frac{\\partial{M_{R\\xi 1}}}{\\partial{c}} = \\sigma_{cd} \\sum_{i=1}^{n1} \\left(\\frac{\\partial{D_0}}{\\partial{c}} G_{01} + \\frac{\\partial{D_1}}{\\partial{c}} G_{02} + \\frac{\\partial{D_2}}{\\partial{c}} G_{03}\\right) $$"
   ]
  },
  {
   "cell_type": "markdown",
   "id": "97e5671b-22bb-4569-af64-b58544dfdf76",
   "metadata": {},
   "source": [
    "$$ \\frac{\\partial{M_{R\\eta 1}}}{\\partial{c}} = -\\sigma_{cd} \\sum_{i=1}^{n1} \\left(\\frac{\\partial{D_0}}{\\partial{c}} G_{10} + \\frac{\\partial{D_1}}{\\partial{c}} G_{11} + \\frac{\\partial{D_2}}{\\partial{c}} G_{12}\\right) $$"
   ]
  },
  {
   "cell_type": "markdown",
   "id": "f20644fc-fd27-4d2b-8acc-3f8146eba125",
   "metadata": {},
   "source": [
    "$$ \\frac{\\partial{N_{R 1}}}{\\partial{c}} = \\sigma_{cd} \\sum_{i=1}^{n1} \\left(\\frac{\\partial{D_0}}{\\partial{c}} G_{00} + \\frac{\\partial{D_1}}{\\partial{c}} G_{01} + \\frac{\\partial{D_2}}{\\partial{c}} G_{02}\\right) $$"
   ]
  },
  {
   "cell_type": "markdown",
   "id": "1f70c3de-6589-4a07-91f2-a433e50ebd9f",
   "metadata": {},
   "source": [
    "e para a região II:"
   ]
  },
  {
   "cell_type": "markdown",
   "id": "b8329039-30fd-44e3-b0bb-f0e9298a5802",
   "metadata": {},
   "source": [
    "$$ \\frac{\\partial{M_{R\\xi 2}}}{\\partial{b}} = \\frac{\\partial{M_{R\\eta 2}}}{\\partial{b}} =\\frac{\\partial{N_{R 2}}}{\\partial{b}} = 0 $$"
   ]
  },
  {
   "cell_type": "markdown",
   "id": "c56d19ac-b2f8-438a-bdfb-3c5c17df0708",
   "metadata": {},
   "source": [
    "$$ \\frac{\\partial{M_{R\\xi 2}}}{\\partial{c}} = \\frac{\\partial{M_{R\\eta 2}}}{\\partial{c}} =\\frac{\\partial{N_{R 2}}}{\\partial{c}} = 0 $$"
   ]
  },
  {
   "cell_type": "markdown",
   "id": "e9726162-90c0-49ec-9b4c-ffbeb9fa6978",
   "metadata": {
    "tags": []
   },
   "source": [
    "* Conforme obtido anteriormente:"
   ]
  },
  {
   "cell_type": "markdown",
   "id": "f3d3856c-a3f3-490d-aeb2-015148c04427",
   "metadata": {},
   "source": [
    "$$ D_0 = a_1 c + a_2 c^2 $$"
   ]
  },
  {
   "cell_type": "markdown",
   "id": "9fed7cd7-91cc-47f9-a672-50a4e75b2a37",
   "metadata": {},
   "source": [
    "$$ D_1 = a_1 b + 2 a_2 b c$$"
   ]
  },
  {
   "cell_type": "markdown",
   "id": "a41c7c0d-5822-4743-809d-c775d774638c",
   "metadata": {},
   "source": [
    "$$D_2 = a_2 b^2$$"
   ]
  },
  {
   "cell_type": "markdown",
   "id": "799a522c-fa25-4dd8-bc63-a75aa0cd27af",
   "metadata": {},
   "source": [
    "* Derivando-se em relação a $b$ e $c$:"
   ]
  },
  {
   "cell_type": "markdown",
   "id": "071d143a-e4b4-4f00-8208-e26ed4fa557a",
   "metadata": {},
   "source": [
    "$$ \\frac{\\partial{D_{0}}}{\\partial{b}} = \\frac{\\partial{D_{2}}}{\\partial{c}} = 0 $$"
   ]
  },
  {
   "cell_type": "markdown",
   "id": "9e52a712-52a5-4827-8a33-b909988dd79b",
   "metadata": {},
   "source": [
    "$$ \\frac{\\partial{D_{1}}}{\\partial{b}} = \\frac{\\partial{D_{0}}}{\\partial{c}} = a_1 + 2 a_2 c = \\kappa_1 $$"
   ]
  },
  {
   "cell_type": "markdown",
   "id": "c1d14eac-364d-4285-b05e-9ffa87428f7a",
   "metadata": {},
   "source": [
    "$$ \\frac{\\partial{D_{2}}}{\\partial{b}} = \\frac{\\partial{D_{1}}}{\\partial{c}} = 2 a_2 b = \\kappa_2 $$"
   ]
  },
  {
   "cell_type": "markdown",
   "id": "be4c7879-0828-45e8-b3c1-93fac3253961",
   "metadata": {},
   "source": [
    "* Desta forma pode-se reescrever que:"
   ]
  },
  {
   "cell_type": "markdown",
   "id": "9597a1ea-39bf-42f1-8161-a40456bff8ce",
   "metadata": {},
   "source": [
    "$$ \\frac{\\partial{M_{R\\xi 1}}}{\\partial{b}} = \\sigma_{cd} \\sum_{i=1}^{n1} \\left( \\kappa_1 G_{02} + \\kappa_2 G_{03}\\right) $$"
   ]
  },
  {
   "cell_type": "markdown",
   "id": "959e197c-b899-484f-bbf7-24b64041ae26",
   "metadata": {},
   "source": [
    "$$ \\frac{\\partial{M_{R\\eta 1}}}{\\partial{b}} = -\\sigma_{cd} \\sum_{i=1}^{n1} \\left( \\kappa_1 G_{11} + \\kappa_2 G_{12}\\right) $$"
   ]
  },
  {
   "cell_type": "markdown",
   "id": "cd119883-f17b-482d-b349-4371ff6126d0",
   "metadata": {},
   "source": [
    "$$ \\frac{\\partial{N_{R_1}}}{\\partial{b}} = \\sigma_{cd} \\sum_{i=1}^{n1} \\left( \\kappa_1 G_{01} + \\kappa_2 G_{02}\\right) $$"
   ]
  },
  {
   "cell_type": "markdown",
   "id": "31c793e3-7c3f-4848-8592-f5d35da853ee",
   "metadata": {},
   "source": [
    "e"
   ]
  },
  {
   "cell_type": "markdown",
   "id": "457e17ed-110a-4d97-89d4-6681f2b2494c",
   "metadata": {},
   "source": [
    "$$ \\frac{\\partial{M_{R\\xi 1}}}{\\partial{c}} = \\sigma_{cd} \\sum_{i=1}^{n1} \\left( \\kappa_1 G_{01} + \\kappa_2 G_{02}\\right) $$"
   ]
  },
  {
   "cell_type": "markdown",
   "id": "8896b6ec-4c78-4b0e-ac52-0cdaeabd0478",
   "metadata": {},
   "source": [
    "$$ \\frac{\\partial{M_{R\\eta 1}}}{\\partial{c}} = -\\sigma_{cd} \\sum_{i=1}^{n1} \\left(\\kappa_1 G_{10} + \\kappa_2 G_{11} \\right) $$"
   ]
  },
  {
   "cell_type": "markdown",
   "id": "8c3d61e9-8d87-4909-b4b2-7aa0cd83fd18",
   "metadata": {},
   "source": [
    "$$ \\frac{\\partial{N_{R 1}}}{\\partial{c}} = \\sigma_{cd} \\sum_{i=1}^{n1} \\left(\\kappa_1 G_{00} + \\kappa_2 G_{01} \\right) $$"
   ]
  },
  {
   "cell_type": "markdown",
   "id": "1e52447e-0c36-4a46-bb33-584fa1696a55",
   "metadata": {},
   "source": [
    "* Substituindo estes resultados nas expressões iniciais vêm:"
   ]
  },
  {
   "cell_type": "markdown",
   "id": "3b0e51bf-0109-45e2-bd99-07e8b0d707cb",
   "metadata": {},
   "source": [
    "$$ \\frac{\\partial{M_{R\\xi 1}}}{\\partial{x}} = \\sigma_{cd} \\sum_{i=1}^{n1} \\left(\\Psi_0 G_{01} + \\Psi_1 G_{02} + \\Psi_2 G_{02}\\right) $$"
   ]
  },
  {
   "cell_type": "markdown",
   "id": "4eed94fa-9fbe-4219-af36-0f87aa032c3a",
   "metadata": {},
   "source": [
    "$$ \\frac{\\partial{M_{R\\eta 1}}}{\\partial{x}} = - \\sigma_{cd} \\sum_{i=1}^{n1} \\left(\\Psi_0 G_{10} + \\Psi_1 G_{11} + \\Psi_2 G_{12}\\right) $$"
   ]
  },
  {
   "cell_type": "markdown",
   "id": "2c2db6b0-7020-4e42-a664-6567b297ca22",
   "metadata": {},
   "source": [
    "$$ \\frac{\\partial{N_{R_1}}}{\\partial{x}} =  \\sigma_{cd} \\sum_{i=1}^{n1} \\left(\\Psi_0 G_{00} + \\Psi_1 G_{01} + \\Psi_2 G_{02}\\right) $$"
   ]
  },
  {
   "cell_type": "markdown",
   "id": "64821a96-ca27-41eb-a1d1-07428b2dc133",
   "metadata": {},
   "source": [
    "onde:"
   ]
  },
  {
   "cell_type": "markdown",
   "id": "288c43ad-a677-422b-a9c0-655ef9515320",
   "metadata": {},
   "source": [
    "$$ \\Psi_0 = \\lambda_2 \\kappa_1 $$"
   ]
  },
  {
   "cell_type": "markdown",
   "id": "b478c415-8b1c-4191-af84-8a4bff04f7a2",
   "metadata": {},
   "source": [
    "$$ \\Psi_1 = \\lambda_1 \\kappa_1 + \\lambda_2 \\kappa_2 $$"
   ]
  },
  {
   "cell_type": "markdown",
   "id": "d6c975f1-7add-48f5-ac4d-31584ffcc301",
   "metadata": {},
   "source": [
    "$$ \\Psi_2 = \\lambda_1 \\kappa_2 $$"
   ]
  },
  {
   "cell_type": "markdown",
   "id": "f8854ce1-ea83-43d6-a760-a9eb80ddceb6",
   "metadata": {
    "tags": []
   },
   "source": [
    "* Exemplo:"
   ]
  },
  {
   "cell_type": "markdown",
   "id": "105099ac-0797-47b2-9896-6ea901372d8b",
   "metadata": {},
   "source": [
    "$$ \\frac{\\partial{M_{R\\xi}}}{\\partial{x}} = \\frac{\\partial{M_{R\\xi}}}{\\partial{b}} \\frac{\\partial{b}}{\\partial{x}} + \\frac{\\partial{M_{R\\xi}}}{\\partial{c}}\\frac{\\partial{c}}{\\partial{x}} = \\frac{\\partial{M_{R\\xi}}}{\\partial{b}} \\lambda_1 + \\frac{\\partial{M_{R\\xi}}}{\\partial{c}}\\lambda_2 $$\n"
   ]
  },
  {
   "cell_type": "markdown",
   "id": "41ca9afe-be8f-473d-97de-cf2d24029782",
   "metadata": {},
   "source": [
    "Porém, tem-se que:"
   ]
  },
  {
   "cell_type": "markdown",
   "id": "7c41ab26-bdfc-4b0b-986b-912f33ec5387",
   "metadata": {},
   "source": [
    "$$ \\frac{\\partial{M_{R\\xi 1}}}{\\partial{b}} = \\sigma_{cd} \\sum_{i=1}^{n1} \\left( \\kappa_1 G_{02} + \\kappa_2 G_{03}\\right) \\; ; \\;  \\frac{\\partial{M_{R\\xi 2}}}{\\partial{b}} = 0$$"
   ]
  },
  {
   "cell_type": "markdown",
   "id": "97ea643a-bdda-425b-88b4-2be3e2a7baa0",
   "metadata": {},
   "source": [
    "$$ \\frac{\\partial{M_{R\\xi 1}}}{\\partial{c}} = \\sigma_{cd} \\sum_{i=1}^{n1} \\left( \\kappa_1 G_{01} + \\kappa_2 G_{02}\\right) \\; ; \\;  \\frac{\\partial{M_{R\\xi 2}}}{\\partial{c}} = 0$$"
   ]
  },
  {
   "cell_type": "markdown",
   "id": "f6e1c9fb-837c-4c6c-a828-729bf3a1d9e2",
   "metadata": {},
   "source": [
    "Logo:"
   ]
  },
  {
   "cell_type": "markdown",
   "id": "7f5bb9dd-361c-4f75-866c-8d90abb99a06",
   "metadata": {},
   "source": [
    "$$ \\frac{\\partial{M_{R\\xi}}}{\\partial{x}} = \\sigma_{cd} \\sum_{i=1}^{n1} \\left( \\lambda_1\\kappa_1 G_{02} + \\lambda_1\\kappa_2 G_{03} + \\lambda_2\\kappa_1 G_{01} + \\lambda_2\\kappa_2 G_{02}\\right) $$"
   ]
  },
  {
   "cell_type": "markdown",
   "id": "c1d68468-7e93-4725-8b13-18a4e3dddb52",
   "metadata": {},
   "source": [
    "$$ \\frac{\\partial{M_{R\\xi}}}{\\partial{x}} = \\sigma_{cd} \\sum_{i=1}^{n1} \\left( \\lambda_2\\kappa_1 G_{01} + (\\lambda_1\\kappa_1  + \\lambda_2\\kappa_2) G_{02} + \\lambda_1\\kappa_2 G_{03}\\right) $$"
   ]
  },
  {
   "cell_type": "markdown",
   "id": "c8fcae57-39d2-4877-8923-58637aa77c5b",
   "metadata": {},
   "source": [
    "Resultando:"
   ]
  },
  {
   "cell_type": "markdown",
   "id": "406ba99b-34f1-4189-9ffa-1f7dd36d71db",
   "metadata": {},
   "source": [
    "$$ \\frac{\\partial{M_{R\\xi}}}{\\partial{x}} = \\sigma_{cd} \\sum_{i=1}^{n1} \\left(\\Psi_0 G_{01} + \\Psi_1 G_{02} + \\Psi_2 G_{03}\\right) $$"
   ]
  },
  {
   "cell_type": "markdown",
   "id": "5f662833-af1b-42af-b20a-32bb30495e75",
   "metadata": {},
   "source": [
    "### Contribuição da armadura"
   ]
  },
  {
   "cell_type": "markdown",
   "id": "424257bf-2e32-4a8e-99a8-9187d04e22d7",
   "metadata": {
    "tags": []
   },
   "source": [
    "* A contribuição da armadura para os esforços resistentes é dada por:"
   ]
  },
  {
   "cell_type": "markdown",
   "id": "86ff37f3-43f5-46b1-86a6-612a31f8cd43",
   "metadata": {},
   "source": [
    "$$ M_{R\\xi} =  \\sum_{j=1}^{m} \\rho_{j} A_{s} \\sigma_{s}(\\epsilon_{j})\\eta_{j} $$"
   ]
  },
  {
   "cell_type": "markdown",
   "id": "c7b03c69-852b-4841-9ab0-8dacc9992166",
   "metadata": {},
   "source": [
    "$$ M_{R\\eta} = - \\sum_{j=1}^{m} \\rho_{j} A_{s} \\sigma_{s}(\\epsilon_{j})\\xi_{j} $$"
   ]
  },
  {
   "cell_type": "markdown",
   "id": "54fd503a-e4da-48aa-b5d8-9dc7f49540bc",
   "metadata": {},
   "source": [
    "$$ N_{R} =  \\sum_{j=1}^m \\rho_{j}A_{s}\\sigma_{s}(\\epsilon_{j})$$"
   ]
  },
  {
   "cell_type": "markdown",
   "id": "264e2429-e4a8-451a-bd07-32983c33ca28",
   "metadata": {},
   "source": [
    "onde $m$ é o número de barras de armadura da seção."
   ]
  },
  {
   "cell_type": "markdown",
   "id": "4d30a8b9-9fbd-4c41-9ee1-3bf75ec8028b",
   "metadata": {},
   "source": [
    "* Derivando em relação a $b$ e $c$, obtêm-se:"
   ]
  },
  {
   "cell_type": "markdown",
   "id": "8a5ab4a9-264e-4a28-b5b1-b500cf84f964",
   "metadata": {},
   "source": [
    "$$ \\frac{\\partial{M_{R\\xi}}}{\\partial{b}} =  \\sum_{j=1}^{m} \\rho_{j} A_{s} \\frac{\\partial{\\sigma_{s}(\\epsilon_{j})}}{\\partial{b}}\\eta_{j} $$"
   ]
  },
  {
   "cell_type": "markdown",
   "id": "ff69dae5-7a0d-44dd-bcea-05ab004eeb0b",
   "metadata": {},
   "source": [
    "$$ \\frac{\\partial{M_{R\\eta}}}{\\partial{b}} = - \\sum_{j=1}^{m} \\rho_{j} A_{s} \\frac{\\partial{\\sigma_{s}(\\epsilon_{j})}}{\\partial{b}}\\xi_{j} $$"
   ]
  },
  {
   "cell_type": "markdown",
   "id": "b479afb2-af60-4067-9bba-ffca35cf6ffe",
   "metadata": {},
   "source": [
    "$$ \\frac{\\partial{N_{R}}}{\\partial{b}} =  \\sum_{j=1}^{m} \\rho_{j} A_{s} \\frac{\\partial{\\sigma_{s}(\\epsilon_{j})}}{\\partial{b}} $$"
   ]
  },
  {
   "cell_type": "markdown",
   "id": "b685e37c-2dfb-449a-82a3-fe9ed882e8e9",
   "metadata": {},
   "source": [
    "e:"
   ]
  },
  {
   "cell_type": "markdown",
   "id": "b07aa361-cc18-4e7b-9f6b-e8a707150966",
   "metadata": {},
   "source": [
    "$$ \\frac{\\partial{M_{R\\xi}}}{\\partial{c}} =  \\sum_{j=1}^{m} \\rho_{j} A_{s} \\frac{\\partial{\\sigma_{s}(\\epsilon_{j})}}{\\partial{c}}\\eta_{j} $$"
   ]
  },
  {
   "cell_type": "markdown",
   "id": "a14d8cf0-13f2-4a07-abeb-754bec64cd8a",
   "metadata": {},
   "source": [
    "$$ \\frac{\\partial{M_{R\\eta}}}{\\partial{c}} = - \\sum_{j=1}^{m} \\rho_{j} A_{s} \\frac{\\partial{\\sigma_{s}(\\epsilon_{j})}}{\\partial{c}}\\xi_{j} $$"
   ]
  },
  {
   "cell_type": "markdown",
   "id": "bd99ebbd-0523-4944-beaa-aa2d50c8aa13",
   "metadata": {},
   "source": [
    "$$ \\frac{\\partial{N_{R}}}{\\partial{c}} =  \\sum_{j=1}^{m} \\rho_{j} A_{s} \\frac{\\partial{\\sigma_{s}(\\epsilon_{j})}}{\\partial{c}} $$"
   ]
  },
  {
   "cell_type": "markdown",
   "id": "41d02d42-59e7-4a56-b201-133e41bf0365",
   "metadata": {},
   "source": [
    "* As derivadas da tensão nas barras de armadura em relação a $b$ e $c$ podem ser calculadas pelas expressões"
   ]
  },
  {
   "cell_type": "markdown",
   "id": "e2a25b4a-688c-462d-b28e-ee07cd22a5a1",
   "metadata": {},
   "source": [
    "$$ \\frac{\\partial{\\sigma_{s}(\\epsilon_{j})}}{\\partial{b}} = \\frac{\\partial{\\sigma_{s}(\\epsilon_{j})}}{\\partial{\\epsilon_{j}}} \\frac{\\partial{\\epsilon_{j}}}{\\partial{b}} = E_T(\\epsilon_j) \\eta_j  $$"
   ]
  },
  {
   "cell_type": "markdown",
   "id": "603fa3ba-7118-4b2e-a6e4-c07bac4f9454",
   "metadata": {},
   "source": [
    "$$ \\frac{\\partial{\\sigma_{s}(\\epsilon_{j})}}{\\partial{c}} = \\frac{\\partial{\\sigma_{s}(\\epsilon_{j})}}{\\partial{\\epsilon_{j}}} \\frac{\\partial{\\epsilon_{j}}}{\\partial{c}} = E_T(\\epsilon_j)   $$"
   ]
  },
  {
   "cell_type": "markdown",
   "id": "5aae8ad4-fc20-4c6f-95a7-4b57f766b524",
   "metadata": {},
   "source": [
    "onde $E_T (\\epsilon_j )$ é o módulo de elasticidade longitudinal tangente \n",
    "do aço, correspondente à deformação $\\epsilon_j$."
   ]
  },
  {
   "cell_type": "markdown",
   "id": "8b99718f-d6f0-4783-a59f-e285c78747ad",
   "metadata": {},
   "source": [
    " * Conforme o diagrama tensão-deformação para o aço, o módulo de elasticidade longitudinal tangente pode ser calculado pelas seguintes expressões:"
   ]
  },
  {
   "cell_type": "markdown",
   "id": "852ca425-dc21-4437-a582-7457ffcaff76",
   "metadata": {},
   "source": [
    "$$ E_T(\\epsilon) = \\left\\{ \\begin{array}{rl}  E_s \\; \\text{para} \\; |\\epsilon| & \\lt \\epsilon_{yd} \\\\  0 \\; \\text{para} \\; |\\epsilon| & \\ge \\epsilon_{yd} \\end{array} \\right. $$"
   ]
  },
  {
   "cell_type": "markdown",
   "id": "4a73c1e1-2904-4318-89b0-367cce50f263",
   "metadata": {},
   "source": [
    "* As parcelas correspondentes à armadura das derivadas dos esforços resistentes, em relação à profundidade da linha neutra $x$, são, então, dadas por:"
   ]
  },
  {
   "cell_type": "markdown",
   "id": "ec5a8672-94c9-41c1-a6e4-d0e1e8ac6138",
   "metadata": {},
   "source": [
    "$$ \\frac{\\partial{M_{R\\xi}}}{\\partial{x}} =  \\sum_{j=1}^{m} \\rho_{j} A_{s} E_T(\\epsilon_j)\\eta_{j}(\\lambda_1 \\eta_j + \\lambda_2) $$"
   ]
  },
  {
   "cell_type": "markdown",
   "id": "1e4ed30c-42d3-4c96-b8b9-e1c2337ed37b",
   "metadata": {},
   "source": [
    "$$ \\frac{\\partial{M_{R\\eta}}}{\\partial{x}} = - \\sum_{j=1}^{m} \\rho_{j} A_{s} E_T(\\epsilon_j)\\xi_{j}(\\lambda_1 \\eta_j + \\lambda_2) $$"
   ]
  },
  {
   "cell_type": "markdown",
   "id": "55a4330d-ed43-4045-92db-9ddeb2859c0c",
   "metadata": {},
   "source": [
    "$$ \\frac{\\partial{N_{R}}}{\\partial{x}} =  \\sum_{j=1}^{m} \\rho_{j} A_{s} E_T(\\epsilon_j)(\\lambda_1 \\eta_j + \\lambda_2) $$"
   ]
  },
  {
   "cell_type": "markdown",
   "id": "3de89e05-2f6e-4647-a43f-3b659d2b7993",
   "metadata": {},
   "source": [
    "Exemplo:"
   ]
  },
  {
   "cell_type": "markdown",
   "id": "fcf823b2-6a3b-4bc9-b759-bb618ec4ef6e",
   "metadata": {},
   "source": [
    "$$ \\frac{\\partial{M_{R\\xi}}}{\\partial{x}} = \\frac{\\partial{M_{R\\xi}}}{\\partial{b}} \\frac{\\partial{b}}{\\partial{x}} + \\frac{\\partial{M_{R\\xi}}}{\\partial{c}}\\frac{\\partial{c}}{\\partial{x}} = \\frac{\\partial{M_{R\\xi}}}{\\partial{b}} \\lambda_1 + \\frac{\\partial{M_{R\\xi}}}{\\partial{c}}\\lambda_2 $$\n"
   ]
  },
  {
   "cell_type": "markdown",
   "id": "08edd552-66be-410e-933f-2caadccde93f",
   "metadata": {},
   "source": [
    "$$ \\frac{\\partial{M_{R\\xi}}}{\\partial{b}} =  \\sum_{j=1}^{m} \\rho_{j} A_{s} E_T(\\epsilon_j) \\eta_{j}^2 $$"
   ]
  },
  {
   "cell_type": "markdown",
   "id": "0d6791db-df42-454d-ae25-f1985278d0d7",
   "metadata": {},
   "source": [
    "$$ \\frac{\\partial{M_{R\\xi}}}{\\partial{c}} =  \\sum_{j=1}^{m} \\rho_{j} A_{s} E_T(\\epsilon_j) \\eta_{j} $$"
   ]
  },
  {
   "cell_type": "markdown",
   "id": "88ee7ce3-2f2a-4079-8b48-0c5820a3731d",
   "metadata": {},
   "source": [
    "$$ \\frac{\\partial{M_{R\\xi}}}{\\partial{x}} = \\sum_{j=1}^{m} \\rho_{j} A_{s} E_T(\\epsilon_j) \\eta_{j}^2 \\lambda_1 + \\sum_{j=1}^{m} \\rho_{j} A_{s} E_T(\\epsilon_j) \\eta_{j} \\lambda_2$$"
   ]
  },
  {
   "cell_type": "markdown",
   "id": "0421252a-8314-481c-826f-df6fe89bbec1",
   "metadata": {},
   "source": [
    "$$ \\frac{\\partial{M_{R\\xi}}}{\\partial{x}} = \\sum_{j=1}^{m} \\rho_{j} A_{s} E_T(\\epsilon_j) \\eta_{j} ( \\lambda_1 \\eta_j + \\lambda_2)$$"
   ]
  },
  {
   "cell_type": "markdown",
   "id": "41ae2ed9-0652-4aee-a190-4d28f0196a04",
   "metadata": {},
   "source": [
    "* Finalmente, as derivadas dos esforços resistentes em relação à profundidade da linha neutra $x$ são obtidas somando-se as parcelas calculadas para o concreto e para o aço e fazendo-se a rotação para os eixos $x, y$."
   ]
  },
  {
   "cell_type": "markdown",
   "id": "f3b9e05b-9627-450b-95bb-46e98c485e8f",
   "metadata": {
    "tags": []
   },
   "source": [
    "## __4.3 - Derivadas parciais dos esforços resistentes em relação à inclinação da linha neutra $\\alpha$__ <a name=\"section_43\"></a>"
   ]
  },
  {
   "cell_type": "markdown",
   "id": "202e9652-358d-413e-8b88-5b8747c0fea6",
   "metadata": {},
   "source": [
    "* Derivando-se as expressões:"
   ]
  },
  {
   "cell_type": "markdown",
   "id": "5316112a-8dae-4d70-9c9b-162c8ab98cb1",
   "metadata": {},
   "source": [
    "$$ M_{Rxd} = M_{R\\xi} cos\\alpha - M_{R\\eta} sen \\alpha $$"
   ]
  },
  {
   "cell_type": "markdown",
   "id": "ce20389f-727e-4b46-8fd7-a429ecc52899",
   "metadata": {},
   "source": [
    "$$ M_{Ryd} = M_{R\\xi} sen\\alpha + M_{R\\eta} cos \\alpha $$"
   ]
  },
  {
   "cell_type": "markdown",
   "id": "9ade384a-7df2-478f-9594-c8b500778b82",
   "metadata": {},
   "source": [
    "em relação à inclinação da linha neutra $\\alpha$, obtêm-se diretamente"
   ]
  },
  {
   "cell_type": "markdown",
   "id": "b36542ba-d048-4b98-b6ad-e59cd9cd13cf",
   "metadata": {},
   "source": [
    "$$ \\frac{\\partial{M_{Rxd}}}{\\partial{\\alpha}} =  -M_{R\\xi}sen\\alpha - M_{R\\eta}cos\\alpha = - M_{Ryd} $$"
   ]
  },
  {
   "cell_type": "markdown",
   "id": "3656782c-41d1-4c0b-981c-134720a2d4c0",
   "metadata": {},
   "source": [
    "$$ \\frac{\\partial{M_{Ryd}}}{\\partial{\\alpha}} =  M_{R\\xi}cos\\alpha - M_{R\\eta}sen\\alpha =  M_{Rxd} $$"
   ]
  },
  {
   "cell_type": "markdown",
   "id": "a2a1d16a-81e4-45b4-804b-59c071dd7994",
   "metadata": {},
   "source": [
    "$$ \\frac{\\partial{N_{R}}}{\\partial{\\alpha}} =  0 $$"
   ]
  },
  {
   "cell_type": "markdown",
   "id": "4e3eb7d3-b94e-42a7-9967-eb43d228c585",
   "metadata": {
    "id": "4e3eb7d3-b94e-42a7-9967-eb43d228c585",
    "tags": []
   },
   "source": [
    "## __4.4 - Derivadas parciais dos esforços resistentes em relação à área total de armadura $As$__ <a name=\"section_44\"></a>"
   ]
  },
  {
   "cell_type": "markdown",
   "id": "3e639eac-8ffc-4434-882e-fe75a2f6e545",
   "metadata": {},
   "source": [
    "* As derivadas dos esforços resistentes em relação à área total de armadura $A_s$ são obtidas a partir das parcelas de esforços resistentes devidas à armadura.\n",
    "\n",
    "* As parcelas referentes ao concreto não contribuem para estas derivadas uma vez que são \n",
    "independentes de $A_s$.\n",
    "\n",
    "* Assim, as parcelas dos esforços resistentes devidas à armadura são expressas por"
   ]
  },
  {
   "cell_type": "markdown",
   "id": "8c2548a0-5751-4435-912a-22f48e2d6387",
   "metadata": {},
   "source": [
    "$$ M_{Rxd} =  \\sum_{j=1}^{m} \\rho_{j} A_{s} \\sigma_{s}(\\epsilon_{j})y_{j} $$"
   ]
  },
  {
   "cell_type": "markdown",
   "id": "e7110096-119f-4885-95b3-10b628e531ca",
   "metadata": {},
   "source": [
    "$$ M_{Ryd} = - \\sum_{j=1}^{m} \\rho_{j} A_{s} \\sigma_{s}(\\epsilon_{j})x_{j} $$"
   ]
  },
  {
   "cell_type": "markdown",
   "id": "0c5e38bd-31d7-4dea-8624-df9065cc5669",
   "metadata": {},
   "source": [
    "$$ N_{Rd} =  \\sum_{j=1}^m \\rho_{j}A_{s}\\sigma_{s}(\\epsilon_{j})$$"
   ]
  },
  {
   "cell_type": "markdown",
   "id": "d656232e-c8de-4bac-a0c4-dd7d2629bb74",
   "metadata": {},
   "source": [
    "* Derivando-se estas expressões em relação à $A_s$, obtêm-se:"
   ]
  },
  {
   "cell_type": "markdown",
   "id": "1549b8bf-8fd5-44ce-a924-1e3e5eedfbf6",
   "metadata": {},
   "source": [
    "$$ \\frac{\\partial{M_{Rxd}}}{\\partial{A_s}} =  \\sum_{j=1}^{m} \\rho_{j}\\sigma_{s}(\\epsilon_{j})y_{j} $$"
   ]
  },
  {
   "cell_type": "markdown",
   "id": "e6fc8bc5-e54c-4ad0-ae78-f18b90459392",
   "metadata": {},
   "source": [
    "$$ \\frac{\\partial{M_{Ryd}}}{\\partial{A_s}} = - \\sum_{j=1}^{m} \\rho_{j} \\sigma_{s}(\\epsilon_{j})x_{j} $$"
   ]
  },
  {
   "cell_type": "markdown",
   "id": "f3292eaf-e264-4a7f-a80e-709793456fab",
   "metadata": {},
   "source": [
    "$$ \\frac{\\partial{N_{Rd}}}{\\partial{A_s}} =  \\sum_{j=1}^m \\rho_{j}\\sigma_{s}(\\epsilon_{j})$$"
   ]
  },
  {
   "cell_type": "code",
   "execution_count": null,
   "id": "91360679-5072-443a-a9db-fc65c49f0b80",
   "metadata": {},
   "outputs": [],
   "source": []
  }
 ],
 "metadata": {
  "colab": {
   "name": "Capítulo_1.ipynb",
   "provenance": []
  },
  "kernelspec": {
   "display_name": "Python 3 (ipykernel)",
   "language": "python",
   "name": "python3"
  },
  "language_info": {
   "codemirror_mode": {
    "name": "ipython",
    "version": 3
   },
   "file_extension": ".py",
   "mimetype": "text/x-python",
   "name": "python",
   "nbconvert_exporter": "python",
   "pygments_lexer": "ipython3",
   "version": "3.10.9"
  }
 },
 "nbformat": 4,
 "nbformat_minor": 5
}
