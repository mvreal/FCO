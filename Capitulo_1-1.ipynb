{
 "cells": [
  {
   "cell_type": "markdown",
   "id": "1dc445f3-8f0f-41b7-a0fa-541467a1d3db",
   "metadata": {
    "id": "1dc445f3-8f0f-41b7-a0fa-541467a1d3db"
   },
   "source": [
    "### Universidade Federal do Rio Grande do Sul - UFRGS"
   ]
  },
  {
   "cell_type": "markdown",
   "id": "27d28d81-ad30-4559-b52d-0fee9ac96cae",
   "metadata": {
    "id": "27d28d81-ad30-4559-b52d-0fee9ac96cae"
   },
   "source": [
    "### Escola de Engenharia - EE"
   ]
  },
  {
   "cell_type": "markdown",
   "id": "103a5401-6849-4ee0-a254-08a7f684a870",
   "metadata": {
    "id": "103a5401-6849-4ee0-a254-08a7f684a870"
   },
   "source": [
    "### Programa de Pós-graduação em Engenharia Oceânica - PPGEC"
   ]
  },
  {
   "cell_type": "markdown",
   "id": "547b79f5-d7a3-4b02-8ce9-7c1647bff36b",
   "metadata": {
    "id": "547b79f5-d7a3-4b02-8ce9-7c1647bff36b"
   },
   "source": [
    "### Disciplina: Tópicos avançados em concreto - PEC00013"
   ]
  },
  {
   "cell_type": "markdown",
   "id": "189e93bb-f3e5-4536-9aec-d09046d6929b",
   "metadata": {
    "id": "189e93bb-f3e5-4536-9aec-d09046d6929b"
   },
   "source": [
    "### Professor: Dr. Mauro de Vasconcellos Real"
   ]
  },
  {
   "cell_type": "markdown",
   "id": "9187878f-2f69-43a6-9e66-d91991265288",
   "metadata": {},
   "source": [
    "# __Aula 01__"
   ]
  },
  {
   "cell_type": "markdown",
   "id": "ce78f794-4773-4210-bf0c-d89fd0e707f7",
   "metadata": {
    "id": "ce78f794-4773-4210-bf0c-d89fd0e707f7"
   },
   "source": [
    "# __Capítulo 1 - Introdução. Estados Limites. Solicitações Normais. Seção Poligonal__ <a name=\"section_1\"></a>"
   ]
  },
  {
   "cell_type": "markdown",
   "id": "e4c7f828-335f-42ac-b316-e8fd6c4a263c",
   "metadata": {
    "id": "e4c7f828-335f-42ac-b316-e8fd6c4a263c"
   },
   "source": [
    "[1.1 - Introdução: Estados Limites](#section_11)"
   ]
  },
  {
   "cell_type": "markdown",
   "id": "d203a6e2",
   "metadata": {},
   "source": [
    "[1.2 - Solicitações Normais](#section_12)"
   ]
  },
  {
   "cell_type": "markdown",
   "id": "5a4de045",
   "metadata": {},
   "source": [
    "[1.3 - Seção poligonal: integração - Teorema de Green](#section_13)"
   ]
  },
  {
   "cell_type": "markdown",
   "id": "5bafba8c-efa5-4114-9f0e-603f32dbecc4",
   "metadata": {
    "id": "5bafba8c-efa5-4114-9f0e-603f32dbecc4"
   },
   "source": [
    "### Estados Limites"
   ]
  },
  {
   "cell_type": "markdown",
   "id": "157432c3-c6ac-4105-b5b2-45e3ad381233",
   "metadata": {
    "id": "157432c3-c6ac-4105-b5b2-45e3ad381233"
   },
   "source": [
    "* Para se projetar uma estrutura com um adequado grau de segurança é necessário que se verifique a não ocorrência de uma série de estados limites.\n",
    "* Os estados limites podem ser classificados em **estados limites últimos (ELU)** e **estados limites de serviço (ELS)**.\n",
    "* Os **estados limite últimos** correspondem à máxima capacidade portante da estrutura.\n",
    "* Os **estados limites de serviço** são aqueles relacionados à durabilidade das estruturas, aparência, conforto do usuário e a boa utilização funcional da mesma, seja em relação aos usuários, seja às máquinas e aos equipamentos utilizados.\n",
    "* Os estados limites para estruturas de concreto estão definidos pela norma **NBR-6118:2014 - Projeto de estruturas de concreto - Procedimento**."
   ]
  },
  {
   "cell_type": "markdown",
   "id": "0b8c3d99-64a5-44e9-9200-89c81286e8e6",
   "metadata": {
    "id": "0b8c3d99-64a5-44e9-9200-89c81286e8e6"
   },
   "source": [
    "### Estados Limites segundo a norma NBR-6118:2014"
   ]
  },
  {
   "cell_type": "markdown",
   "id": "2c1f17c5",
   "metadata": {},
   "source": [
    "* A norma brasileira NBR-6118:2014 traz em seu itens 3 e 10, as definições dos estados limites que devem ser verificados em estruturas de cocreto."
   ]
  },
  {
   "cell_type": "markdown",
   "id": "4e3eb7d3-b94e-42a7-9967-eb43d228c585",
   "metadata": {
    "id": "4e3eb7d3-b94e-42a7-9967-eb43d228c585"
   },
   "source": [
    "<img src=\"./images1/nbr-6118.jpg\" alt=\"nbr-6118-title\" style=\"width:474px\"/>"
   ]
  },
  {
   "cell_type": "markdown",
   "id": "b72536a7",
   "metadata": {},
   "source": [
    "### Estados limites últimos segundo a norma NBR-6118:2014"
   ]
  },
  {
   "cell_type": "markdown",
   "id": "bc26f654",
   "metadata": {},
   "source": [
    "<img src=\"./images1/column_uls.jpg\" alt=\"column failure\" style=\"width:200px\"/>"
   ]
  },
  {
   "cell_type": "markdown",
   "id": "8f43c4fb",
   "metadata": {},
   "source": [
    "<font size=\"-1\">Fonte: https://i.pinimg.com/originals/2f/f3/d3/2ff3d31b8cfd4d9ac2a740189b4874fc.jpg</font>"
   ]
  },
  {
   "cell_type": "markdown",
   "id": "44de5aac-973b-4f8c-80e4-d7ce8e9fdf69",
   "metadata": {
    "id": "44de5aac-973b-4f8c-80e4-d7ce8e9fdf69"
   },
   "source": [
    "* Os estados limites últimos a serem verificados são:\n",
    "<ol type=\"a\">\n",
    "  <li>estado limite último da perda do equilíbrio da estrutura, admitida como corpo rígido;</li>\n",
    "  <li><strong>estado limite último de esgotamento da capacidade resistente da estrutura, no seu todo ou em parte, \n",
    "  devido às solicitações normais</strong> e tangenciais;</li>\n",
    "  <li>estado limite último de esgotamento da capacidade resistente da estrutura, no seu todo ou em parte, considerando os efeitos de segunda ordem;</li>\n",
    "  <li>estado limite último provocado por solicitações dinâmicas;</li>\n",
    "  <li>estado limite último de colapso progressivo;</li>\n",
    "  <li>estado limite último de esgotamento da capacidade resistente da estrutura, no seu todo ou em parte, considerando exposição ao fogo, conforme a ABNT NBR 15200;</li>\n",
    "  <li>estado limite último de esgotamento da capacidade resistente da estrutura, considerando ações sísmicas,de acordo com a ABNT NBR 15421;</li>\n",
    "  <li>outros estados-limites últimos que eventualmente possam ocorrer em casos especiais.</li>\n",
    "</ol>"
   ]
  },
  {
   "cell_type": "markdown",
   "id": "6fed8a23-83cf-4ab0-ac2c-2bd0effe578c",
   "metadata": {
    "id": "6fed8a23-83cf-4ab0-ac2c-2bd0effe578c"
   },
   "source": [
    "### Estados limites de serviço segundo a norma NBR-6118:2014"
   ]
  },
  {
   "cell_type": "markdown",
   "id": "8e9132cb",
   "metadata": {},
   "source": [
    "<img src=\"./images1/flecha_els.jpg\" alt=\"flecha excessiva\" style=\"width:200px\"/>"
   ]
  },
  {
   "cell_type": "markdown",
   "id": "31ee11c4",
   "metadata": {},
   "source": [
    "<font size=\"-1\">Fonte: https://i.ytimg.com/vi/xRz5ApWTeK4/sddefault.jpg</font>"
   ]
  },
  {
   "cell_type": "markdown",
   "id": "f2f917a9-9329-465e-8b58-b8da595961c7",
   "metadata": {
    "id": "f2f917a9-9329-465e-8b58-b8da595961c7"
   },
   "source": [
    "* Os estados limites de serviço a serem verificados são:\n",
    "<ol type=\"a\">\n",
    "  <li>estado limite de formação fissuras (ELS-F);</li>\n",
    "  <li>estado limite de abertura das fissuras (ELS-W);</li>\n",
    "  <li>estado-limite de deformações excessivas (ELS-D);</li>\n",
    "  <li>estado-limite de descompressão (ELS-D);</li>\n",
    "  <li>estado-limite de descompressão parcial (ELS-DP);</li>\n",
    "  <li>estado-limite de compressão excessiva (ELS-CE);</li>\n",
    "  <li>estado-limite de vibrações excessivas (ELS-VE).</li>\n",
    "</ol>"
   ]
  },
  {
   "cell_type": "markdown",
   "id": "8302b6e2",
   "metadata": {},
   "source": [
    "## __1.2 - Solicitações normais__ <a name=\"section_12\"></a>"
   ]
  },
  {
   "cell_type": "markdown",
   "id": "5ff56506",
   "metadata": {},
   "source": [
    "* As seções transversais de um elemento estrutural estão submetidas a solicitações.\n",
    "* Estas solicitações são classificadas como normais e tangenciais.\n",
    "* As solicitações normais, como o esforço normal e o momento fletor, dão origem a tensões normais nas seções."
   ]
  },
  {
   "cell_type": "markdown",
   "id": "7bf856ff",
   "metadata": {},
   "source": [
    "<img src=\"./images1/normais.jpg\" alt=\"solicitações normais\" style=\"width:100px\"/>"
   ]
  },
  {
   "cell_type": "markdown",
   "id": "409eacc5-78a9-47ea-93e9-3a7e9c3d8585",
   "metadata": {
    "id": "409eacc5-78a9-47ea-93e9-3a7e9c3d8585"
   },
   "source": [
    "* Por outro lado, as solicitações tangenciais, como o esforço cortante e o momento de torção, causam o aparecimento de tensões tangenciais nas seções"
   ]
  },
  {
   "cell_type": "markdown",
   "id": "772c0d48",
   "metadata": {},
   "source": [
    "<img src=\"./images1/tangenciais.jpg\" alt=\"tangenciais\" style=\"width:100px\"/>"
   ]
  },
  {
   "cell_type": "markdown",
   "id": "cbc08c8c-6d69-4a2d-8619-717624e9a325",
   "metadata": {
    "id": "cbc08c8c-6d69-4a2d-8619-717624e9a325"
   },
   "source": [
    "* Tradicionalmente, o dimensionamento das seções de concreto armado é feito por **grupo de solicitações**.\n",
    "* Assim, no caso de uma viga de concreto armado, cujas seções transversais estão submetidas a momento fletor e esforço cortante, tem-se **dois processos independentes de dimensionamento** para a seção: determina-se uma armadura longitudinal para resistir a solicitação correspondente ao momento fletor e, de forma independente, calcula-se uma armadura transversal para resistir ao esforço cortante.\n",
    "* Isto é feito por se ter uma **solicitação normal** (momento fletor) e uma **solicitação tangencial** (esforço cortante) atuando na seção."
   ]
  },
  {
   "cell_type": "markdown",
   "id": "d0762ecd",
   "metadata": {},
   "source": [
    "<img src=\"./images1/flexao_cortante.jpg\" alt=\"flexao simples\" style=\"width:100px\"/>"
   ]
  },
  {
   "cell_type": "markdown",
   "id": "61135cfa-05ca-492c-98d6-58875ace357d",
   "metadata": {
    "id": "61135cfa-05ca-492c-98d6-58875ace357d"
   },
   "source": [
    "* Já para um **pilar de concreto armado**, cujas seções estão submetidas a momento fletor e esforço normal, tem-se um **processo de dimensionamento único**, onde se determina uma armadura longitudinal para resistir a ação simultânea destas duas solicitações.\n",
    "* Neste caso se tem **duas solicitações do mesmo grupo** (das solicitações normais)."
   ]
  },
  {
   "cell_type": "markdown",
   "id": "cfe35bba",
   "metadata": {},
   "source": [
    "<img src=\"./images1/pilar1.jpg\" alt=\"flexo-compressao\" style=\"width:100px\"/>"
   ]
  },
  {
   "cell_type": "markdown",
   "id": "2f6cb82c-2963-4bbb-82e7-6b6035c55e84",
   "metadata": {
    "id": "2f6cb82c-2963-4bbb-82e7-6b6035c55e84"
   },
   "source": [
    "* Sempre que uma seção estiver submetida a um **momento fletor** se tem uma solicitação dita de **flexão**.\n",
    "* A solicitação de **flexão** pode ser classificada como **simples ou composta**.\n",
    "* Uma flexão é dita **simples** quando a **única solicitação normal atuante é o momento fletor**.\n",
    "* Uma flexão é chamada **composta** quando **atuam simultaneamente em uma seção um momento fletor e uma força normal** (de tração ou de compressão).\n"
   ]
  },
  {
   "cell_type": "markdown",
   "id": "cb3e8786-74a7-41b8-8e89-70aa48428d8c",
   "metadata": {
    "id": "cb3e8786-74a7-41b8-8e89-70aa48428d8c"
   },
   "source": [
    "* A solicitação de **flexão**, seja simples ou composta, pode ser classificada, ainda, como **normal ou oblíqua**.\n",
    "* Uma flexão é chamada **normal** quando **o plano de flexão contém um eixo de simetria da seção**.\n",
    "* Uma flexão é dita **oblíqua** sempre que **a direção da linha neutra não pode ser determinada a priori**."
   ]
  },
  {
   "cell_type": "markdown",
   "id": "b1a75ac9-58a6-44f2-a35c-5333d8bb11da",
   "metadata": {
    "id": "b1a75ac9-58a6-44f2-a35c-5333d8bb11da"
   },
   "source": [
    "* A figura abaixo mostra seções de concreto armado submetidas à **flexão oblíqua**.\n",
    "* Em (a), **o plano de ação do momento fletor** corta a seção transversal **segundo uma reta que não coincide com o seu plano de simetria**.\n",
    "* A flexão também é oblíqua, caso (b), quando **a seção não tem um eixo de simetria**."
   ]
  },
  {
   "cell_type": "markdown",
   "id": "b44db252-fc2f-44ab-87ff-0dbc3eede541",
   "metadata": {
    "id": "b44db252-fc2f-44ab-87ff-0dbc3eede541"
   },
   "source": [
    "<img src=\"./images1/flexao_obliqua.jpg\" alt=\"flexao obliqua\" style=\"width:200px\"/>"
   ]
  },
  {
   "cell_type": "markdown",
   "id": "54394f66-2e92-4185-a70b-09dee943aea2",
   "metadata": {
    "id": "54394f66-2e92-4185-a70b-09dee943aea2"
   },
   "source": [
    "* Nas estruturas de concreto armado, a **flexão composta oblíqua** aparece frequentemente no **cálculo de pilares**. \n",
    "* Este cálculo apresenta uma série de dificuldades, pois **a direção da linha neutra não é perpendicular ao plano de solicitação**. \n",
    "* Assim, **além da profundidade da linha neutra, tem-se outra incógnita que é a sua direção**.\n",
    "* Visando automatizar o cálculo nestas situações, apresenta-se, a seguir, **um processo geral** para **o dimensionamento e a verificação de seções poligonais de concreto armado submetidas à flexão oblíqua composta**."
   ]
  },
  {
   "cell_type": "markdown",
   "id": "057fd94c",
   "metadata": {},
   "source": [
    "## __1.3 - Seção transversal poligonal. Integração pelo Teorema de Green__ <a name=\"section_13\"></a>"
   ]
  },
  {
   "cell_type": "markdown",
   "id": "18f3c66e-38a4-4834-a6eb-6a72c377c6f3",
   "metadata": {
    "id": "18f3c66e-38a4-4834-a6eb-6a72c377c6f3"
   },
   "source": [
    "### Características geométricas de uma seção transversal poligonal."
   ]
  },
  {
   "cell_type": "markdown",
   "id": "490badba",
   "metadata": {},
   "source": [
    "<img src=\"./images1/poligonal1.jpg\" alt=\"poligonal_1\" style=\"width:300px\"/>"
   ]
  },
  {
   "cell_type": "markdown",
   "id": "1ee591c1-30db-40f2-82d0-e065dd3d4176",
   "metadata": {
    "id": "1ee591c1-30db-40f2-82d0-e065dd3d4176"
   },
   "source": [
    "* A seção de concreto é definida através de uma poligonal fechada, cujos vértices são dados em função de um sistema global de coordenadas $X,Y$ e numerados no sentido anti-horário.\n",
    "* As barras de armadura são definidas como pontos no interior da seção de concreto, atribuindo-se a cada uma das quais uma percentagem da área total de armadura As."
   ]
  },
  {
   "cell_type": "markdown",
   "id": "8a4f24b9-9a39-4212-9ac7-5585e932a47b",
   "metadata": {},
   "source": [
    "<img src=\"./images1/centroide.jpg\" alt=\"eixos centroidais\" style=\"width:300px\"/>"
   ]
  },
  {
   "cell_type": "markdown",
   "id": "a73e750c-219d-45e7-838d-23c4c0c47e35",
   "metadata": {},
   "source": [
    "* Por conveniência, os esforços atuantes na seção de concreto armado são definidos a partir de um sistema baricêntrico de coordenadas $x$,$y$, dito local.\n",
    "* Por esta razão, torna-se necessária uma translação das coordenadas da seção, referidas ao sistema global $X,Y$, para o sistema local $x$,$y$.\n",
    "* Além disto, na estimativa dos valores iniciais para o dimensionamento, são empregadas aspropriedades geométricas da seção de concreto.\n"
   ]
  },
  {
   "cell_type": "markdown",
   "id": "65b98608-93dc-434c-9c7f-e567af0b1f3a",
   "metadata": {},
   "source": [
    "### Integração - Teorema de Green"
   ]
  },
  {
   "cell_type": "markdown",
   "id": "ece4703b-6dc1-42cf-b6c0-64486f306156",
   "metadata": {},
   "source": [
    "<img src=\"./images1/green1.jpg\" alt=\"teorema de Green\" style=\"width:300px\"/>"
   ]
  },
  {
   "cell_type": "markdown",
   "id": "d80ffee3-23e0-4707-884e-50960c33c097",
   "metadata": {},
   "source": [
    "* O dimensionamento e a verificação de seções poligonais de concreto armado submetidas à flexão oblíqua composta envolvem o cálculo de uma série de integrais de superfície.\n",
    "* Estas integrações são efetuadas transformando-se as integrais de superfície sobre um domínio plano A em integrais de linha ao longo de um contorno C.\n",
    "* Conforme o teorema de Green no plano, a integral de superfície de um termo genérico de um polinômio, referido a um sistema de coordenadas $\\xi,\\eta$, é transformada em uma integral de contorno por:"
   ]
  },
  {
   "cell_type": "markdown",
   "id": "c1d99def-dcc9-4d27-b64b-17385a9ec9c6",
   "metadata": {},
   "source": [
    "$$\\int_A \\xi^k\\eta^m dA = \\oint_C \\frac{\\xi^{k+1}\\eta^m}{k+1}d\\eta$$"
   ]
  },
  {
   "cell_type": "markdown",
   "id": "424513f7-1ae0-4877-a443-3720dc2cdd13",
   "metadata": {},
   "source": [
    "<img src=\"./images1/green2.jpg\" alt=\"teorema de Green em poligonal\" style=\"width:300px\"/>"
   ]
  },
  {
   "cell_type": "markdown",
   "id": "5ab13869-1c7a-4efa-ae53-ef537a8e08eb",
   "metadata": {},
   "source": [
    "* Se o domínio plano A é limitado por uma poligonal fechada, a integral anterior pode ser substituída por um somatório."
   ]
  },
  {
   "cell_type": "markdown",
   "id": "939040f7-c857-414f-8fc4-18a67228da0e",
   "metadata": {},
   "source": [
    "$$\\int_A \\xi^k\\eta^m dA = \\sum_{i=1}^nG_{km}$$"
   ]
  },
  {
   "cell_type": "markdown",
   "id": "6824d45d-31ef-4113-b439-d43c16e14735",
   "metadata": {},
   "source": [
    "com"
   ]
  },
  {
   "cell_type": "markdown",
   "id": "9c7da030-db89-4a87-8873-80ae9b5fb239",
   "metadata": {},
   "source": [
    "$$ G_{km} = \\frac{1}{k+1} \\int_{\\eta_i}^{\\eta_{i+1}} \\xi^{k+1}\\eta^m d\\eta $$"
   ]
  },
  {
   "cell_type": "markdown",
   "id": "908c90e1-72f1-4e4a-9a79-6525ff78eb90",
   "metadata": {},
   "source": [
    "sendo $n$ o número de segmentos da poligonal e $\\eta_i$ e $\\eta_{i+1}$ as ordenadas do seu i-ésimo segmento."
   ]
  },
  {
   "cell_type": "markdown",
   "id": "a3050e98-590f-4f65-81cb-e729c225365d",
   "metadata": {},
   "source": [
    "<img src=\"./images1/green3.jpg\" alt=\"segmento da poligonal\" style=\"width:300px\"/>"
   ]
  },
  {
   "cell_type": "markdown",
   "id": "36439553-17bf-4024-a041-b5515ccd2bdc",
   "metadata": {},
   "source": [
    "* As coordenadas $\\xi$ e $\\eta$ podem ser definidas por:"
   ]
  },
  {
   "cell_type": "markdown",
   "id": "4ee82fc6-6c35-45c1-bf3e-a443756b8cb0",
   "metadata": {},
   "source": [
    "$$\\eta = \\eta_i + w$$"
   ]
  },
  {
   "cell_type": "markdown",
   "id": "4e690b8c-83dc-4468-ab22-16016c66675b",
   "metadata": {},
   "source": [
    "$$ \\xi = \\xi_i + \\frac{\\Delta\\xi}{\\Delta\\eta}w$$"
   ]
  },
  {
   "cell_type": "markdown",
   "id": "eae7a3cd-f184-49b3-8a7d-511866ecc90b",
   "metadata": {},
   "source": [
    "onde $w$ varia de $0$ a $\\Delta\\eta$, conforme a figura acima."
   ]
  },
  {
   "cell_type": "markdown",
   "id": "64a4ae99-f8a1-4636-97ab-19658630722e",
   "metadata": {},
   "source": [
    "* Substituindo estas expressões na expressão de $G_{km}$ resulta:"
   ]
  },
  {
   "cell_type": "markdown",
   "id": "4d4526a9-21d6-4f6b-9c1d-df2a8fa0c322",
   "metadata": {},
   "source": [
    "$$ G_{km} = \\frac{1}{k+1} \\int_{0}^{\\Delta\\eta}\\left( \\xi_i + \\frac{\\Delta\\xi}{\\Delta\\eta} w \\right)^{k+1} (\\eta_i + w)^m dw$$"
   ]
  },
  {
   "cell_type": "markdown",
   "id": "98bcad50-1503-4825-900b-97f06a43e517",
   "metadata": {},
   "source": [
    "sendo:"
   ]
  },
  {
   "cell_type": "markdown",
   "id": "4c479903-6605-41fd-bf20-4350468314e8",
   "metadata": {},
   "source": [
    "$$\\Delta\\xi = \\xi_{i+1} - \\xi_{i}$$"
   ]
  },
  {
   "cell_type": "markdown",
   "id": "09878715-0c90-4c7f-88c2-c1175b3dfed7",
   "metadata": {},
   "source": [
    "$$ \\Delta\\eta = \\eta_{i+1} - \\eta_{i}$$"
   ]
  },
  {
   "cell_type": "markdown",
   "id": "c8518c1f-4ba6-47ba-9b2a-ac8bdf8bed60",
   "metadata": {},
   "source": [
    "* A partir desta expressão os diversos polinômios podem ser obtidos.\n",
    "* Os polinômios que vão ser utilizados ao longo do algoritmo de dimensionamento e verificação das seções são os seguintes:"
   ]
  },
  {
   "cell_type": "code",
   "execution_count": 1,
   "id": "99cf4d5f-a420-4bc5-be8d-26ad5bd40b8f",
   "metadata": {},
   "outputs": [],
   "source": [
    "import sympy as sp\n",
    "sp.init_printing()\n",
    "from sympy import I, pi, oo"
   ]
  },
  {
   "cell_type": "code",
   "execution_count": 2,
   "id": "d8b552b3-9555-4807-9966-2a8f502f6006",
   "metadata": {},
   "outputs": [],
   "source": [
    "xi_i = sp.Symbol('xi_i')\n",
    "eta_i = sp.Symbol('eta_i')\n",
    "Delta_xi = sp.Symbol('Delta_xi')\n",
    "Delta_eta = sp.Symbol('Delta_eta')\n",
    "w = sp.Symbol('w')"
   ]
  },
  {
   "cell_type": "markdown",
   "id": "fe56e8b3-1f35-40fb-89c2-e7bb492186f5",
   "metadata": {},
   "source": [
    "$$ G_{00} = \\frac{1}{0+1} \\int_{0}^{\\Delta\\eta}\\left( \\xi_i + \\frac{\\Delta\\xi}{\\Delta\\eta} w \\right)^{0+1} (\\eta_i + w)^0) dw$$"
   ]
  },
  {
   "cell_type": "code",
   "execution_count": 3,
   "id": "d51e8c37-26ba-4608-88f1-46e60f7d6e84",
   "metadata": {},
   "outputs": [],
   "source": [
    "G00 = sp.integrate((xi_i + Delta_xi/Delta_eta*w)**1*(eta_i+w)**0 ,(w,0,Delta_eta))"
   ]
  },
  {
   "cell_type": "code",
   "execution_count": 4,
   "id": "6cb24686-39fe-4cd5-b027-d6f088f647e3",
   "metadata": {},
   "outputs": [
    {
     "data": {
      "image/png": "[encoded data removed]",
      "text/latex": [
       "$\\displaystyle \\frac{\\Delta_{\\eta} \\Delta_{\\xi}}{2} + \\Delta_{\\eta} \\xi_{i}$"
      ],
      "text/plain": [
       "Δₑₜₐ⋅Δₓᵢ          \n",
       "──────── + Δₑₜₐ⋅ξᵢ\n",
       "   2              "
      ]
     },
     "execution_count": 4,
     "metadata": {},
     "output_type": "execute_result"
    }
   ],
   "source": [
    "G00"
   ]
  },
  {
   "cell_type": "code",
   "execution_count": 5,
   "id": "222c0400-32cb-4a32-932a-9a20024a27d3",
   "metadata": {},
   "outputs": [],
   "source": [
    "G00=G00.collect(Delta_eta)"
   ]
  },
  {
   "cell_type": "code",
   "execution_count": 6,
   "id": "bdcc2cc6-fe03-4e26-b034-628e81ec3ff1",
   "metadata": {},
   "outputs": [
    {
     "data": {
      "image/png": "[encoded data removed]",
      "text/latex": [
       "$\\displaystyle \\Delta_{\\eta} \\left(\\frac{\\Delta_{\\xi}}{2} + \\xi_{i}\\right)$"
      ],
      "text/plain": [
       "     ⎛Δₓᵢ     ⎞\n",
       "Δₑₜₐ⋅⎜─── + ξᵢ⎟\n",
       "     ⎝ 2      ⎠"
      ]
     },
     "execution_count": 6,
     "metadata": {},
     "output_type": "execute_result"
    }
   ],
   "source": [
    "G00"
   ]
  },
  {
   "cell_type": "markdown",
   "id": "acb2a49c-c780-4aec-ae8f-578f16365440",
   "metadata": {},
   "source": [
    "$$ G_{01} = \\frac{1}{0+1} \\int_{0}^{\\Delta\\eta}\\left( \\xi_i + \\frac{\\Delta\\xi}{\\Delta\\eta} w \\right)^{0+1} (\\eta_i + w)^1 dw$$"
   ]
  },
  {
   "cell_type": "code",
   "execution_count": 7,
   "id": "c0d8f8b5-7a2c-4b99-8dd5-e525249299d6",
   "metadata": {},
   "outputs": [],
   "source": [
    "G01 = sp.integrate((xi_i + Delta_xi/Delta_eta*w)**1*(eta_i+w)**1 ,(w,0,Delta_eta))"
   ]
  },
  {
   "cell_type": "code",
   "execution_count": 8,
   "id": "33dbd117-9875-4c55-91fc-0ec6eda5404b",
   "metadata": {},
   "outputs": [],
   "source": [
    "G01=G01.collect(Delta_eta)"
   ]
  },
  {
   "cell_type": "code",
   "execution_count": 9,
   "id": "413626fc-e573-487a-8ea7-bffbebb942a2",
   "metadata": {},
   "outputs": [
    {
     "data": {
      "image/png": "[encoded data removed]",
      "text/latex": [
       "$\\displaystyle \\frac{\\Delta_{\\eta}^{2} \\Delta_{\\xi}}{3} + \\Delta_{\\eta} \\left(\\frac{\\Delta_{\\eta} \\xi_{i}}{2} + \\frac{\\Delta_{\\xi} \\eta_{i}}{2} + \\eta_{i} \\xi_{i}\\right)$"
      ],
      "text/plain": [
       "    2                                      \n",
       "Δₑₜₐ ⋅Δₓᵢ        ⎛Δₑₜₐ⋅ξᵢ   Δₓᵢ⋅ηᵢ        ⎞\n",
       "───────── + Δₑₜₐ⋅⎜─────── + ────── + ηᵢ⋅ξᵢ⎟\n",
       "    3            ⎝   2        2           ⎠"
      ]
     },
     "execution_count": 9,
     "metadata": {},
     "output_type": "execute_result"
    }
   ],
   "source": [
    "G01"
   ]
  },
  {
   "cell_type": "markdown",
   "id": "ade5b745-d1c3-4b5e-9a2c-e14292c721e7",
   "metadata": {},
   "source": [
    "$$ G_{02} = \\frac{1}{0+1} \\int_{0}^{\\Delta\\eta}\\left( \\xi_i + \\frac{\\Delta\\xi}{\\Delta\\eta} w \\right)^{0+1} (\\eta_i + w)^2 dw$$"
   ]
  },
  {
   "cell_type": "code",
   "execution_count": 10,
   "id": "9ac1eccd-ad8e-4af3-b864-c411f2866ef4",
   "metadata": {},
   "outputs": [],
   "source": [
    "G02 = sp.integrate((xi_i + Delta_xi/Delta_eta*w)**1*(eta_i+w)**2 ,(w,0,Delta_eta))"
   ]
  },
  {
   "cell_type": "code",
   "execution_count": 11,
   "id": "ba7d638f-7afc-4fa6-ab53-39cab6645030",
   "metadata": {},
   "outputs": [],
   "source": [
    "G02=G02.collect(Delta_eta)"
   ]
  },
  {
   "cell_type": "code",
   "execution_count": 12,
   "id": "23eebe96-d292-4ec0-9a52-2008690cb71b",
   "metadata": {},
   "outputs": [
    {
     "data": {
      "image/png": "[encoded data removed]",
      "text/latex": [
       "$\\displaystyle \\frac{\\Delta_{\\eta}^{3} \\Delta_{\\xi}}{4} + \\Delta_{\\eta}^{2} \\left(\\frac{\\Delta_{\\eta} \\xi_{i}}{3} + \\frac{2 \\Delta_{\\xi} \\eta_{i}}{3}\\right) + \\Delta_{\\eta} \\left(\\Delta_{\\eta} \\eta_{i} \\xi_{i} + \\frac{\\Delta_{\\xi} \\eta_{i}^{2}}{2} + \\eta_{i}^{2} \\xi_{i}\\right)$"
      ],
      "text/plain": [
       "    3                                         ⎛                   2         ⎞\n",
       "Δₑₜₐ ⋅Δₓᵢ       2 ⎛Δₑₜₐ⋅ξᵢ   2⋅Δₓᵢ⋅ηᵢ⎞        ⎜             Δₓᵢ⋅ηᵢ      2   ⎟\n",
       "───────── + Δₑₜₐ ⋅⎜─────── + ────────⎟ + Δₑₜₐ⋅⎜Δₑₜₐ⋅ηᵢ⋅ξᵢ + ─────── + ηᵢ ⋅ξᵢ⎟\n",
       "    4             ⎝   3         3    ⎠        ⎝                2            ⎠"
      ]
     },
     "execution_count": 12,
     "metadata": {},
     "output_type": "execute_result"
    }
   ],
   "source": [
    "G02"
   ]
  },
  {
   "cell_type": "markdown",
   "id": "0730529b-66bf-4e37-bfca-1ce8e62c5ac7",
   "metadata": {},
   "source": [
    "$$ G_{03} = \\frac{1}{0+1} \\int_{0}^{\\Delta\\eta}\\left( \\xi_i + \\frac{\\Delta\\xi}{\\Delta\\eta} w \\right)^{0+1} (\\eta_i + w)^3 dw$$"
   ]
  },
  {
   "cell_type": "code",
   "execution_count": 13,
   "id": "0a49721b-89d8-47e3-b842-61287ed766f8",
   "metadata": {},
   "outputs": [],
   "source": [
    "G03 = sp.integrate((xi_i + Delta_xi/Delta_eta*w)**1*(eta_i+w)**3 ,(w,0,Delta_eta))"
   ]
  },
  {
   "cell_type": "code",
   "execution_count": 14,
   "id": "8fcb2cd8-71e5-4373-888b-46b31c458fe3",
   "metadata": {},
   "outputs": [],
   "source": [
    "G03=G03.collect(Delta_eta)"
   ]
  },
  {
   "cell_type": "code",
   "execution_count": 15,
   "id": "1b7cd198-f2d9-4696-993c-f539e325ed39",
   "metadata": {},
   "outputs": [
    {
     "data": {
      "image/png": "[encoded data removed]",
      "text/latex": [
       "$\\displaystyle \\frac{\\Delta_{\\eta}^{4} \\Delta_{\\xi}}{5} + \\Delta_{\\eta}^{3} \\left(\\frac{\\Delta_{\\eta} \\xi_{i}}{4} + \\frac{3 \\Delta_{\\xi} \\eta_{i}}{4}\\right) + \\Delta_{\\eta}^{2} \\left(\\Delta_{\\eta} \\eta_{i} \\xi_{i} + \\Delta_{\\xi} \\eta_{i}^{2}\\right) + \\Delta_{\\eta} \\left(\\frac{3 \\Delta_{\\eta} \\eta_{i}^{2} \\xi_{i}}{2} + \\frac{\\Delta_{\\xi} \\eta_{i}^{3}}{2} + \\eta_{i}^{3} \\xi_{i}\\right)$"
      ],
      "text/plain": [
       "    4                                                                        ⎛\n",
       "Δₑₜₐ ⋅Δₓᵢ       3 ⎛Δₑₜₐ⋅ξᵢ   3⋅Δₓᵢ⋅ηᵢ⎞       2 ⎛                   2⎞        ⎜\n",
       "───────── + Δₑₜₐ ⋅⎜─────── + ────────⎟ + Δₑₜₐ ⋅⎝Δₑₜₐ⋅ηᵢ⋅ξᵢ + Δₓᵢ⋅ηᵢ ⎠ + Δₑₜₐ⋅⎜\n",
       "    5             ⎝   4         4    ⎠                                       ⎝\n",
       "\n",
       "         2            3         ⎞\n",
       "3⋅Δₑₜₐ⋅ηᵢ ⋅ξᵢ   Δₓᵢ⋅ηᵢ      3   ⎟\n",
       "───────────── + ─────── + ηᵢ ⋅ξᵢ⎟\n",
       "      2            2            ⎠"
      ]
     },
     "execution_count": 15,
     "metadata": {},
     "output_type": "execute_result"
    }
   ],
   "source": [
    "G03"
   ]
  },
  {
   "cell_type": "markdown",
   "id": "af1feb4d-da56-4414-9607-4b1272e66729",
   "metadata": {},
   "source": [
    "$$ G_{10} = \\frac{1}{1+1} \\int_{0}^{\\Delta\\eta}\\left( \\xi_i + \\frac{\\Delta\\xi}{\\Delta\\eta} w \\right)^{1+1} (\\eta_i + w)^0 dw$$"
   ]
  },
  {
   "cell_type": "markdown",
   "id": "0810f4e0-ae2e-4f14-a83b-d39de10a14d4",
   "metadata": {},
   "source": [
    "G10 = sp.integrate(sp.Rational(1,2)*(xi_i + Delta_xi/Delta_eta*w)**2*(eta_i+w)**0 ,(w,0,Delta_eta))"
   ]
  },
  {
   "cell_type": "code",
   "execution_count": 17,
   "id": "500e343e-43d4-44d3-a85f-ad66abb897f1",
   "metadata": {},
   "outputs": [],
   "source": [
    "G10=G10.collect(Delta_eta)"
   ]
  },
  {
   "cell_type": "code",
   "execution_count": 18,
   "id": "815794f0-5286-466e-90dc-d9ffc156a072",
   "metadata": {},
   "outputs": [
    {
     "data": {
      "image/png": "[encoded data removed]",
      "text/latex": [
       "$\\displaystyle \\Delta_{\\eta} \\left(\\frac{\\Delta_{\\xi}^{2}}{6} + \\frac{\\Delta_{\\xi} \\xi_{i}}{2} + \\frac{\\xi_{i}^{2}}{2}\\right)$"
      ],
      "text/plain": [
       "     ⎛   2              2⎞\n",
       "     ⎜Δₓᵢ    Δₓᵢ⋅ξᵢ   ξᵢ ⎟\n",
       "Δₑₜₐ⋅⎜──── + ────── + ───⎟\n",
       "     ⎝ 6       2       2 ⎠"
      ]
     },
     "execution_count": 18,
     "metadata": {},
     "output_type": "execute_result"
    }
   ],
   "source": [
    "G10"
   ]
  },
  {
   "cell_type": "markdown",
   "id": "f74c260d-6e79-4eb2-933c-32a441c812a5",
   "metadata": {},
   "source": [
    "$$ G_{11} = \\frac{1}{1+1} \\int_{0}^{\\Delta\\eta}\\left( \\xi_i + \\frac{\\Delta\\xi}{\\Delta\\eta} w \\right)^{1+1} (\\eta_i + w)^1 dw$$"
   ]
  },
  {
   "cell_type": "code",
   "execution_count": 19,
   "id": "8874fe55-9cd8-4177-a5d2-8b3cced8f960",
   "metadata": {},
   "outputs": [],
   "source": [
    "G11 = sp.integrate(sp.Rational(1,2)*(xi_i + Delta_xi/Delta_eta*w)**2*(eta_i+w)**1 ,(w,0,Delta_eta))"
   ]
  },
  {
   "cell_type": "code",
   "execution_count": 20,
   "id": "6f3863d0-475a-41e0-b898-d245437d12d4",
   "metadata": {},
   "outputs": [],
   "source": [
    "G11=G11.collect(Delta_eta)"
   ]
  },
  {
   "cell_type": "code",
   "execution_count": 21,
   "id": "bb42ec5b-6b0d-41c6-8220-69d13be10ed1",
   "metadata": {},
   "outputs": [
    {
     "data": {
      "image/png": "[encoded data removed]",
      "text/latex": [
       "$\\displaystyle \\frac{\\Delta_{\\eta}^{2} \\Delta_{\\xi}^{2}}{8} + \\Delta_{\\eta} \\left(\\frac{\\Delta_{\\eta} \\Delta_{\\xi} \\xi_{i}}{3} + \\frac{\\Delta_{\\eta} \\xi_{i}^{2}}{4} + \\frac{\\Delta_{\\xi}^{2} \\eta_{i}}{6} + \\frac{\\Delta_{\\xi} \\eta_{i} \\xi_{i}}{2} + \\frac{\\eta_{i} \\xi_{i}^{2}}{2}\\right)$"
      ],
      "text/plain": [
       "    2    2        ⎛                     2      2                       2⎞\n",
       "Δₑₜₐ ⋅Δₓᵢ         ⎜Δₑₜₐ⋅Δₓᵢ⋅ξᵢ   Δₑₜₐ⋅ξᵢ    Δₓᵢ ⋅ηᵢ   Δₓᵢ⋅ηᵢ⋅ξᵢ   ηᵢ⋅ξᵢ ⎟\n",
       "────────── + Δₑₜₐ⋅⎜─────────── + ──────── + ─────── + ───────── + ──────⎟\n",
       "    8             ⎝     3           4          6          2         2   ⎠"
      ]
     },
     "execution_count": 21,
     "metadata": {},
     "output_type": "execute_result"
    }
   ],
   "source": [
    "G11"
   ]
  },
  {
   "cell_type": "markdown",
   "id": "05d53b80-d2ec-400b-9996-e87fcdbbd8a3",
   "metadata": {},
   "source": [
    "$$ G_{12} = \\frac{1}{1+1} \\int_{0}^{\\Delta\\eta}\\left( \\xi_i + \\frac{\\Delta\\xi}{\\Delta\\eta} w \\right)^{1+1} (\\eta_i + w)^2 dw$$"
   ]
  },
  {
   "cell_type": "code",
   "execution_count": 22,
   "id": "d806ba19-9ed4-422f-a786-2ff07bcd882b",
   "metadata": {},
   "outputs": [],
   "source": [
    "G12 = sp.integrate(sp.Rational(1,2)*(xi_i + Delta_xi/Delta_eta*w)**2*(eta_i+w)**2 ,(w,0,Delta_eta))"
   ]
  },
  {
   "cell_type": "code",
   "execution_count": 23,
   "id": "31b27062-8eee-43eb-be63-823e4b57deab",
   "metadata": {},
   "outputs": [],
   "source": [
    "G12=G12.collect(Delta_eta)"
   ]
  },
  {
   "cell_type": "code",
   "execution_count": 24,
   "id": "512e1a47-d606-4bee-bd85-817ba4efbb38",
   "metadata": {},
   "outputs": [
    {
     "data": {
      "image/png": "[encoded data removed]",
      "text/latex": [
       "$\\displaystyle \\frac{\\Delta_{\\eta}^{3} \\Delta_{\\xi}^{2}}{10} + \\Delta_{\\eta}^{2} \\left(\\frac{\\Delta_{\\eta} \\Delta_{\\xi} \\xi_{i}}{4} + \\frac{\\Delta_{\\xi}^{2} \\eta_{i}}{4}\\right) + \\Delta_{\\eta} \\left(\\frac{\\Delta_{\\eta}^{2} \\xi_{i}^{2}}{6} + \\frac{2 \\Delta_{\\eta} \\Delta_{\\xi} \\eta_{i} \\xi_{i}}{3} + \\frac{\\Delta_{\\eta} \\eta_{i} \\xi_{i}^{2}}{2} + \\frac{\\Delta_{\\xi}^{2} \\eta_{i}^{2}}{6} + \\frac{\\Delta_{\\xi} \\eta_{i}^{2} \\xi_{i}}{2} + \\frac{\\eta_{i}^{2} \\xi_{i}^{2}}{2}\\right)$"
      ],
      "text/plain": [
       "    3    2         ⎛                 2   ⎞        ⎛    2   2                  \n",
       "Δₑₜₐ ⋅Δₓᵢ        2 ⎜Δₑₜₐ⋅Δₓᵢ⋅ξᵢ   Δₓᵢ ⋅ηᵢ⎟        ⎜Δₑₜₐ ⋅ξᵢ    2⋅Δₑₜₐ⋅Δₓᵢ⋅ηᵢ⋅ξ\n",
       "────────── + Δₑₜₐ ⋅⎜─────────── + ───────⎟ + Δₑₜₐ⋅⎜───────── + ───────────────\n",
       "    10             ⎝     4           4   ⎠        ⎝    6              3       \n",
       "\n",
       "              2      2   2         2        2   2⎞\n",
       "ᵢ   Δₑₜₐ⋅ηᵢ⋅ξᵢ    Δₓᵢ ⋅ηᵢ    Δₓᵢ⋅ηᵢ ⋅ξᵢ   ηᵢ ⋅ξᵢ ⎟\n",
       "─ + ─────────── + ──────── + ────────── + ───────⎟\n",
       "         2           6           2           2   ⎠"
      ]
     },
     "execution_count": 24,
     "metadata": {},
     "output_type": "execute_result"
    }
   ],
   "source": [
    "G12"
   ]
  },
  {
   "cell_type": "markdown",
   "id": "cd08c24d-4c94-4a24-9798-798b959c32d1",
   "metadata": {},
   "source": [
    "$$ G_{20} = \\frac{1}{2+1} \\int_{0}^{\\Delta\\eta}\\left( \\xi_i + \\frac{\\Delta\\xi}{\\Delta\\eta} w \\right)^{2+1} (\\eta_i + w)^0 dw$$"
   ]
  },
  {
   "cell_type": "code",
   "execution_count": 25,
   "id": "e49f7803-53ff-486a-8ab4-249909f30127",
   "metadata": {},
   "outputs": [],
   "source": [
    "G20 = sp.integrate(sp.Rational(1,3)*(xi_i + Delta_xi/Delta_eta*w)**3*(eta_i+w)**0 ,(w,0,Delta_eta))"
   ]
  },
  {
   "cell_type": "code",
   "execution_count": 26,
   "id": "4b76fd91-6302-4db4-a3c7-f8e82f0e4fbe",
   "metadata": {},
   "outputs": [],
   "source": [
    "G20=G20.collect(Delta_eta)"
   ]
  },
  {
   "cell_type": "code",
   "execution_count": 27,
   "id": "5bcd819f-79ca-4d53-8b07-99a79047e914",
   "metadata": {},
   "outputs": [
    {
     "data": {
      "image/png": "[encoded data removed]",
      "text/latex": [
       "$\\displaystyle \\Delta_{\\eta} \\left(\\frac{\\Delta_{\\xi}^{3}}{12} + \\frac{\\Delta_{\\xi}^{2} \\xi_{i}}{3} + \\frac{\\Delta_{\\xi} \\xi_{i}^{2}}{2} + \\frac{\\xi_{i}^{3}}{3}\\right)$"
      ],
      "text/plain": [
       "     ⎛   3      2            2     3⎞\n",
       "     ⎜Δₓᵢ    Δₓᵢ ⋅ξᵢ   Δₓᵢ⋅ξᵢ    ξᵢ ⎟\n",
       "Δₑₜₐ⋅⎜──── + ─────── + ─────── + ───⎟\n",
       "     ⎝ 12       3         2       3 ⎠"
      ]
     },
     "execution_count": 27,
     "metadata": {},
     "output_type": "execute_result"
    }
   ],
   "source": [
    "G20"
   ]
  },
  {
   "cell_type": "markdown",
   "id": "37806531-fced-437b-81cd-07c6f5c48b50",
   "metadata": {},
   "source": [
    "* Usando o processo de integração apresentado, calculam-se, inicialmente, as propriedades geométricas da seção em relação ao sistema global de coordenadas $X,Y$ através das expressões:"
   ]
  },
  {
   "cell_type": "markdown",
   "id": "96c632fd-f5bf-4343-bbde-249a373fe3a5",
   "metadata": {},
   "source": [
    "* Área da seção transversal: $$A =\\int_A dA = \\sum_{i=1}^{n} G_{00} $$"
   ]
  },
  {
   "cell_type": "markdown",
   "id": "7ad3cc29-5cf6-4b6c-9a38-41caa0c0b30a",
   "metadata": {},
   "source": [
    "* Momento estático em relação ao eixo $X$: $$S_X =\\int_A YdA = \\sum_{i=1}^{n} G_{01} $$"
   ]
  },
  {
   "cell_type": "markdown",
   "id": "1b036b18-9314-43da-8051-99f8f198559d",
   "metadata": {},
   "source": [
    "* Momento estático em relação ao eixo $Y$: $$S_Y =\\int_A XdA = \\sum_{i=1}^{n} G_{10} $$"
   ]
  },
  {
   "cell_type": "markdown",
   "id": "444fefe5-d316-4b3d-9ba9-a77637bcd4a2",
   "metadata": {},
   "source": [
    "* Momento de inércia em relação ao eixo $X$: $$J_X =\\int_A Y^2dA = \\sum_{i=1}^{n} G_{02} $$"
   ]
  },
  {
   "cell_type": "markdown",
   "id": "34873ad2-2c82-4015-9de4-2a7b4a634cb6",
   "metadata": {},
   "source": [
    "* Momento de inércia em relação ao eixo $Y$: $$J_Y =\\int_A X^2dA = \\sum_{i=1}^{n} G_{20} $$"
   ]
  },
  {
   "cell_type": "markdown",
   "id": "1493713e-281c-44ed-bc19-549d3bd0af7e",
   "metadata": {},
   "source": [
    "* Produto de inércia em relação aos eixos $X$ e $Y$: $$J_{XY} =\\int_A XYdA = \\sum_{i=1}^{n} G_{11} $$"
   ]
  },
  {
   "cell_type": "markdown",
   "id": "84e68e07-c993-4237-b3a5-08ffc00a8b08",
   "metadata": {},
   "source": [
    "onde $n$ é o número de segmentos da poligonal fechada que descreve a seção e $G_{km}$ são polinômios de integração."
   ]
  },
  {
   "cell_type": "markdown",
   "id": "5661a1c3-e26f-414a-9989-57f70522f498",
   "metadata": {},
   "source": [
    "* As coordenadas $X_G,Y_G$ do centro de gravidade da seção de concreto, referidas ao sistema global $X,Y$, são dadas por:"
   ]
  },
  {
   "cell_type": "markdown",
   "id": "c3f564e0-1ec6-427d-8e63-1d5cb9c9eaf3",
   "metadata": {},
   "source": [
    "$$ X_G = \\frac{S_Y}{A} $$"
   ]
  },
  {
   "cell_type": "markdown",
   "id": "57a676bc-03e6-4bf1-b229-4d3e9e3e1f26",
   "metadata": {},
   "source": [
    "$$ Y_G = \\frac{S_X}{A} $$ "
   ]
  },
  {
   "cell_type": "markdown",
   "id": "84f8da39-e0c9-4482-aad4-0af61ebdaefc",
   "metadata": {},
   "source": [
    "* A translação das coordenadas do sistema global para o local é, então, feita através das relações:"
   ]
  },
  {
   "cell_type": "markdown",
   "id": "65a90ea4-9c58-48ce-8307-1c0eae0e16cd",
   "metadata": {},
   "source": [
    "$$ x = X - X_G $$"
   ]
  },
  {
   "cell_type": "markdown",
   "id": "2b119aee-b1ed-465c-98a6-6905238b9dde",
   "metadata": {},
   "source": [
    "$$ y = Y - Y_G$$"
   ]
  },
  {
   "cell_type": "markdown",
   "id": "672f88fa-dc67-4db7-b2b6-d26f9e493125",
   "metadata": {},
   "source": [
    "* As propriedades geométricas da seção homogênea de concreto, em relação ao sistema local de coordenadas $x,y$, são determinadas por:"
   ]
  },
  {
   "cell_type": "markdown",
   "id": "6be8da14-a361-4d6a-a754-f6d5259c1760",
   "metadata": {},
   "source": [
    "* Momento de inércia em relação ao eixo $x$: $$J_{x} = J_X - A Y_G^2$$"
   ]
  },
  {
   "cell_type": "markdown",
   "id": "9e032fda-cb9c-4fba-8746-9a500ab1bef0",
   "metadata": {},
   "source": [
    "* Momento de inércia em relação ao eixo $y$: $$J_{y} = J_Y - A X_G^2$$"
   ]
  },
  {
   "cell_type": "markdown",
   "id": "c2668d7e-7696-4c84-8712-826527e46b4f",
   "metadata": {},
   "source": [
    "* Produto de inércia em relação aos eixos $x$ e $y$: $$ J_{xy} = J_{XY} - A X_G Y_G $$"
   ]
  },
  {
   "cell_type": "markdown",
   "id": "ac19c0c1-05e0-4700-bf79-9179c244f9cc",
   "metadata": {},
   "source": [
    "### Exemplo de aplicação"
   ]
  },
  {
   "cell_type": "markdown",
   "id": "0cef49a7-c97f-406a-9129-4f8636fa1134",
   "metadata": {},
   "source": [
    "Calcular a propriedades geométricas da seção transversal vazada de um pilar mostrada na figura abaixo.\n",
    "As unidades de comprimento estão em cm."
   ]
  },
  {
   "cell_type": "markdown",
   "id": "c951b185-0b7f-4e38-9722-dc5e5e56eb26",
   "metadata": {},
   "source": [
    "<img src=\"./images1/vazada1.jpg\" alt=\"seção vazada\" style=\"width:300px\"/>"
   ]
  },
  {
   "cell_type": "markdown",
   "id": "d630d60a-e301-4877-93ab-4da8d3c0f3b7",
   "metadata": {},
   "source": [
    "A poligonal será formada por 19 pontos e 18 segmentos conforme a figura abaixo. As coordenadas dos vértices da poligonal são \n",
    "calculadas de acordo com o sistema de coordenadas $X,Y$ adotado."
   ]
  },
  {
   "cell_type": "markdown",
   "id": "5a84186c-63fa-45af-a8f3-f3765c51c3d5",
   "metadata": {},
   "source": [
    "<img src=\"./images1/vazada2.jpg\" alt=\"poligonal\" style=\"width:300px\"/>"
   ]
  },
  {
   "cell_type": "markdown",
   "id": "8a1352c3-29c8-49b9-b105-f4e15ab8ab3d",
   "metadata": {},
   "source": [
    "Primeiro é chamado o programa propgeo.py, que calcula as propriedades geométricas da seção transversal empregando o Teorema de Green. O problema é resolvido utilizando-se a **Programação Orientada a Objetos**, importando-se a classe Python Secao().\n",
    "É criado um objeto **sec** (uma seção transversal), que pertence à classe **Secao()**.\n",
    "A seguir é definido o atributo **coords**, que pertence ao objeto sec.\n",
    "As coordenadas dos pontos são fornecidas em uma lista de coordenadas [[$x,y$]].\n",
    "Depois se aplica o método **props**, da classe Secao(), que calcula as propriedades geométricas e as imprime."
   ]
  },
  {
   "cell_type": "code",
   "execution_count": 1,
   "id": "54d45b7c-7ec0-45d9-a596-940c73194ab0",
   "metadata": {},
   "outputs": [
    {
     "name": "stdout",
     "output_type": "stream",
     "text": [
      "A = 26400.0\n",
      "Sx = 2640000.0\n",
      "Sy = 3960000.0\n",
      "Jx = 401020000.0\n",
      "Jy = 869085000.0\n",
      "Jxy = 396000000.0\n",
      "xg = 150.0\n",
      "yg = 100.0\n",
      "Jxg = 137020000.0\n",
      "Jyg = 275085000.0\n",
      "Jxgyg = 0.0\n"
     ]
    },
    {
     "data": {
      "image/png": "[encoded data removed]",
      "text/plain": [
       "<Figure size 640x480 with 1 Axes>"
      ]
     },
     "metadata": {},
     "output_type": "display_data"
    }
   ],
   "source": [
    "from propgeo import Secao\n",
    "sec=Secao()\n",
    "sec.coords = [[30,0],[270,0],[300,30],[300,170],[270,200],\n",
    "              [30,200],[0,170],[0,30],[30,0],[60,30],\n",
    "              [30,60],[30,140],[60,170],[240,170],[270,140],\n",
    "              [270,60],[240,30],[60,30],[30,0]]\n",
    "sec.props"
   ]
  },
  {
   "cell_type": "code",
   "execution_count": null,
   "id": "ef694c1d-4443-45dd-aaa6-21bf4dedfa9e",
   "metadata": {},
   "outputs": [],
   "source": [
    "\n"
   ]
  },
  {
   "cell_type": "code",
   "execution_count": null,
   "id": "5c36c75a-694b-405f-96bc-dcec4385e40e",
   "metadata": {},
   "outputs": [],
   "source": []
  }
 ],
 "metadata": {
  "colab": {
   "name": "Capítulo_1.ipynb",
   "provenance": []
  },
  "kernelspec": {
   "display_name": "Python 3 (ipykernel)",
   "language": "python",
   "name": "python3"
  },
  "language_info": {
   "codemirror_mode": {
    "name": "ipython",
    "version": 3
   },
   "file_extension": ".py",
   "mimetype": "text/x-python",
   "name": "python",
   "nbconvert_exporter": "python",
   "pygments_lexer": "ipython3",
   "version": "3.10.9"
  }
 },
 "nbformat": 4,
 "nbformat_minor": 5
}
