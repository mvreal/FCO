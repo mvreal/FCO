{
 "cells": [
  {
   "attachments": {},
   "cell_type": "markdown",
   "id": "1dc445f3-8f0f-41b7-a0fa-541467a1d3db",
   "metadata": {
    "id": "1dc445f3-8f0f-41b7-a0fa-541467a1d3db"
   },
   "source": [
    "### Universidade Federal do Rio Grande do Sul - UFRGS"
   ]
  },
  {
   "cell_type": "markdown",
   "id": "27d28d81-ad30-4559-b52d-0fee9ac96cae",
   "metadata": {
    "id": "27d28d81-ad30-4559-b52d-0fee9ac96cae"
   },
   "source": [
    "### Escola de Engenharia - EE"
   ]
  },
  {
   "attachments": {},
   "cell_type": "markdown",
   "id": "103a5401-6849-4ee0-a254-08a7f684a870",
   "metadata": {
    "id": "103a5401-6849-4ee0-a254-08a7f684a870"
   },
   "source": [
    "### Programa de Pós-graduação em Engenharia Oceânica - PPGEC"
   ]
  },
  {
   "attachments": {},
   "cell_type": "markdown",
   "id": "547b79f5-d7a3-4b02-8ce9-7c1647bff36b",
   "metadata": {
    "id": "547b79f5-d7a3-4b02-8ce9-7c1647bff36b"
   },
   "source": [
    "### Disciplina: Tópicos avançados em concreto - PEC00013"
   ]
  },
  {
   "cell_type": "markdown",
   "id": "189e93bb-f3e5-4536-9aec-d09046d6929b",
   "metadata": {
    "id": "189e93bb-f3e5-4536-9aec-d09046d6929b"
   },
   "source": [
    "### Professor: Dr. Mauro de Vasconcellos Real"
   ]
  },
  {
   "cell_type": "markdown",
   "id": "afbed691-7f6a-45e3-a395-3727588d1242",
   "metadata": {},
   "source": [
    "# __Aula 01__"
   ]
  },
  {
   "attachments": {},
   "cell_type": "markdown",
   "id": "ce78f794-4773-4210-bf0c-d89fd0e707f7",
   "metadata": {
    "id": "ce78f794-4773-4210-bf0c-d89fd0e707f7"
   },
   "source": [
    "# __Capítulo 1 - Introdução. Estados Limites. Solicitações Normais. Seção Poligonal__ <a name=\"section_1\"></a>"
   ]
  },
  {
   "attachments": {},
   "cell_type": "markdown",
   "id": "e4c7f828-335f-42ac-b316-e8fd6c4a263c",
   "metadata": {
    "id": "e4c7f828-335f-42ac-b316-e8fd6c4a263c"
   },
   "source": [
    "[1.1 - Introdução: Estados Limites](#section_11)"
   ]
  },
  {
   "attachments": {},
   "cell_type": "markdown",
   "id": "f51781d3-f3d2-425f-a7ae-fb5bcf16942f",
   "metadata": {
    "id": "f51781d3-f3d2-425f-a7ae-fb5bcf16942f"
   },
   "source": [
    "[1.2 - Solicitações Normais](#section_12)"
   ]
  },
  {
   "attachments": {},
   "cell_type": "markdown",
   "id": "5a4de045",
   "metadata": {},
   "source": [
    "[1.3 - Seção poligonal: integração - Teorema de Green](#section_13)"
   ]
  },
  {
   "attachments": {},
   "cell_type": "markdown",
   "id": "3764b601-27f8-4189-a03c-e7c7c94f021d",
   "metadata": {
    "id": "3764b601-27f8-4189-a03c-e7c7c94f021d"
   },
   "source": [
    "## __1.1 - Introdução: Estados Limites__ <a name=\"section_11\"></a>"
   ]
  },
  {
   "attachments": {},
   "cell_type": "markdown",
   "id": "5bafba8c-efa5-4114-9f0e-603f32dbecc4",
   "metadata": {
    "id": "5bafba8c-efa5-4114-9f0e-603f32dbecc4"
   },
   "source": [
    "### Estados Limites"
   ]
  },
  {
   "attachments": {},
   "cell_type": "markdown",
   "id": "157432c3-c6ac-4105-b5b2-45e3ad381233",
   "metadata": {
    "id": "157432c3-c6ac-4105-b5b2-45e3ad381233"
   },
   "source": [
    "* Para se projetar uma estrutura com um adequado grau de segurança é necessário que se verifique a não ocorrência de uma série de estados limites.\n",
    "* Os estados limites podem ser classificados em **estados limites últimos (ELU)** e **estados limites de serviço (ELS)**.\n",
    "* Os **estados limite últimos** correspondem à máxima capacidade portante da estrutura.\n",
    "* Os **estados limites de serviço** são aqueles relacionados à durabilidade das estruturas, aparência, conforto do usuário e a boa utilização funcional da mesma, seja em relação aos usuários, seja às máquinas e aos equipamentos utilizados.\n",
    "* Os estados limites para estruturas de concreto estão definidos pela norma **NBR-6118:2014 - Projeto de estruturas de concreto - Procedimento**."
   ]
  },
  {
   "attachments": {},
   "cell_type": "markdown",
   "id": "0b8c3d99-64a5-44e9-9200-89c81286e8e6",
   "metadata": {
    "id": "0b8c3d99-64a5-44e9-9200-89c81286e8e6"
   },
   "source": [
    "### Estados Limites segundo a norma NBR-6118:2014"
   ]
  },
  {
   "attachments": {},
   "cell_type": "markdown",
   "id": "2c1f17c5",
   "metadata": {},
   "source": [
    "* A norma brasileira NBR-6118:2014 traz em seu itens 3 e 10, as definições dos estados limites que devem ser verificados em estruturas de cocreto."
   ]
  },
  {
   "attachments": {},
   "cell_type": "markdown",
   "id": "4e3eb7d3-b94e-42a7-9967-eb43d228c585",
   "metadata": {
    "id": "4e3eb7d3-b94e-42a7-9967-eb43d228c585"
   },
   "source": [
    "<img src=\"./images1/nbr-6118.jpg\" alt=\"nbr-6118-title\" style=\"width:474px\"/>"
   ]
  },
  {
   "attachments": {},
   "cell_type": "markdown",
   "id": "b72536a7",
   "metadata": {},
   "source": [
    "### Estados limites últimos segundo a norma NBR-6118:2014"
   ]
  },
  {
   "attachments": {},
   "cell_type": "markdown",
   "id": "bc26f654",
   "metadata": {},
   "source": [
    "<img src=\"./images1/column_uls.jpg\" alt=\"column failure\" style=\"width:300px\"/>"
   ]
  },
  {
   "attachments": {},
   "cell_type": "markdown",
   "id": "8f43c4fb",
   "metadata": {},
   "source": [
    "<font size=\"-1\">Fonte: https://i.pinimg.com/originals/2f/f3/d3/2ff3d31b8cfd4d9ac2a740189b4874fc.jpg</font>"
   ]
  },
  {
   "attachments": {},
   "cell_type": "markdown",
   "id": "44de5aac-973b-4f8c-80e4-d7ce8e9fdf69",
   "metadata": {
    "id": "44de5aac-973b-4f8c-80e4-d7ce8e9fdf69"
   },
   "source": [
    "* Os estados limites últimos a serem verificados são:\n",
    "<ol type=\"a\">\n",
    "  <li>estado limite último da perda do equilíbrio da estrutura, admitida como corpo rígido;</li>\n",
    "  <li><strong>estado limite último de esgotamento da capacidade resistente da estrutura, no seu todo ou em parte, \n",
    "  devido às solicitações normais</strong> e tangenciais;</li>\n",
    "  <li>estado limite último de esgotamento da capacidade resistente da estrutura, no seu todo ou em parte, considerando os efeitos de segunda ordem;</li>\n",
    "  <li>estado limite último provocado por solicitações dinâmicas;</li>\n",
    "  <li>estado limite último de colapso progressivo;</li>\n",
    "  <li>estado limite último de esgotamento da capacidade resistente da estrutura, no seu todo ou em parte, considerando exposição ao fogo, conforme a ABNT NBR 15200;</li>\n",
    "  <li>estado limite último de esgotamento da capacidade resistente da estrutura, considerando ações sísmicas,de acordo com a ABNT NBR 15421;</li>\n",
    "  <li>outros estados-limites últimos que eventualmente possam ocorrer em casos especiais.</li>\n",
    "</ol>"
   ]
  },
  {
   "attachments": {},
   "cell_type": "markdown",
   "id": "6fed8a23-83cf-4ab0-ac2c-2bd0effe578c",
   "metadata": {
    "id": "6fed8a23-83cf-4ab0-ac2c-2bd0effe578c"
   },
   "source": [
    "### Estados limites de serviço segundo a norma NBR-6118:2014"
   ]
  },
  {
   "attachments": {},
   "cell_type": "markdown",
   "id": "8e9132cb",
   "metadata": {},
   "source": [
    "<img src=\"./images1/flecha_els.jpg\" alt=\"flecha excessiva\" style=\"width:300px\"/>"
   ]
  },
  {
   "attachments": {},
   "cell_type": "markdown",
   "id": "31ee11c4",
   "metadata": {},
   "source": [
    "<font size=\"-1\">Fonte: https://i.ytimg.com/vi/xRz5ApWTeK4/sddefault.jpg</font>"
   ]
  },
  {
   "attachments": {},
   "cell_type": "markdown",
   "id": "f2f917a9-9329-465e-8b58-b8da595961c7",
   "metadata": {
    "id": "f2f917a9-9329-465e-8b58-b8da595961c7"
   },
   "source": [
    "* Os estados limites de serviço a serem verificados são:\n",
    "<ol type=\"a\">\n",
    "  <li>estado limite de formação fissuras (ELS-F);</li>\n",
    "  <li>estado limite de abertura das fissuras (ELS-W);</li>\n",
    "  <li>estado-limite de deformações excessivas (ELS-D);</li>\n",
    "  <li>estado-limite de descompressão (ELS-D);</li>\n",
    "  <li>estado-limite de descompressão parcial (ELS-DP);</li>\n",
    "  <li>estado-limite de compressão excessiva (ELS-CE);</li>\n",
    "  <li>estado-limite de vibrações excessivas (ELS-VE).</li>\n",
    "</ol>"
   ]
  },
  {
   "attachments": {},
   "cell_type": "markdown",
   "id": "8302b6e2",
   "metadata": {},
   "source": [
    "## __1.2 - Solicitações normais__ <a name=\"section_12\"></a>"
   ]
  },
  {
   "attachments": {},
   "cell_type": "markdown",
   "id": "5ff56506",
   "metadata": {},
   "source": [
    "* As seções transversais de um elemento estrutural estão submetidas a solicitações.\n",
    "* Estas solicitações são classificadas como normais e tangenciais.\n",
    "* As solicitações normais, como o esforço normal e o momento fletor, dão origem a tensões normais nas seções."
   ]
  },
  {
   "attachments": {},
   "cell_type": "markdown",
   "id": "7bf856ff",
   "metadata": {},
   "source": [
    "<img src=\"./images1/normais.jpg\" alt=\"solicitações normais\" style=\"width:300px\"/>"
   ]
  },
  {
   "attachments": {},
   "cell_type": "markdown",
   "id": "409eacc5-78a9-47ea-93e9-3a7e9c3d8585",
   "metadata": {
    "id": "409eacc5-78a9-47ea-93e9-3a7e9c3d8585"
   },
   "source": [
    "* Por outro lado, as solicitações tangenciais, como o esforço cortante e o momento de torção, causam o aparecimento de tensões tangenciais nas seções"
   ]
  },
  {
   "attachments": {},
   "cell_type": "markdown",
   "id": "772c0d48",
   "metadata": {},
   "source": [
    "<img src=\"./images1/tangenciais.jpg\" alt=\"tangenciais\" style=\"width:300px\"/>"
   ]
  },
  {
   "attachments": {},
   "cell_type": "markdown",
   "id": "cbc08c8c-6d69-4a2d-8619-717624e9a325",
   "metadata": {
    "id": "cbc08c8c-6d69-4a2d-8619-717624e9a325"
   },
   "source": [
    "* Tradicionalmente, o dimensionamento das seções de concreto armado é feito por **grupo de solicitações**.\n",
    "* Assim, no caso de uma viga de concreto armado, cujas seções transversais estão submetidas a momento fletor e esforço cortante, tem-se **dois processos independentes de dimensionamento** para a seção: determina-se uma armadura longitudinal para resistir a solicitação correspondente ao momento fletor e, de forma independente, calcula-se uma armadura transversal para resistir ao esforço cortante.\n",
    "* Isto é feito por se ter uma **solicitação normal** (momento fletor) e uma **solicitação tangencial** (esforço cortante) atuando na seção."
   ]
  },
  {
   "attachments": {},
   "cell_type": "markdown",
   "id": "d0762ecd",
   "metadata": {},
   "source": [
    "<img src=\"./images1/flexao_cortante.jpg\" alt=\"flexao simples\" style=\"width:300px\"/>"
   ]
  },
  {
   "attachments": {},
   "cell_type": "markdown",
   "id": "61135cfa-05ca-492c-98d6-58875ace357d",
   "metadata": {
    "id": "61135cfa-05ca-492c-98d6-58875ace357d"
   },
   "source": [
    "* Já para um **pilar de concreto armado**, cujas seções estão submetidas a momento fletor e esforço normal, tem-se um **processo de dimensionamento único**, onde se determina uma armadura longitudinal para resistir a ação simultânea destas duas solicitações.\n",
    "* Neste caso se tem **duas solicitações do mesmo grupo** (das solicitações normais)."
   ]
  },
  {
   "attachments": {},
   "cell_type": "markdown",
   "id": "cfe35bba",
   "metadata": {},
   "source": [
    "<img src=\"./images1/pilar1.jpg\" alt=\"flexo-compressao\" style=\"width:300px\"/>"
   ]
  },
  {
   "attachments": {},
   "cell_type": "markdown",
   "id": "2f6cb82c-2963-4bbb-82e7-6b6035c55e84",
   "metadata": {
    "id": "2f6cb82c-2963-4bbb-82e7-6b6035c55e84"
   },
   "source": [
    "* Sempre que uma seção estiver submetida a um **momento fletor** se tem uma solicitação dita de **flexão**.\n",
    "* A solicitação de **flexão** pode ser classificada como **simples ou composta**.\n",
    "* Uma flexão é dita **simples** quando a **única solicitação normal atuante é o momento fletor**.\n",
    "* Uma flexão é chamada **composta** quando **atuam simultaneamente em uma seção um momento fletor e uma força normal** (de tração ou de compressão).\n"
   ]
  },
  {
   "attachments": {},
   "cell_type": "markdown",
   "id": "cb3e8786-74a7-41b8-8e89-70aa48428d8c",
   "metadata": {
    "id": "cb3e8786-74a7-41b8-8e89-70aa48428d8c"
   },
   "source": [
    "* A solicitação de **flexão**, seja simples ou composta, pode ser classificada, ainda, como **normal ou oblíqua**.\n",
    "* Uma flexão é chamada **normal** quando **o plano de flexão contém um eixo de simetria da seção**.\n",
    "* Uma flexão é dita **oblíqua** sempre que **a direção da linha neutra não pode ser determinada a priori**."
   ]
  },
  {
   "attachments": {},
   "cell_type": "markdown",
   "id": "b1a75ac9-58a6-44f2-a35c-5333d8bb11da",
   "metadata": {
    "id": "b1a75ac9-58a6-44f2-a35c-5333d8bb11da"
   },
   "source": [
    "* A figura abaixo mostra seções de concreto armado submetidas à **flexão oblíqua**.\n",
    "* Em (a), **o plano de ação do momento fletor** corta a seção transversal **segundo uma reta que não coincide com o seu plano de simetria**.\n",
    "* A flexão também é oblíqua, caso (b), quando **a seção não tem um eixo de simetria**."
   ]
  },
  {
   "attachments": {},
   "cell_type": "markdown",
   "id": "b44db252-fc2f-44ab-87ff-0dbc3eede541",
   "metadata": {
    "id": "b44db252-fc2f-44ab-87ff-0dbc3eede541"
   },
   "source": [
    "<img src=\"./images1/flexao_obliqua.jpg\" alt=\"flexao obliqua\" style=\"width:650px\"/>"
   ]
  },
  {
   "attachments": {},
   "cell_type": "markdown",
   "id": "54394f66-2e92-4185-a70b-09dee943aea2",
   "metadata": {
    "id": "54394f66-2e92-4185-a70b-09dee943aea2"
   },
   "source": [
    "* Nas estruturas de concreto armado, a **flexão composta oblíqua** aparece frequentemente no **cálculo de pilares**. \n",
    "* Este cálculo apresenta uma série de dificuldades, pois **a direção da linha neutra não é perpendicular ao plano de solicitação**. \n",
    "* Assim, **além da profundidade da linha neutra, tem-se outra incógnita que é a sua direção**.\n",
    "* Visando automatizar o cálculo nestas situações, apresenta-se, a seguir, **um processo geral** para **o dimensionamento e a verificação de seções poligonais de concreto armado submetidas à flexão oblíqua composta**."
   ]
  },
  {
   "attachments": {},
   "cell_type": "markdown",
   "id": "057fd94c",
   "metadata": {},
   "source": [
    "## __1.3 - Seção transversal poligonal. Integração pelo Teorema de Green__ <a name=\"section_13\"></a>"
   ]
  },
  {
   "attachments": {},
   "cell_type": "markdown",
   "id": "18f3c66e-38a4-4834-a6eb-6a72c377c6f3",
   "metadata": {
    "id": "18f3c66e-38a4-4834-a6eb-6a72c377c6f3"
   },
   "source": [
    "### Características geométricas de uma seção transversal poligonal."
   ]
  },
  {
   "attachments": {},
   "cell_type": "markdown",
   "id": "490badba",
   "metadata": {},
   "source": [
    "<img src=\"./images1/poligonal1.jpg\" alt=\"poligonal_1\" style=\"width:650px\"/>"
   ]
  },
  {
   "attachments": {},
   "cell_type": "markdown",
   "id": "1ee591c1-30db-40f2-82d0-e065dd3d4176",
   "metadata": {
    "id": "1ee591c1-30db-40f2-82d0-e065dd3d4176"
   },
   "source": [
    "* A seção de concreto é definida através de uma poligonal fechada, cujos vértices são dados em função de um sistema global de coordenadas X,Y e numerados no sentido anti-horário.\n",
    "* As barras de armadura são definidas como pontos no interior da seção de concreto, atribuindo-se a cada uma das quais uma percentagem da área total de armadura As."
   ]
  }
 ],
 "metadata": {
  "colab": {
   "name": "Capítulo_1.ipynb",
   "provenance": []
  },
  "kernelspec": {
   "display_name": "Python 3 (ipykernel)",
   "language": "python",
   "name": "python3"
  },
  "language_info": {
   "codemirror_mode": {
    "name": "ipython",
    "version": 3
   },
   "file_extension": ".py",
   "mimetype": "text/x-python",
   "name": "python",
   "nbconvert_exporter": "python",
   "pygments_lexer": "ipython3",
   "version": "3.8.5"
  }
 },
 "nbformat": 4,
 "nbformat_minor": 5
}
