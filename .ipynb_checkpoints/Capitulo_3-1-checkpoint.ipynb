{
 "cells": [
  {
   "cell_type": "markdown",
   "id": "1dc445f3-8f0f-41b7-a0fa-541467a1d3db",
   "metadata": {
    "id": "1dc445f3-8f0f-41b7-a0fa-541467a1d3db"
   },
   "source": [
    "### Universidade Federal do Rio Grande do Sul - UFRGS"
   ]
  },
  {
   "cell_type": "markdown",
   "id": "27d28d81-ad30-4559-b52d-0fee9ac96cae",
   "metadata": {
    "id": "27d28d81-ad30-4559-b52d-0fee9ac96cae"
   },
   "source": [
    "### Escola de Engenharia - EE"
   ]
  },
  {
   "cell_type": "markdown",
   "id": "103a5401-6849-4ee0-a254-08a7f684a870",
   "metadata": {
    "id": "103a5401-6849-4ee0-a254-08a7f684a870"
   },
   "source": [
    "### Programa de Pós-graduação em Engenharia Civil - PPGEC"
   ]
  },
  {
   "cell_type": "markdown",
   "id": "547b79f5-d7a3-4b02-8ce9-7c1647bff36b",
   "metadata": {
    "id": "547b79f5-d7a3-4b02-8ce9-7c1647bff36b"
   },
   "source": [
    "### Disciplina: Tópicos avançados em concreto - PEC00013"
   ]
  },
  {
   "cell_type": "markdown",
   "id": "189e93bb-f3e5-4536-9aec-d09046d6929b",
   "metadata": {
    "id": "189e93bb-f3e5-4536-9aec-d09046d6929b"
   },
   "source": [
    "### Professor: Dr. Mauro de Vasconcellos Real"
   ]
  },
  {
   "cell_type": "markdown",
   "id": "9187878f-2f69-43a6-9e66-d91991265288",
   "metadata": {},
   "source": [
    "# __Aula 03__"
   ]
  },
  {
   "cell_type": "markdown",
   "id": "ce78f794-4773-4210-bf0c-d89fd0e707f7",
   "metadata": {
    "id": "ce78f794-4773-4210-bf0c-d89fd0e707f7"
   },
   "source": [
    "## __Capítulo 3 - Dimensionamento e Verificação de Seções Poligonais de Concreto Armado Submetidas à Flexão Composta Oblíqua__ <a name=\"section_3\"></a>"
   ]
  },
  {
   "cell_type": "markdown",
   "id": "e4c7f828-335f-42ac-b316-e8fd6c4a263c",
   "metadata": {
    "id": "e4c7f828-335f-42ac-b316-e8fd6c4a263c"
   },
   "source": [
    "[3.1 - Conceitos fundamentais. O Método de Newton-Raphson](#section_31)"
   ]
  },
  {
   "cell_type": "markdown",
   "id": "d203a6e2",
   "metadata": {},
   "source": [
    "[3.2 - Algoritmo para o dimensionamento de uma seção](#section_32)"
   ]
  },
  {
   "cell_type": "markdown",
   "id": "5a4de045",
   "metadata": {},
   "source": [
    "[3.3 - Algoritmo para a verificação de uma seção](#section_33)"
   ]
  },
  {
   "cell_type": "markdown",
   "id": "63855435-7f10-490c-9416-7f55226f1d3b",
   "metadata": {},
   "source": [
    "[3.4 - Fluxograma do programa](#section_34)"
   ]
  },
  {
   "cell_type": "markdown",
   "id": "5bafba8c-efa5-4114-9f0e-603f32dbecc4",
   "metadata": {
    "id": "5bafba8c-efa5-4114-9f0e-603f32dbecc4"
   },
   "source": [
    "## __3.1 - Conceitos fundamentais. O Método de Newton-Raphson__ <a name=\"section_31\"></a>"
   ]
  },
  {
   "cell_type": "markdown",
   "id": "c727166c-3816-44c9-8755-2b00dc87991b",
   "metadata": {
    "id": "0b8c3d99-64a5-44e9-9200-89c81286e8e6",
    "tags": []
   },
   "source": [
    "### Conceitos fundamentais"
   ]
  },
  {
   "cell_type": "markdown",
   "id": "a4e11989-6f96-4dea-92b3-8f7259485a0d",
   "metadata": {
    "id": "0b8c3d99-64a5-44e9-9200-89c81286e8e6",
    "tags": []
   },
   "source": [
    "#### Dimensionamento de uma seção de concreto armado"
   ]
  },
  {
   "cell_type": "markdown",
   "id": "9d7e57d8-0f51-4c54-a16c-d2ea79e7051c",
   "metadata": {},
   "source": [
    "<img src=\"./images3/dimensionamento.jpg\" alt=\"dimensionamento da seção\" style=\"width:300px\"/>"
   ]
  },
  {
   "cell_type": "markdown",
   "id": "157432c3-c6ac-4105-b5b2-45e3ad381233",
   "metadata": {
    "id": "157432c3-c6ac-4105-b5b2-45e3ad381233",
    "tags": []
   },
   "source": [
    "* O problema do dimensionamento de uma dada seção de concreto armado (geometria e distribuição relativa de armadura conhecidas) consiste em estabelecer a área de armadura que corresponda a uma situação de equivalência entre os esforços atuantes e os esforços resistentes."
   ]
  },
  {
   "cell_type": "markdown",
   "id": "c4b91d81-ade1-4885-839d-b12d227abfbe",
   "metadata": {},
   "source": [
    "#### Verificação de uma seção de concreto armado"
   ]
  },
  {
   "cell_type": "markdown",
   "id": "00e81240-6b98-4ed1-922d-9f511b59de15",
   "metadata": {},
   "source": [
    "<img src=\"./images3/verificacao.jpg\" alt=\"verificação da seção\" style=\"width:300px\"/>"
   ]
  },
  {
   "cell_type": "markdown",
   "id": "337e9735-306a-4df6-803d-888b520828cf",
   "metadata": {
    "tags": []
   },
   "source": [
    "* Por outro lado, o problema da verificação de uma seção de concreto armado busca determinar um fator de proporcionalidade $\\lambda$ entre os esforços atuantes e os esforços resistentes para uma dada área de armadura. \n",
    "\n",
    "* Para que uma seção transversal esteja em segurança é necessário que o fator $\\lambda$ seja menor que $1,00$.\n",
    "\n",
    "* Tanto o dimensionamento, como a verificação, serão realizados para o estado limite último da seção, conforme as recomendações da NBR-6118 (2014)."
   ]
  },
  {
   "cell_type": "markdown",
   "id": "b4d44405-026a-49eb-b4c9-86217c826256",
   "metadata": {},
   "source": [
    "#### Solução do sistema de equações não-lineares"
   ]
  },
  {
   "cell_type": "markdown",
   "id": "a70fd56a-820f-489d-9426-5b36535c5541",
   "metadata": {
    "tags": []
   },
   "source": [
    "* O processo de dimensionamento e verificação envolve a resolução de um sistema de três equações não-lineares com três incógnitas, da seguinte forma geral:"
   ]
  },
  {
   "cell_type": "markdown",
   "id": "d977b067-a747-4dad-8e48-82911a709aed",
   "metadata": {},
   "source": [
    "$$ \\left\\{ \\begin{array}{rl} f(x,y,z) & = 0 \\\\ g(x,y,z) & = 0 \\\\ h(x,y,z) &= 0 \\end{array} \\right.  $$"
   ]
  },
  {
   "cell_type": "markdown",
   "id": "6f1c016f-075c-4e0d-848b-ac908d37f996",
   "metadata": {},
   "source": [
    "onde $f, g , h$ são funções não-lineares das variáveis $x,y,z$."
   ]
  },
  {
   "cell_type": "markdown",
   "id": "d8f9a33e-c31c-410b-acaf-6aec50ab9c54",
   "metadata": {
    "tags": []
   },
   "source": [
    "* Este sistema de equações deve ser resolvido por um processo iterativo, através de um dos métodos de resolução de sistemas de equações não-lineares existentes."
   ]
  },
  {
   "cell_type": "markdown",
   "id": "41415329-6441-471f-bb44-3795796bc128",
   "metadata": {
    "tags": []
   },
   "source": [
    "* Neste trabalho, o procedimento utilizado é o do método de Newton-Raphson"
   ]
  },
  {
   "cell_type": "markdown",
   "id": "8aca6003-2827-46b6-9ede-42e4991ef3f0",
   "metadata": {},
   "source": [
    "### O Método de Newton-Raphson"
   ]
  },
  {
   "cell_type": "markdown",
   "id": "4c3f97ff-97af-4ce8-9cfb-ebd03c1514fa",
   "metadata": {},
   "source": [
    "#### Solução de equação não-linear"
   ]
  },
  {
   "cell_type": "markdown",
   "id": "84efb6a8-1a04-4486-b4c0-55e7936f6297",
   "metadata": {
    "tags": []
   },
   "source": [
    "* O método de Newton-Raphson pode ser empregado para resolver uma equação não-linear do tipo:"
   ]
  },
  {
   "cell_type": "markdown",
   "id": "a86fabd5-8ade-4c99-a109-afd1307722cc",
   "metadata": {},
   "source": [
    "$$ f(x) = 0 $$"
   ]
  },
  {
   "cell_type": "markdown",
   "id": "d42c15e8-7257-4a1b-86f3-ae1771bccd06",
   "metadata": {},
   "source": [
    "onde $f$ é uma função qualquer. Encontrar a solução desta equação não-linear significa determinar o valor de $x$ que satisfaça a condição expressa acima."
   ]
  },
  {
   "cell_type": "markdown",
   "id": "c2255bc1-7651-47ec-985c-49da098a23ab",
   "metadata": {},
   "source": [
    "* Sabe-se que uma função de uma variável pode ser calculada através de sua expansão em\n",
    "uma série de Taylor da forma:"
   ]
  },
  {
   "cell_type": "markdown",
   "id": "55028132-4b62-4539-b845-f4784a8ed880",
   "metadata": {
    "tags": []
   },
   "source": [
    "$$ f(x) = f(x_0) + (x-x_0)f^{\\prime}(x_0) + \\frac{(x-x_0)^2}{2!}f^{\\prime\\prime}(x_0)+...+\\frac{(x-x_0)^{n-1}}{(n-1)!} f^{(n-1)}(x_0) + R_n(x) $$"
   ]
  },
  {
   "cell_type": "markdown",
   "id": "457d5165-2d03-4042-a856-63123c84c643",
   "metadata": {},
   "source": [
    "Truncando-se esta série no segundo termo, pode-se escrever que o valor de f(x) é dado aproximadamente por:"
   ]
  },
  {
   "cell_type": "markdown",
   "id": "287f1af5-5ff5-4cd3-b5f4-ad2da4a8b297",
   "metadata": {},
   "source": [
    "$$ f(x) \\cong  f(x_0) + (x-x_0)f^{\\prime}(x_0) $$"
   ]
  },
  {
   "cell_type": "markdown",
   "id": "d2e40ee9-34f4-48bd-88b2-233f9c8eef10",
   "metadata": {},
   "source": [
    "Pode-se escrever, então, que"
   ]
  },
  {
   "cell_type": "markdown",
   "id": "ca810316-be5d-4819-ba5b-9aec0a302580",
   "metadata": {},
   "source": [
    "$$ f(x_0) + (x-x_0)f(x_0) \\cong 0 $$"
   ]
  },
  {
   "cell_type": "markdown",
   "id": "d929fb73-b096-41c6-a4ac-bb583306297a",
   "metadata": {},
   "source": [
    "Ou, rearranjando os termos:"
   ]
  },
  {
   "cell_type": "markdown",
   "id": "0ae3cbd9-b732-4d66-99a3-fdfa4c6ba89a",
   "metadata": {},
   "source": [
    "$$ x = x_0 - \\frac{f(x_0)}{f^{\\prime}(x_0)} = x_1 $$"
   ]
  },
  {
   "cell_type": "markdown",
   "id": "09043608-4724-48b8-94dd-db78350e9f71",
   "metadata": {},
   "source": [
    "onde $x_1$ é uma primeira aproximação do valor de $x$. Pode-se determinar valores para $x$, na precisão desejada, reutilizando-se a expressão acima tantas vezes quantas forem necessárias:"
   ]
  },
  {
   "cell_type": "markdown",
   "id": "998f3edf-c6eb-454b-9765-7406186886ce",
   "metadata": {},
   "source": [
    "$$\n",
    "\\begin{array}{ll}\n",
    "   x_{1} &= x_0 - \\frac{f(x_0)}{f^{\\prime}(x_0)} \\\\\n",
    "   x_{2} &= x_1 - \\frac{f(x_1)}{f^{\\prime}(x_1)} \\\\\n",
    "   x_{3} &= x_2 - \\frac{f(x_2)}{f^{\\prime}(x_2)} \\\\\n",
    "   & \\vdots & \\\\\n",
    "   x_{i+1} &= x_i - \\frac{f(x_i)}{f^{\\prime}(x_i)}\n",
    "\\end{array}\n",
    "$$"
   ]
  },
  {
   "cell_type": "markdown",
   "id": "7a715234-c230-4083-bbeb-486ff7e3ebbe",
   "metadata": {},
   "source": [
    "O valor de $x_i$ estará suficientemente próximo da solução procurada, quando:"
   ]
  },
  {
   "cell_type": "markdown",
   "id": "d26ca9cc-9b1c-4dc9-99c3-f6b7c9cb197b",
   "metadata": {},
   "source": [
    "$$ x_i \\cong x_{i-1} \\; \\text{ou} \\; f(x_i) \\cong 0 $$"
   ]
  },
  {
   "cell_type": "markdown",
   "id": "42718b6d-8a94-4ed4-816d-689dc4d032b8",
   "metadata": {},
   "source": [
    "<img src=\"./images3/newton-raphson.jpg\" alt=\"método de Newton-Raphson\" style=\"width:300px\"/>"
   ]
  },
  {
   "cell_type": "markdown",
   "id": "8799aab7-de05-4a6e-a3b0-9a859ff6270c",
   "metadata": {},
   "source": [
    "#### Solução de sistema de equações não-lineares"
   ]
  },
  {
   "cell_type": "markdown",
   "id": "ed1de2cc-ead2-4338-9ac0-d17d4dfc216a",
   "metadata": {
    "tags": []
   },
   "source": [
    "* O método de Newton-Raphson pode ser também aplicado para encontrar a solução de um __sistema de duas equações não-lineares__"
   ]
  },
  {
   "cell_type": "markdown",
   "id": "b055706d-40ca-4b8d-83b0-9cfeaeff15b7",
   "metadata": {},
   "source": [
    "$$ \\left\\{ \\begin{array}{rl} f(x,y) & = 0 \\\\ g(x,y) & = 0 \\end{array} \\right.  $$"
   ]
  },
  {
   "cell_type": "markdown",
   "id": "10cf0598-0c6a-4c72-8f9d-4ab47a25f8f2",
   "metadata": {},
   "source": [
    "* As fórmulas de Taylor, para estas funções de duas variáveis, podem ser escritas como"
   ]
  },
  {
   "cell_type": "markdown",
   "id": "77d63489-31a0-40f7-8fe1-44eb4d7516fe",
   "metadata": {},
   "source": [
    "$$ \\left\\{ \\begin{array}{rl} f(x,y) & = f(x_0,y_0) + f_x(x_0,y_0)(x-x_0) + f_y(x_0,y_0)(y-y_0) + R_{f2}(x,y) \\\\ g(x,y) & = g(x_0,y_0) + g_x(x_0,y_0)(x-x_0) + g_y(x_0,y_0)(y-y_0) + R_{g2}(x,y) \\end{array} \\right.  $$"
   ]
  },
  {
   "cell_type": "markdown",
   "id": "c1c4233f-2b8f-4aca-83fc-a584db235f52",
   "metadata": {},
   "source": [
    "onde:"
   ]
  },
  {
   "cell_type": "markdown",
   "id": "85bc9cac-e9a4-442d-892f-89cbf16f53d8",
   "metadata": {},
   "source": [
    "$$ f_x = \\frac{\\partial{f}}{\\partial{x}}, \\; f_y = \\frac{\\partial{f}}{\\partial{y}}, \\;g_x = \\frac{\\partial{g}}{\\partial{x}}, \\;g_y = \\frac{\\partial{g}}{\\partial{y}} $$"
   ]
  },
  {
   "cell_type": "markdown",
   "id": "f5b67f09-c601-400f-8556-beabf526f414",
   "metadata": {},
   "source": [
    "Pode-se escrever que:"
   ]
  },
  {
   "cell_type": "markdown",
   "id": "59fe48a2-58c9-4a98-b95e-112b9dc56668",
   "metadata": {},
   "source": [
    "$$ \\left\\{ \\begin{array}{rl} f(x,y) & \\cong f(x_0,y_0) + f_x(x_0,y_0)(x-x_0) + f_y(x_0,y_0)(y-y_0) \\\\ g(x,y) & \\cong g(x_0,y_0) + g_x(x_0,y_0)(x-x_0) + g_y(x_0,y_0)(y-y_0) \\end{array} \\right.  $$"
   ]
  },
  {
   "cell_type": "markdown",
   "id": "8c6281eb-5671-468f-8ee0-6f73bb976cc1",
   "metadata": {},
   "source": [
    "Donde vem que:"
   ]
  },
  {
   "cell_type": "markdown",
   "id": "ac5f5c69-065a-405c-ab00-a025f616ca20",
   "metadata": {},
   "source": [
    "$$ \\left\\{ \\begin{array}{rl} f(x_0,y_0) + f_x(x_0,y_0)(x-x_0) + f_y(x_0,y_0)(y-y_0) & \\cong 0 \\\\ g(x_0,y_0) + g_x(x_0,y_0)(x-x_0) + g_y(x_0,y_0)(y-y_0) & \\cong 0 \\end{array} \\right.  $$"
   ]
  },
  {
   "cell_type": "markdown",
   "id": "64518190-c045-4bb9-86ab-1a3cc5910308",
   "metadata": {},
   "source": [
    "Ou"
   ]
  },
  {
   "cell_type": "markdown",
   "id": "8f5596ab-5d0e-4e3c-8190-f753422fd9ce",
   "metadata": {},
   "source": [
    "$$ \\left\\{ \\begin{array}{rl} f_x(x_0,y_0)(x-x_0) + f_y(x_0,y_0)(y-y_0) & \\cong - f(x_0,y_0) \\\\ g_x(x_0,y_0)(x-x_0) + g_y(x_0,y_0)(y-y_0) & \\cong -g(x_0,y_0) \\end{array} \\right.  $$"
   ]
  },
  {
   "cell_type": "markdown",
   "id": "0d710d73-28b1-4ae5-a36e-f5bc0dd3f8ad",
   "metadata": {},
   "source": [
    "* Na forma matricial, a expressão acima pode ser escrita como:"
   ]
  },
  {
   "cell_type": "markdown",
   "id": "59351d3d-1a4e-4d79-a96a-f4955f43af94",
   "metadata": {},
   "source": [
    "$$ \n",
    "\\begin{bmatrix}\n",
    "f_x & f_y \\\\\n",
    "g_x & g_y \n",
    "\\end{bmatrix} \n",
    "\\begin{Bmatrix}\n",
    "\\Delta x \\\\\n",
    "\\Delta y \n",
    "\\end{Bmatrix} \n",
    "= \n",
    "\\begin{Bmatrix}\n",
    "-f \\\\ \n",
    "-g \n",
    "\\end{Bmatrix}\n",
    "$$"
   ]
  },
  {
   "cell_type": "markdown",
   "id": "04b19939-e7f8-4f70-a073-aa1e606fa595",
   "metadata": {},
   "source": [
    "onde:"
   ]
  },
  {
   "cell_type": "markdown",
   "id": "1c2bfbea-f6cf-44a4-b09f-ca98b7435252",
   "metadata": {},
   "source": [
    "$$ \\Delta x = x - x_0 \\; \\text{e} \\; \\Delta y = y - y_0 $$"
   ]
  },
  {
   "cell_type": "markdown",
   "id": "61cf36df-60c8-417d-809f-19308445ae72",
   "metadata": {},
   "source": [
    "* A convergência é obtida para $\\Delta x$, $\\Delta x$ suficientemente pequenos ou"
   ]
  },
  {
   "cell_type": "markdown",
   "id": "39892b26-49bd-4b5e-ab2e-f00c0ce5592e",
   "metadata": {},
   "source": [
    "$$ f(x_i,y_i) \\cong 0 \\; \\text{e} \\; g(x_i,y_i) \\cong 0 $$"
   ]
  },
  {
   "cell_type": "markdown",
   "id": "0f5b4cda-71df-4dd7-8a9f-807d11015925",
   "metadata": {},
   "source": [
    "#### Solução de sistema de  três equações não-lineares"
   ]
  },
  {
   "cell_type": "markdown",
   "id": "77ba3002-027a-46e0-ba55-78e8b3daeacc",
   "metadata": {},
   "source": [
    "* Para a solução de um sistema de três equações não-lineares com três incógnitas da forma:"
   ]
  },
  {
   "cell_type": "markdown",
   "id": "255c24a4-2a6d-4108-84d7-bb82bca1f0f8",
   "metadata": {},
   "source": [
    "$$ \\left\\{ \\begin{array}{rl} f(x,y,z) & = 0 \\\\ g(x,y,z) & = 0 \\\\ h(x,y,z) &= 0 \\end{array} \\right.  $$"
   ]
  },
  {
   "cell_type": "markdown",
   "id": "f73d1883-1e70-4de9-921a-da5a5cc0d593",
   "metadata": {},
   "source": [
    "que é a situação que aparece nos problemas de dimensionamento e de verificação, abordados neste trabalho, também pode-se recorrer ao __método de Newton-Raphson__."
   ]
  },
  {
   "cell_type": "markdown",
   "id": "1b7fa296-5f21-4bb8-ba14-a8e5503e01f4",
   "metadata": {},
   "source": [
    "* Assim, de forma análoga às situações anteriores, a solução do problema não-linear é alcançada pela solução de uma série de sistemas de equações lineares do tipo:"
   ]
  },
  {
   "cell_type": "markdown",
   "id": "edd51354-7204-4f8e-a439-022f52203e65",
   "metadata": {},
   "source": [
    "$$ \n",
    "\\begin{bmatrix}\n",
    "f_x & f_y & f_z \\\\\n",
    "g_x & g_y & g_z \\\\\n",
    "h_x & h_y & h_z\n",
    "\\end{bmatrix} \n",
    "\\begin{Bmatrix}\n",
    "\\Delta x \\\\\n",
    "\\Delta y \\\\\n",
    "\\Delta z\n",
    "\\end{Bmatrix} \n",
    "= \n",
    "\\begin{Bmatrix}\n",
    "-f \\\\ \n",
    "-g  \\\\\n",
    "-h\n",
    "\\end{Bmatrix}\n",
    "$$"
   ]
  },
  {
   "cell_type": "markdown",
   "id": "3483a30a-5832-4b2c-a603-15a790c7a372",
   "metadata": {},
   "source": [
    "* Ou abreviadamente:"
   ]
  },
  {
   "cell_type": "markdown",
   "id": "c8d3ced0-9a70-4163-84c8-f7175c85bd29",
   "metadata": {},
   "source": [
    "$$ \\left[K(\\{u\\}_i)\\right]\\{\\Delta u\\}_i = \\{\\Delta p \\}_i $$"
   ]
  },
  {
   "cell_type": "markdown",
   "id": "f3b9e05b-9627-450b-95bb-46e98c485e8f",
   "metadata": {
    "tags": []
   },
   "source": [
    "## __3.2 - Algoritmo para o dimensionamento de uma seção__ <a name=\"section_32\"></a>"
   ]
  },
  {
   "cell_type": "markdown",
   "id": "62d47eb9-eef2-4509-b5ee-d1603688e826",
   "metadata": {
    "tags": []
   },
   "source": [
    "### Sistema de equações de equilíbrio para o dimensionamento"
   ]
  },
  {
   "cell_type": "markdown",
   "id": "a37742b2-60bd-4d48-8d7f-23be21e8f5de",
   "metadata": {},
   "source": [
    "* No problema de dimensionamento, o sistema de equações de equilíbrio a resolver é:"
   ]
  },
  {
   "cell_type": "markdown",
   "id": "9668b461-1b9f-44ee-b1b4-d7d7c10a33cc",
   "metadata": {},
   "source": [
    "$$ \\left\\{ \\begin{array}{rl} f(x,\\alpha,A_s) & =M_{Rxd}(x,\\alpha,A_s) -  M_{Axd} & = 0 \\\\ g(x,\\alpha,A_s) & = M_{Ryd}(x,\\alpha,A_s) - M_{Ayd} & = 0 \\\\ h(x,\\alpha,A_s) & = N_{Rd}(x,\\alpha,A_s) - N_{Ad} & = 0 \\end{array} \\right.  $$"
   ]
  },
  {
   "cell_type": "markdown",
   "id": "2c1f17c5",
   "metadata": {},
   "source": [
    "onde $M_{Axd}, M_{Ayd}, N_{Ad}$ são os esforços atuantes de cálculo na seção; $M_{Rxd}, M_{Ryd}, N_{Rd}$ são os esforços resistentes de cálculo da seção, determinados em função dos três parâmetros $x, \\alpha, A_s$ (profundidade da linha neutra, inclinação da linha neutra, área total da armadura, respectivamente)."
   ]
  },
  {
   "cell_type": "markdown",
   "id": "068501ab-40d5-45cd-9342-b46c57f0ff10",
   "metadata": {},
   "source": [
    "* A matriz $[K(\\{u\\}_i)]$ é composta pelas derivadas parciais dos esforços resistentes em relação aos parâmetros $x, \\alpha, A_s$, já que os esforços atuantes são constantes."
   ]
  },
  {
   "cell_type": "markdown",
   "id": "3ce10ef1-19c0-4f85-9758-3e611f381e70",
   "metadata": {},
   "source": [
    "* Assim, o sistema de três equações lineares a ser resolvido em cada iteração é"
   ]
  },
  {
   "cell_type": "markdown",
   "id": "32c0aa48-3caf-4492-8817-3435f9692bd7",
   "metadata": {},
   "source": [
    "$$ \n",
    "\\begin{bmatrix}\n",
    "\\frac{\\partial{M_{Rxd}}}{\\partial{x}} & \\frac{\\partial{M_{Rxd}}}{\\partial{\\alpha}} & \\frac{\\partial{M_{Rxd}}}{\\partial{A_s}} \\\\\n",
    "\\frac{\\partial{M_{Ryd}}}{\\partial{x}} & \\frac{\\partial{M_{Ryd}}}{\\partial{\\alpha}} & \\frac{\\partial{M_{Ryd}}}{\\partial{A_s}} \\\\\n",
    "\\frac{\\partial{N_{Rd}}}{\\partial{x}} & \\frac{\\partial{N_{Rd}}}{\\partial{\\alpha}} & \\frac{\\partial{N_{Rd}}}{\\partial{A_s}} \\\\\n",
    "\\end{bmatrix} \n",
    "\\begin{Bmatrix}\n",
    "\\Delta x \\\\\n",
    "\\Delta \\alpha \\\\\n",
    "\\Delta A_s\n",
    "\\end{Bmatrix} \n",
    "= \n",
    "\\begin{Bmatrix}\n",
    "M_{Axd}-M_{Rxd} \\\\ \n",
    "M_{Ayd} - M_{Ryd} \\\\\n",
    "N_{Ad} - N_{Rd}\n",
    "\\end{Bmatrix}\n",
    "$$"
   ]
  },
  {
   "cell_type": "markdown",
   "id": "b37371d4-5c6e-4f8e-87ea-07fafc79d9d3",
   "metadata": {},
   "source": [
    "### Algoritmo para o dimensionamento de uma seção"
   ]
  },
  {
   "cell_type": "markdown",
   "id": "2faf0b66-ed18-46e3-b7a4-f6e4a8075dc9",
   "metadata": {},
   "source": [
    "* Para o dimensionamento de uma seção de concreto armado, deve-se definir:"
   ]
  },
  {
   "cell_type": "markdown",
   "id": "7c4f021b-12f5-45b5-acee-900dbd4f5e72",
   "metadata": {},
   "source": [
    "__(a)__ a geometria da seção (coordenadas dos vértices da poligonal fechada; coordenadas das barras e suas respectivas percentagens em relação à área total);\n",
    "\n",
    "__(b)__ as propriedades do concreto e do aço;\n",
    "\n",
    "__(c)__ os esforços atuantes: $M_{Axd}, M_{Ayd}, N_{Ad}$."
   ]
  },
  {
   "cell_type": "markdown",
   "id": "0dce946c-011e-409a-b833-225354fb47f5",
   "metadata": {},
   "source": [
    "Conhecidos estes valores, o procedimento para o dimensionamento da seção tem os seguintes passos:"
   ]
  },
  {
   "cell_type": "markdown",
   "id": "0830057c-cd68-4355-9572-e21b57f2e1d5",
   "metadata": {},
   "source": [
    "__1.__ arbitram-se valores para $x, \\alpha$ e $A_s$;"
   ]
  },
  {
   "cell_type": "markdown",
   "id": "717991f6-c278-44f5-a684-189d59a5be58",
   "metadata": {},
   "source": [
    "__2.__ determinam-se $M_{Rxd}, M_{Ryd} e N_{Rd}$ e a matriz de derivadas parciais $[K]$;"
   ]
  },
  {
   "cell_type": "markdown",
   "id": "7fcbc790-f1fb-4f4f-9715-eb4b6f27ccb2",
   "metadata": {},
   "source": [
    "__3.__ calcula-se o vetor de desequilíbrio:"
   ]
  },
  {
   "cell_type": "markdown",
   "id": "7fac13ac-a152-43d9-987c-9a10fe593216",
   "metadata": {},
   "source": [
    "$$ \n",
    "\\{\\Delta p\\}_i\n",
    "=\n",
    "\\begin{Bmatrix}\n",
    "\\Delta M_x \\\\\n",
    "\\Delta M_y \\\\\n",
    "\\Delta N\n",
    "\\end{Bmatrix} \n",
    "= \n",
    "\\begin{Bmatrix}\n",
    "M_{Axd}-M_{Rxd} \\\\ \n",
    "M_{Ayd} - M_{Ryd} \\\\\n",
    "N_{Ad} - N_{Rd}\n",
    "\\end{Bmatrix}\n",
    "$$"
   ]
  },
  {
   "cell_type": "markdown",
   "id": "de2517b1-d2dc-4d57-97d3-5f9140bd58cf",
   "metadata": {},
   "source": [
    "__4.__ verifica-se a convergência por:"
   ]
  },
  {
   "cell_type": "markdown",
   "id": "963df698-6909-47be-ba33-26f8ca65c6d6",
   "metadata": {},
   "source": [
    "$$\\left[ \\frac{\\Delta M_x^2 + \\Delta M_y^2 + \\Delta N^2}{M_{Axd}^2 + M_{Ayd}^2 + N_{Ad}^2}\\right] \\le toler $$"
   ]
  },
  {
   "cell_type": "markdown",
   "id": "60e65dee-5eb0-495a-ba26-3075a5e84357",
   "metadata": {},
   "source": [
    "onde $toler$ é a tolerância adotada no processo de solução, normalmente igual a $1\\%$."
   ]
  },
  {
   "cell_type": "markdown",
   "id": "f6a68377-3ff4-4a26-ac0d-b65d86162b6a",
   "metadata": {},
   "source": [
    "__5.__ caso a condição acima seja satisfeita, vai-se para o item __(9)__, senão segue-se para __(6)__;"
   ]
  },
  {
   "cell_type": "markdown",
   "id": "688d8525-b1f5-451f-a16c-64b049bd0151",
   "metadata": {},
   "source": [
    "__6.__ resolve-se o sistema de equações lineares:"
   ]
  },
  {
   "cell_type": "markdown",
   "id": "f381aae7-bea5-432e-b0e8-961b37a7d811",
   "metadata": {},
   "source": [
    "$$ \\{\\Delta u\\}_i = [K]^{-1} \\{\\Delta p\\}_i $$"
   ]
  },
  {
   "cell_type": "markdown",
   "id": "20827a58-184a-40a0-8ddd-6c3195dbba64",
   "metadata": {},
   "source": [
    "__7.__ determinam-se $x, \\alpha$ e $As$:"
   ]
  },
  {
   "cell_type": "markdown",
   "id": "59e8ef8c-d3de-47b4-bb64-2cd8319a6bca",
   "metadata": {},
   "source": [
    "$$ \n",
    "\\{u\\}_{i+1}\n",
    "=\n",
    "\\begin{Bmatrix}\n",
    "x \\\\\n",
    "\\alpha \\\\\n",
    "A_s\n",
    "\\end{Bmatrix}_{i+1} \n",
    "=\n",
    "\\begin{Bmatrix}\n",
    "x \\\\\n",
    "\\alpha \\\\\n",
    "A_s\n",
    "\\end{Bmatrix}_{i}\n",
    "+\n",
    "\\begin{Bmatrix}\n",
    "\\Delta x \\\\\n",
    "\\Delta \\alpha \\\\\n",
    "\\Delta A_s\n",
    "\\end{Bmatrix} \n",
    "$$"
   ]
  },
  {
   "cell_type": "markdown",
   "id": "92e52886-206d-4d88-b5a8-5e39c827f921",
   "metadata": {},
   "source": [
    "__8.__ retorna-se ao item __(2)__;"
   ]
  },
  {
   "cell_type": "markdown",
   "id": "b85371bd-1d26-42d8-ab14-6d9f34156b47",
   "metadata": {},
   "source": [
    "__9.__ final do dimensionamento: valores de $x, \\alpha$ e $A_s$ conhecidos."
   ]
  },
  {
   "cell_type": "markdown",
   "id": "9b705a7a-79e9-47e9-9d0b-dbf08bfcbd71",
   "metadata": {},
   "source": [
    "* O __método de Newton-Raphson__ tem, em geral, __uma convergência muito rápida__. Entretanto, dependendo dos valores iniciais arbitrados, __o processo pode divergir__. Por isso, é importante ter-se no programa computacional __um controle__, que __reinicie o processo, com novos valores arbitrados__, no caso de haver divergência."
   ]
  },
  {
   "cell_type": "markdown",
   "id": "4e3eb7d3-b94e-42a7-9967-eb43d228c585",
   "metadata": {
    "id": "4e3eb7d3-b94e-42a7-9967-eb43d228c585",
    "tags": []
   },
   "source": [
    "## __3.3 - Algoritimo para a verificação de uma seção__ <a name=\"section_33\"></a>"
   ]
  },
  {
   "cell_type": "markdown",
   "id": "c01c1e54-378e-424d-aeeb-2a86874586f0",
   "metadata": {},
   "source": [
    "### Sistema de equações de equilíbrio para a verificação da seção"
   ]
  },
  {
   "cell_type": "markdown",
   "id": "7065912c-3a9a-4b83-b0e4-70780dd88b5d",
   "metadata": {},
   "source": [
    "* Já na verificação, a armadura total As é conhecida e o sistema de equações a ser resolvido é do tipo:"
   ]
  },
  {
   "cell_type": "markdown",
   "id": "f7f28d25-1188-4bd4-9d6c-8ce14f931663",
   "metadata": {},
   "source": [
    "$$ \\left\\{ \\begin{array}{rl} f(x,\\alpha,\\lambda) & = \\lambda M_{Rxd}(x,\\alpha) - M_{Axd}  & = 0 \\\\ g(x,\\alpha,\\lambda) & = \\lambda M_{Ryd}(x,\\alpha) - M_{Ayd}  & = 0 \\\\ h(x,\\alpha,\\lambda) & = \\lambda N_{Rd}(x,\\alpha) - N_{Ad} & = 0 \\end{array} \\right.  $$"
   ]
  },
  {
   "cell_type": "markdown",
   "id": "8a475c3e-74af-4e1e-9ecd-c6f1df739553",
   "metadata": {},
   "source": [
    "onde $M_{Axd}, M_{Ayd}, N_{Ad}$ são os esforços atuantes de cálculo na seção; $M_{Rxd}, M_{Ryd}, N_{Rd}$ são os esforços resistentes de cálculo da seção, determinados em função dos dois parâmetros $x, \\alpha$ (profundidade da linha neutra e inclinação da linha neutra). \n",
    "* O parâmetro $\\lambda$ é o fator de proporcionalidade entre os esforços atuantes e resistentes."
   ]
  },
  {
   "cell_type": "markdown",
   "id": "11caeb55-fe84-4c86-b723-0617864bfc4b",
   "metadata": {},
   "source": [
    "* O sistema de equações lineares, que deve ser resolvido em cada iteração, passa a ser:"
   ]
  },
  {
   "cell_type": "markdown",
   "id": "8234314a-2927-407a-b860-18741ee59f5c",
   "metadata": {},
   "source": [
    "$$ \n",
    "\\begin{bmatrix}\n",
    "\\lambda \\frac{\\partial{M_{Rxd}}}{\\partial{x}} & \\lambda \\frac{\\partial{M_{Rxd}}}{\\partial{\\alpha}} & M_{Rxd} \\\\\n",
    "\\lambda \\frac{\\partial{M_{Ryd}}}{\\partial{x}} & \\lambda \\frac{\\partial{M_{Ryd}}}{\\partial{\\alpha}} & M_{Ryd} \\\\\n",
    "\\lambda \\frac{\\partial{N_{Rd}}}{\\partial{x}} & \\lambda \\frac{\\partial{N_{Rd}}}{\\partial{\\alpha}} & N_{Rd} \\\\\n",
    "\\end{bmatrix} \n",
    "\\begin{Bmatrix}\n",
    "\\Delta x \\\\\n",
    "\\Delta \\alpha \\\\\n",
    "\\Delta \\lambda\n",
    "\\end{Bmatrix} \n",
    "= \n",
    "\\begin{Bmatrix}\n",
    "M_{Axd}- \\lambda M_{Rxd} \\\\ \n",
    "M_{Ayd} - \\lambda M_{Ryd} \\\\\n",
    "N_{Ad} - \\lambda N_{Rd}\n",
    "\\end{Bmatrix}\n",
    "$$"
   ]
  },
  {
   "cell_type": "markdown",
   "id": "4fe9e6c4-d3e0-4959-bb85-91022f43ba68",
   "metadata": {},
   "source": [
    "onde:"
   ]
  },
  {
   "cell_type": "markdown",
   "id": "3c033f93-62c9-4a30-91b2-51d980b6262d",
   "metadata": {},
   "source": [
    "$$ \\lambda = \\frac{M_{Axd}}{M_{Rxd}} = \\frac{M_{Ayd}}{M_{Ryd}} = \\frac{N_{Ad}}{N_{Rd}} $$"
   ]
  },
  {
   "cell_type": "markdown",
   "id": "612d9b7d-500d-47c6-afa1-ad64c372f4ef",
   "metadata": {},
   "source": [
    "### Algoritmo para a verificação de uma seção"
   ]
  },
  {
   "cell_type": "markdown",
   "id": "ea546fb4-6ab6-46e6-9c32-756dc83cf077",
   "metadata": {},
   "source": [
    "* Para a verificação de uma seção de concreto armado, os valores inicialmente conhecidos são:"
   ]
  },
  {
   "cell_type": "markdown",
   "id": "ac82e6fc-ca18-4ea8-b304-a0e899c3f847",
   "metadata": {},
   "source": [
    "__(a)__ a geometria da seção (coordenadas dos vértices da poligonal fechada; coordenadas das barras e suas respectivas percentagens em relação à área total);\n",
    "\n",
    "__(b)__ as propriedades do concreto e do aço;\n",
    "\n",
    "__(d)__ a área total de armadura $A_s$.\n",
    "\n",
    "__(c)__ os esforços atuantes: $M_{Axd}, M_{Ayd}, N_{Ad}$."
   ]
  },
  {
   "cell_type": "markdown",
   "id": "c6c48b7f-86c3-46f9-b576-e39ad507638d",
   "metadata": {},
   "source": [
    "* O objetivo da verificação é determinar o fator de proporcionalidade $\\lambda$ entre os esforços atuantes e resistentes."
   ]
  },
  {
   "cell_type": "markdown",
   "id": "a2c52e70-d2c9-4586-891a-f3f92e3e64c5",
   "metadata": {
    "tags": []
   },
   "source": [
    "* A partir dos dados do problema, o procedimento para a verificação da seção tem as seguintes etapas:"
   ]
  },
  {
   "cell_type": "markdown",
   "id": "7dcaa54d-adc2-4b97-a7d7-f7e637b1cb13",
   "metadata": {},
   "source": [
    "__1.__ arbitram-se valores iniciais para $x, \\alpha$ e $\\lambda$;"
   ]
  },
  {
   "cell_type": "markdown",
   "id": "21b5dafb-dbbf-4e56-a3fe-1a408b025aab",
   "metadata": {},
   "source": [
    "__2.__ determinam-se $M_{Rxd}, M_{Ryd} e N_{Rd}$ e a matriz de derivadas parciais $[K]$;"
   ]
  },
  {
   "cell_type": "markdown",
   "id": "316bdb61-68c3-4a6f-a654-6d502281b442",
   "metadata": {},
   "source": [
    "__3.__ calcula-se o vetor de desequilíbrio:"
   ]
  },
  {
   "cell_type": "markdown",
   "id": "3db59552-5a40-452e-8350-e2aba86d6529",
   "metadata": {},
   "source": [
    "$$ \n",
    "\\{\\Delta p\\}_i\n",
    "=\n",
    "\\begin{Bmatrix}\n",
    "\\Delta M_x \\\\\n",
    "\\Delta M_y \\\\\n",
    "\\Delta N\n",
    "\\end{Bmatrix} \n",
    "= \n",
    "\\begin{Bmatrix}\n",
    "M_{Axd}- \\lambda M_{Rxd} \\\\ \n",
    "M_{Ayd} - \\lambda  M_{Ryd} \\\\\n",
    "N_{Ad} -\\lambda N_{Rd}\n",
    "\\end{Bmatrix}\n",
    "$$"
   ]
  },
  {
   "cell_type": "markdown",
   "id": "8b95f448-ef80-4046-adb0-70ba888ef43d",
   "metadata": {},
   "source": [
    "__4.__ verifica-se a convergência através da expressão:"
   ]
  },
  {
   "cell_type": "markdown",
   "id": "fbb6ff64-133e-4a1c-b702-99afef6eba13",
   "metadata": {},
   "source": [
    "$$\\left[ \\frac{\\Delta M_x^2 + \\Delta M_y^2 + \\Delta N^2}{M_{Axd}^2 + M_{Ayd}^2 + N_{Ad}^2}\\right] \\le toler $$"
   ]
  },
  {
   "cell_type": "markdown",
   "id": "aea7047d-e38c-4fd8-a6b7-0ea5e235ddaa",
   "metadata": {},
   "source": [
    "onde $toler$ é a tolerância adotada no processo de solução, normalmente igual a $1\\%$."
   ]
  },
  {
   "cell_type": "markdown",
   "id": "6608b02b-337c-4c70-a7c3-c54da335eb15",
   "metadata": {},
   "source": [
    "__5.__  caso a condição acima seja satisfeita, vai-se para o item __(9)__,\n",
    "senão segue-se para __(6)__;"
   ]
  },
  {
   "cell_type": "markdown",
   "id": "705bbf99-0c05-4676-8ce3-f8b0b2c4b197",
   "metadata": {},
   "source": [
    "__6.__ resolve-se o sistema de equações lineares:"
   ]
  },
  {
   "cell_type": "markdown",
   "id": "2cb4ea47-3eb8-49cd-bf59-49338ea1813e",
   "metadata": {},
   "source": [
    "$$ \\{\\Delta u\\}_i = [K]^{-1} \\{\\Delta p\\}_i $$"
   ]
  },
  {
   "cell_type": "markdown",
   "id": "51a307a2-6739-4227-98d1-f8e3864b6955",
   "metadata": {},
   "source": [
    "__7.__ determinam-se $x, \\alpha$ e $\\lambda$:"
   ]
  },
  {
   "cell_type": "markdown",
   "id": "830bc472-2620-4450-ad97-a594d09ff9a2",
   "metadata": {},
   "source": [
    "$$ \n",
    "\\{u\\}_{i+1}\n",
    "=\n",
    "\\begin{Bmatrix}\n",
    "x \\\\\n",
    "\\alpha \\\\\n",
    "\\lambda\n",
    "\\end{Bmatrix}_{i+1} \n",
    "=\n",
    "\\begin{Bmatrix}\n",
    "x \\\\\n",
    "\\alpha \\\\\n",
    "\\lambda\n",
    "\\end{Bmatrix}_{i}\n",
    "+\n",
    "\\begin{Bmatrix}\n",
    "\\Delta x \\\\\n",
    "\\Delta \\alpha \\\\\n",
    "\\Delta \\lambda\n",
    "\\end{Bmatrix} \n",
    "$$"
   ]
  },
  {
   "cell_type": "markdown",
   "id": "33470dcd-8dfe-402c-9533-18081078e1ce",
   "metadata": {},
   "source": [
    "__8.__ retorna-se ao item __(2)__;"
   ]
  },
  {
   "cell_type": "markdown",
   "id": "e150e795-4ec4-44df-ac78-383ba8e5419d",
   "metadata": {},
   "source": [
    "__9.__ Final da verificação: valores de $x, \\alpha$ e $\\lambda$ conhecidos."
   ]
  },
  {
   "cell_type": "markdown",
   "id": "eba0df97-e965-4725-8224-7918ebc8e026",
   "metadata": {},
   "source": [
    "* Um valor de $\\lambda$ superior a 1 indica que a seção não tem a segurança exigida pela norma."
   ]
  },
  {
   "cell_type": "markdown",
   "id": "6d3d713d-5034-46a4-963f-44dd815ee67b",
   "metadata": {},
   "source": [
    "## __3.4 - Fluxograma do program de cálculo__ <a name=\"section_34\"></a>"
   ]
  },
  {
   "cell_type": "markdown",
   "id": "dc57c6e8-2654-4410-b0b1-d014621bab1f",
   "metadata": {},
   "source": [
    "* O funcionamento do programa para o dimensionamento e verificação de seções poligonais de concreto armado à flexão composta normal é mostrado através do fluxograma abaixo:"
   ]
  },
  {
   "cell_type": "markdown",
   "id": "6bc5d2f2-9b1a-494d-b799-3df5bb83975b",
   "metadata": {},
   "source": [
    "<img src=\"./images3/fluxograma.jpg\" alt=\"Fluxograma\" style=\"width:300px\"/>"
   ]
  },
  {
   "cell_type": "code",
   "execution_count": null,
   "id": "b31259e0-e058-4dbb-91e6-dabbe68163a6",
   "metadata": {},
   "outputs": [],
   "source": []
  }
 ],
 "metadata": {
  "colab": {
   "name": "Capítulo_1.ipynb",
   "provenance": []
  },
  "kernelspec": {
   "display_name": "Python 3 (ipykernel)",
   "language": "python",
   "name": "python3"
  },
  "language_info": {
   "codemirror_mode": {
    "name": "ipython",
    "version": 3
   },
   "file_extension": ".py",
   "mimetype": "text/x-python",
   "name": "python",
   "nbconvert_exporter": "python",
   "pygments_lexer": "ipython3",
   "version": "3.10.9"
  }
 },
 "nbformat": 4,
 "nbformat_minor": 5
}
