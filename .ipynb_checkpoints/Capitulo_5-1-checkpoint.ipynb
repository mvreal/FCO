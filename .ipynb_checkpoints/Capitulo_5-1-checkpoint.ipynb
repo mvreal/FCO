{
 "cells": [
  {
   "cell_type": "markdown",
   "id": "1dc445f3-8f0f-41b7-a0fa-541467a1d3db",
   "metadata": {
    "id": "1dc445f3-8f0f-41b7-a0fa-541467a1d3db"
   },
   "source": [
    "### Universidade Federal do Rio Grande do Sul - UFRGS"
   ]
  },
  {
   "cell_type": "markdown",
   "id": "27d28d81-ad30-4559-b52d-0fee9ac96cae",
   "metadata": {
    "id": "27d28d81-ad30-4559-b52d-0fee9ac96cae"
   },
   "source": [
    "### Escola de Engenharia - EE"
   ]
  },
  {
   "cell_type": "markdown",
   "id": "103a5401-6849-4ee0-a254-08a7f684a870",
   "metadata": {
    "id": "103a5401-6849-4ee0-a254-08a7f684a870"
   },
   "source": [
    "### Programa de Pós-graduação em Engenharia Civil - PPGEC"
   ]
  },
  {
   "cell_type": "markdown",
   "id": "547b79f5-d7a3-4b02-8ce9-7c1647bff36b",
   "metadata": {
    "id": "547b79f5-d7a3-4b02-8ce9-7c1647bff36b"
   },
   "source": [
    "### Disciplina: Tópicos avançados em concreto - PEC00013"
   ]
  },
  {
   "cell_type": "markdown",
   "id": "189e93bb-f3e5-4536-9aec-d09046d6929b",
   "metadata": {
    "id": "189e93bb-f3e5-4536-9aec-d09046d6929b"
   },
   "source": [
    "### Professor: Dr. Mauro de Vasconcellos Real"
   ]
  },
  {
   "cell_type": "markdown",
   "id": "9187878f-2f69-43a6-9e66-d91991265288",
   "metadata": {},
   "source": [
    "# __Aula 05__"
   ]
  },
  {
   "cell_type": "markdown",
   "id": "ce78f794-4773-4210-bf0c-d89fd0e707f7",
   "metadata": {
    "id": "ce78f794-4773-4210-bf0c-d89fd0e707f7"
   },
   "source": [
    "## __Capítulo 5 - Exemplos de aplicação__ <a name=\"section_5\"></a>"
   ]
  },
  {
   "cell_type": "markdown",
   "id": "e4c7f828-335f-42ac-b316-e8fd6c4a263c",
   "metadata": {
    "id": "e4c7f828-335f-42ac-b316-e8fd6c4a263c"
   },
   "source": [
    "[5.1 - Dimensionamento de pilar de seção vazada](#section_51)"
   ]
  },
  {
   "cell_type": "markdown",
   "id": "d203a6e2",
   "metadata": {},
   "source": [
    "[5.2 - Verificação de viga de concreto armado com seção I assimétrica](#section_52)"
   ]
  },
  {
   "cell_type": "markdown",
   "id": "5bafba8c-efa5-4114-9f0e-603f32dbecc4",
   "metadata": {
    "id": "5bafba8c-efa5-4114-9f0e-603f32dbecc4"
   },
   "source": [
    "## __5.1 - Dimensionamento de pilar de seção vazada__ <a name=\"section_51\"></a>"
   ]
  },
  {
   "cell_type": "markdown",
   "id": "b199cef8-458d-4a3c-87f2-929cd4cc2b9f",
   "metadata": {},
   "source": [
    "<img src=\"./images5/pilar_vazado.jpg\" alt=\"pilar de seção vazada\" style=\"width:300px\"/>"
   ]
  },
  {
   "cell_type": "markdown",
   "id": "c727166c-3816-44c9-8755-2b00dc87991b",
   "metadata": {
    "id": "0b8c3d99-64a5-44e9-9200-89c81286e8e6",
    "tags": []
   },
   "source": [
    "* Trata-se do dimensionamento de um pilar quadrado de seção vazada submetido à flexo-compressão oblíqua."
   ]
  },
  {
   "cell_type": "markdown",
   "id": "4dfd4509-9645-40a8-892f-f42e304f2a6d",
   "metadata": {},
   "source": [
    "* O pilar possui dimensões externas de 85 cm x 85 cm. O vazado interno mede 25 cm x 25 cm.\n",
    "* O concreto possui $f_{ck}$ = 20 MPa.\n",
    "* O pilar será armado com 20 barras de aço CA-50, de mesmo diâmetro e igualmente espaçadas.\n",
    "* A distância do bordo da seção até o centroide de cada barra é igual a 5 cm.\n",
    "* Os esforços solicitantes de cálculo são: $N_{Ad}$ = -200,00 kN, $M_{Axd}$ = -5.000,00 kN.cm e $M_{Ayd}$ = 5.000,00 kN.cm"
   ]
  },
  {
   "cell_type": "markdown",
   "id": "346b4d45-873d-4e4e-8ab9-95704a0c7d80",
   "metadata": {},
   "source": [
    "* O dimensionamento é feito através do programa VERDIM.FOR, desenvolvido pelo Professor Américo Campos Filho, na linguagem de programação FORTRAN.\n",
    "* Os dados de entrada são fornecidos através de um arquivo txt. \n",
    "* As unidades dos dados fornecidos devem ser coerentes. No exemplo. foram usados kN como unidade de força e cm como unidade de comprimento. \n",
    "* Os dados em uma linha devem ser separados por um ou mais espaços em branco. \n",
    "* O texto em itálico, colocado ao final de cada linha, é apenas comentário e não deve aparecer no arquivo de entrada de dados."
   ]
  },
  {
   "cell_type": "markdown",
   "id": "2eb02ef3-28a6-4814-8b45-3bc2730c26be",
   "metadata": {},
   "source": [
    "* O arquivo de entrada de dados utilizado é o seguinte:"
   ]
  },
  {
   "cell_type": "markdown",
   "id": "db5995a0-9947-4d6a-9358-b01d0e367cd1",
   "metadata": {},
   "source": [
    "<img src=\"./images5/pilar1.jpg\" alt=\"entrada pilar 1\" style=\"width:800px\"/>"
   ]
  },
  {
   "cell_type": "markdown",
   "id": "c3db58b0-2a30-470f-b63a-02f509535bba",
   "metadata": {},
   "source": [
    "<img src=\"./images5/pilar2.jpg\" alt=\"entrada pilar 2\" style=\"width:800px\"/>"
   ]
  },
  {
   "cell_type": "markdown",
   "id": "25b4adac-780f-4bde-9bb6-370907bcefa3",
   "metadata": {},
   "source": [
    "* Após rodar o programa, surgirão na tela os seguintes resultados:"
   ]
  },
  {
   "cell_type": "markdown",
   "id": "b0c10d54-2545-4f67-9803-eeac9ac858ed",
   "metadata": {},
   "source": [
    "<img src=\"./images5/pilar3.jpg\" alt=\"entrada pilar 1\" style=\"width:800px\"/>"
   ]
  }
 ],
 "metadata": {
  "colab": {
   "name": "Capítulo_1.ipynb",
   "provenance": []
  },
  "kernelspec": {
   "display_name": "Python 3 (ipykernel)",
   "language": "python",
   "name": "python3"
  },
  "language_info": {
   "codemirror_mode": {
    "name": "ipython",
    "version": 3
   },
   "file_extension": ".py",
   "mimetype": "text/x-python",
   "name": "python",
   "nbconvert_exporter": "python",
   "pygments_lexer": "ipython3",
   "version": "3.10.9"
  }
 },
 "nbformat": 4,
 "nbformat_minor": 5
}
