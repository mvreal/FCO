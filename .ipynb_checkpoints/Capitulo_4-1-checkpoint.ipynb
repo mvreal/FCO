{
 "cells": [
  {
   "cell_type": "markdown",
   "id": "1dc445f3-8f0f-41b7-a0fa-541467a1d3db",
   "metadata": {
    "id": "1dc445f3-8f0f-41b7-a0fa-541467a1d3db"
   },
   "source": [
    "### Universidade Federal do Rio Grande do Sul - UFRGS"
   ]
  },
  {
   "cell_type": "markdown",
   "id": "27d28d81-ad30-4559-b52d-0fee9ac96cae",
   "metadata": {
    "id": "27d28d81-ad30-4559-b52d-0fee9ac96cae"
   },
   "source": [
    "### Escola de Engenharia - EE"
   ]
  },
  {
   "cell_type": "markdown",
   "id": "103a5401-6849-4ee0-a254-08a7f684a870",
   "metadata": {
    "id": "103a5401-6849-4ee0-a254-08a7f684a870"
   },
   "source": [
    "### Programa de Pós-graduação em Engenharia Civil - PPGEC"
   ]
  },
  {
   "cell_type": "markdown",
   "id": "547b79f5-d7a3-4b02-8ce9-7c1647bff36b",
   "metadata": {
    "id": "547b79f5-d7a3-4b02-8ce9-7c1647bff36b"
   },
   "source": [
    "### Disciplina: Tópicos avançados em concreto - PEC00013"
   ]
  },
  {
   "cell_type": "markdown",
   "id": "189e93bb-f3e5-4536-9aec-d09046d6929b",
   "metadata": {
    "id": "189e93bb-f3e5-4536-9aec-d09046d6929b"
   },
   "source": [
    "### Professor: Dr. Mauro de Vasconcellos Real"
   ]
  },
  {
   "cell_type": "markdown",
   "id": "9187878f-2f69-43a6-9e66-d91991265288",
   "metadata": {},
   "source": [
    "# __Aula 04__"
   ]
  },
  {
   "cell_type": "markdown",
   "id": "ce78f794-4773-4210-bf0c-d89fd0e707f7",
   "metadata": {
    "id": "ce78f794-4773-4210-bf0c-d89fd0e707f7"
   },
   "source": [
    "## __Capítulo 4 - Cálculo das matrizes de derivadas parciais__ <a name=\"section_4\"></a>"
   ]
  },
  {
   "cell_type": "markdown",
   "id": "e4c7f828-335f-42ac-b316-e8fd6c4a263c",
   "metadata": {
    "id": "e4c7f828-335f-42ac-b316-e8fd6c4a263c"
   },
   "source": [
    "[4.1 - Introdução](#section_41)"
   ]
  },
  {
   "cell_type": "markdown",
   "id": "d203a6e2",
   "metadata": {},
   "source": [
    "[4.2 - Derivadas parciais dos esforços resistentes em relação à profundidade da linha neutra $x$](#section_42)"
   ]
  },
  {
   "cell_type": "markdown",
   "id": "5a4de045",
   "metadata": {},
   "source": [
    "[4.3 - Derivadas parciais dos esforços resistentes em relação à inclinação  da linha neutra $\\alpha$](#section_43)"
   ]
  },
  {
   "cell_type": "markdown",
   "id": "63855435-7f10-490c-9416-7f55226f1d3b",
   "metadata": {},
   "source": [
    "[4.4 - Derivadas parciais dos esforços resistentes em relação à área total de armadura $As$](#section_44)"
   ]
  },
  {
   "cell_type": "markdown",
   "id": "5bafba8c-efa5-4114-9f0e-603f32dbecc4",
   "metadata": {
    "id": "5bafba8c-efa5-4114-9f0e-603f32dbecc4"
   },
   "source": [
    "## __4.1 - Introdução__ <a name=\"section_41\"></a>"
   ]
  },
  {
   "cell_type": "markdown",
   "id": "c727166c-3816-44c9-8755-2b00dc87991b",
   "metadata": {
    "id": "0b8c3d99-64a5-44e9-9200-89c81286e8e6",
    "tags": []
   },
   "source": [
    "* O procedimento de dimensionamento ou de verificação de uma seção de concreto armado a solicitações normais, utilizando o método de Newton-Raphson, envolve o cálculo de uma matriz de derivadas parciais dos esforços resistentes."
   ]
  },
  {
   "cell_type": "markdown",
   "id": "a4e11989-6f96-4dea-92b3-8f7259485a0d",
   "metadata": {
    "id": "0b8c3d99-64a5-44e9-9200-89c81286e8e6",
    "tags": []
   },
   "source": [
    "* No Capítulo 4 é apresentado o cálculo destas derivadas parciais dos esforços resistentes em relação a $x$, $\\alpha$ e $A_s$ (profundidade e inclinação da linha neutra e área total da armadura)."
   ]
  },
  {
   "cell_type": "markdown",
   "id": "157432c3-c6ac-4105-b5b2-45e3ad381233",
   "metadata": {
    "id": "157432c3-c6ac-4105-b5b2-45e3ad381233",
    "tags": []
   },
   "source": [
    "## __4.2 - Derivadas parciais dos esforços resistentes em relação à profundidade da linha neutra $x$__ <a name=\"section_42\"></a>"
   ]
  },
  {
   "cell_type": "markdown",
   "id": "41415329-6441-471f-bb44-3795796bc128",
   "metadata": {
    "tags": []
   },
   "source": [
    "* No Capítulo 2, foi visto que:"
   ]
  },
  {
   "cell_type": "markdown",
   "id": "8aca6003-2827-46b6-9ede-42e4991ef3f0",
   "metadata": {},
   "source": [
    "$$ M_{Rxd} = M_{R\\xi} cos\\alpha - M_{R\\eta} sen \\alpha $$\n",
    "\n",
    "$$ M_{Ryd} = M_{R\\xi} sen\\alpha + M_{R\\eta} cos \\alpha $$"
   ]
  },
  {
   "cell_type": "markdown",
   "id": "4c3f97ff-97af-4ce8-9cfb-ebd03c1514fa",
   "metadata": {},
   "source": [
    "* Derivando-se estas expressões, em relação à profundidade da linha neutra $x$, vem que"
   ]
  },
  {
   "cell_type": "markdown",
   "id": "84efb6a8-1a04-4486-b4c0-55e7936f6297",
   "metadata": {
    "tags": []
   },
   "source": [
    "$$ \\frac{\\partial{M_{Rxd}}}{\\partial{x}} = \\frac{\\partial{M_{R\\xi}}}{\\partial{x}} cos\\alpha - \\frac{\\partial{M_{R\\eta}}}{\\partial{x}} sen \\alpha $$\n",
    "\n",
    "$$ \\frac{\\partial{M_{Ryd}}}{\\partial{x}} = \\frac{\\partial{M_{R\\xi}}}{\\partial{x}} sen\\alpha + \\frac{\\partial{M_{R\\eta}}}{\\partial{x}} cos \\alpha $$\n",
    "\n"
   ]
  },
  {
   "cell_type": "markdown",
   "id": "a86fabd5-8ade-4c99-a109-afd1307722cc",
   "metadata": {},
   "source": [
    "* Como os esforços resistentes $M_{R\\xi}, M_{R\\eta}$ e $N_{R}$ são funções de $b$ e $c$ (curvatura e deformação no centróide da seção), pode-se escrever"
   ]
  },
  {
   "cell_type": "markdown",
   "id": "d42c15e8-7257-4a1b-86f3-ae1771bccd06",
   "metadata": {},
   "source": [
    "$$ \\frac{\\partial{M_{R\\xi}}}{\\partial{x}} = \\frac{\\partial{M_{R\\xi}}}{\\partial{b}} \\frac{\\partial{b}}{\\partial{x}} + \\frac{\\partial{M_{R\\xi}}}{\\partial{c}}\\frac{\\partial{c}}{\\partial{x}} $$\n",
    "\n",
    "$$ \\frac{\\partial{M_{R\\eta}}}{\\partial{x}} = \\frac{\\partial{M_{R\\eta}}}{\\partial{b}} \\frac{\\partial{b}}{\\partial{x}} + \\frac{\\partial{M_{R\\eta}}}{\\partial{c}} \\frac{\\partial{c}} {\\partial{c}} $$"
   ]
  },
  {
   "cell_type": "markdown",
   "id": "c2255bc1-7651-47ec-985c-49da098a23ab",
   "metadata": {},
   "source": [
    "* Mas $b$ e $c$, por sua vez, são funções das deformações extremas da seção $\\epsilon_{S}$ e $\\epsilon_{I}$ , então:"
   ]
  },
  {
   "cell_type": "markdown",
   "id": "55028132-4b62-4539-b845-f4784a8ed880",
   "metadata": {
    "tags": []
   },
   "source": [
    "$$ \\frac{\\partial{b}}{\\partial{x}} = \\frac{\\partial{b}}{\\partial{\\epsilon_{S}}} \\frac{\\partial{\\epsilon_{S}}}{\\partial{x}} + \\frac{\\partial{b}}{\\partial{\\epsilon_{I}}}\\frac{\\partial{\\epsilon_{I}}}{\\partial{x}} $$\n",
    "\n",
    "$$ \\frac{\\partial{c}}{\\partial{x}} = \\frac{\\partial{c}}{\\partial{\\epsilon_{S}}} \\frac{\\partial{\\epsilon_{S}}}{\\partial{x}} + \\frac{\\partial{c}}{\\partial{\\epsilon_{I}}}\\frac{\\partial{\\epsilon_{I}}}{\\partial{x}} $$"
   ]
  },
  {
   "cell_type": "markdown",
   "id": "f3b9e05b-9627-450b-95bb-46e98c485e8f",
   "metadata": {
    "tags": []
   },
   "source": [
    "## __4.3 - Derivadas parciais dos esforços resistentes em relação à inclinação da linha neutra $\\alpha$__ <a name=\"section_43\"></a>"
   ]
  },
  {
   "cell_type": "markdown",
   "id": "4e3eb7d3-b94e-42a7-9967-eb43d228c585",
   "metadata": {
    "id": "4e3eb7d3-b94e-42a7-9967-eb43d228c585",
    "tags": []
   },
   "source": [
    "## __4.4 - Derivadas parciais dos esforços resistentes em relação à área total de armadura As__ <a name=\"section_44\"></a>"
   ]
  }
 ],
 "metadata": {
  "colab": {
   "name": "Capítulo_1.ipynb",
   "provenance": []
  },
  "kernelspec": {
   "display_name": "Python 3 (ipykernel)",
   "language": "python",
   "name": "python3"
  },
  "language_info": {
   "codemirror_mode": {
    "name": "ipython",
    "version": 3
   },
   "file_extension": ".py",
   "mimetype": "text/x-python",
   "name": "python",
   "nbconvert_exporter": "python",
   "pygments_lexer": "ipython3",
   "version": "3.10.9"
  }
 },
 "nbformat": 4,
 "nbformat_minor": 5
}
