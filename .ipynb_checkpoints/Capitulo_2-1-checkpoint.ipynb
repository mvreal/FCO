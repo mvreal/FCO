{
 "cells": [
  {
   "cell_type": "markdown",
   "id": "1dc445f3-8f0f-41b7-a0fa-541467a1d3db",
   "metadata": {
    "id": "1dc445f3-8f0f-41b7-a0fa-541467a1d3db"
   },
   "source": [
    "### Universidade Federal do Rio Grande do Sul - UFRGS"
   ]
  },
  {
   "cell_type": "markdown",
   "id": "27d28d81-ad30-4559-b52d-0fee9ac96cae",
   "metadata": {
    "id": "27d28d81-ad30-4559-b52d-0fee9ac96cae"
   },
   "source": [
    "### Escola de Engenharia - EE"
   ]
  },
  {
   "cell_type": "markdown",
   "id": "103a5401-6849-4ee0-a254-08a7f684a870",
   "metadata": {
    "id": "103a5401-6849-4ee0-a254-08a7f684a870"
   },
   "source": [
    "### Programa de Pós-graduação em Engenharia Oceânica - PPGEC"
   ]
  },
  {
   "cell_type": "markdown",
   "id": "547b79f5-d7a3-4b02-8ce9-7c1647bff36b",
   "metadata": {
    "id": "547b79f5-d7a3-4b02-8ce9-7c1647bff36b"
   },
   "source": [
    "### Disciplina: Tópicos avançados em concreto - PEC00013"
   ]
  },
  {
   "cell_type": "markdown",
   "id": "189e93bb-f3e5-4536-9aec-d09046d6929b",
   "metadata": {
    "id": "189e93bb-f3e5-4536-9aec-d09046d6929b"
   },
   "source": [
    "### Professor: Dr. Mauro de Vasconcellos Real"
   ]
  },
  {
   "cell_type": "markdown",
   "id": "9187878f-2f69-43a6-9e66-d91991265288",
   "metadata": {},
   "source": [
    "# __Aula 02__"
   ]
  },
  {
   "cell_type": "markdown",
   "id": "ce78f794-4773-4210-bf0c-d89fd0e707f7",
   "metadata": {
    "id": "ce78f794-4773-4210-bf0c-d89fd0e707f7"
   },
   "source": [
    "## __Capítulo 2 - Seções Poligonais de Concreto Armado Submetidas à Flexão Composta Oblíqua__ <a name=\"section_2\"></a>"
   ]
  },
  {
   "cell_type": "markdown",
   "id": "e4c7f828-335f-42ac-b316-e8fd6c4a263c",
   "metadata": {
    "id": "e4c7f828-335f-42ac-b316-e8fd6c4a263c"
   },
   "source": [
    "[2.1 - Esforços atuantes de cálculo](#section_21)"
   ]
  },
  {
   "cell_type": "markdown",
   "id": "d203a6e2",
   "metadata": {},
   "source": [
    "[2.2 - Esforços resistentes de cálculo](#section_22)"
   ]
  },
  {
   "cell_type": "markdown",
   "id": "5a4de045",
   "metadata": {},
   "source": [
    "[2.3 - Hipóteses básicas de cálculo](#section_23)"
   ]
  },
  {
   "cell_type": "markdown",
   "id": "63855435-7f10-490c-9416-7f55226f1d3b",
   "metadata": {},
   "source": [
    "[2.4 - Compatibilidade de deformações](#section_24)"
   ]
  },
  {
   "cell_type": "markdown",
   "id": "8eb3898f-b848-446f-8b60-121ace292330",
   "metadata": {},
   "source": [
    "[2.5 - Diagramas tensão-deformação dos materiais](#section_25)"
   ]
  },
  {
   "cell_type": "markdown",
   "id": "73822b3a-4ee8-4859-be04-bf35ca661f52",
   "metadata": {},
   "source": [
    "[2.6 - Cálculo dos esforços resistentes](#section_26)"
   ]
  },
  {
   "cell_type": "markdown",
   "id": "5bafba8c-efa5-4114-9f0e-603f32dbecc4",
   "metadata": {
    "id": "5bafba8c-efa5-4114-9f0e-603f32dbecc4"
   },
   "source": [
    "## __2.1 - Esforços atuantes de cálculo__ <a name=\"section_21\"></a>"
   ]
  },
  {
   "cell_type": "markdown",
   "id": "c727166c-3816-44c9-8755-2b00dc87991b",
   "metadata": {
    "id": "0b8c3d99-64a5-44e9-9200-89c81286e8e6",
    "tags": []
   },
   "source": [
    "### Esforços atuantes de cálculo na seção poligonal"
   ]
  },
  {
   "cell_type": "markdown",
   "id": "9d7e57d8-0f51-4c54-a16c-d2ea79e7051c",
   "metadata": {},
   "source": [
    "<img src=\"./images2/atuantes.jpg\" alt=\"esforços atuantes de cálculo\" style=\"width:300px\"/>"
   ]
  },
  {
   "cell_type": "markdown",
   "id": "157432c3-c6ac-4105-b5b2-45e3ad381233",
   "metadata": {
    "id": "157432c3-c6ac-4105-b5b2-45e3ad381233"
   },
   "source": [
    "* Os esforços de cálculo atuantes na seção de concreto armado são os momentos fletores $M_{Axd}$ e $M_{Ayd}$ e o esforço normal $N_{Ad}$, estabelecidos segundo o sistema de coordenadas local $x,y$.\n",
    "* O esforço normal será positivo quando for de tração e os momentos fletores serão positivos quando tiverem o mesmo sentido dos eixos $x,y$."
   ]
  },
  {
   "cell_type": "markdown",
   "id": "f3b9e05b-9627-450b-95bb-46e98c485e8f",
   "metadata": {
    "tags": []
   },
   "source": [
    "## __2.2 - Esforços resistentes de cálculo__ <a name=\"section_22\"></a>"
   ]
  },
  {
   "cell_type": "markdown",
   "id": "62d47eb9-eef2-4509-b5ee-d1603688e826",
   "metadata": {},
   "source": [
    "### Esforços resistentes de cálculo na seção poligonal"
   ]
  },
  {
   "cell_type": "markdown",
   "id": "afd73003-f3f7-491b-a35b-10410ff02ca3",
   "metadata": {
    "id": "4e3eb7d3-b94e-42a7-9967-eb43d228c585"
   },
   "source": [
    "<img src=\"./images2/resistentes.jpg\" alt=\"esforços resistentes de cálculo\" style=\"width:300px\"/>"
   ]
  },
  {
   "cell_type": "markdown",
   "id": "2c1f17c5",
   "metadata": {},
   "source": [
    "* Os esforços resistentes de cálculo (últimos) $M_{Rxd}$, $M_{Ryd}$ e $N_{Rd}$ seguem a mesma convenção de sinais adotadas para os esforços atuantes.\n",
    "* O esforço normal será positivo quando for de tração e os momentos fletores serão positivos quando tiverem o mesmo sentido dos eixos $x,y$."
   ]
  },
  {
   "cell_type": "markdown",
   "id": "4e3eb7d3-b94e-42a7-9967-eb43d228c585",
   "metadata": {
    "id": "4e3eb7d3-b94e-42a7-9967-eb43d228c585"
   },
   "source": [
    "## __2.3 - Hipóteses básicas de cálculo__ <a name=\"section_23\"></a>"
   ]
  },
  {
   "cell_type": "markdown",
   "id": "b72536a7",
   "metadata": {},
   "source": [
    "### Hipóteses básicas de cálculo segundo a norma NBR-6118:2014"
   ]
  },
  {
   "cell_type": "markdown",
   "id": "44de5aac-973b-4f8c-80e4-d7ce8e9fdf69",
   "metadata": {
    "id": "44de5aac-973b-4f8c-80e4-d7ce8e9fdf69"
   },
   "source": [
    "* A norma brasileira para o ***\"Projeto de estruturas de concreto\", NBR-6118:2014,*** estabelece as seguintes hipóteses sobre as deformações de uma seção de concreto armado no estado limite último:\n",
    "<ol type=\"a\">\n",
    "  <li>as seções transversais se mantêm planas após a deformação;</li>\n",
    "  <li>a deformação das barras passivas aderentes em tração ou compressão deve ser a(o) mesma(o) do concreto em seu entorno;</li>\n",
    "  <li>as tensões de tração no concreto, normais à seção transversal, devem ser desprezadas no ELU;</li>\n",
    "  <li>a distribuição de tensões no concreto é feita de acordo com o diagrama parábola-retângulo, ou de acordo com o diagrama retangular simplificado;</li>\n",
    "  <li>a tensão nas armaduras deve ser obtida a partir dos diagramas tensão-deformação, com seus valores de cálculo;</li>\n",
    "  <li>o estado-limite último é caracterizado quando a distribuição das deformações na seção transversal pertencer a um dos domínios deﬁnidos na figura abaixo;</li>\n",
    "</ol>"
   ]
  },
  {
   "cell_type": "markdown",
   "id": "6fed8a23-83cf-4ab0-ac2c-2bd0effe578c",
   "metadata": {
    "id": "6fed8a23-83cf-4ab0-ac2c-2bd0effe578c"
   },
   "source": [
    "### Domínios de deformação no estado limite último segundo a norma NBR-6118:2014"
   ]
  },
  {
   "cell_type": "markdown",
   "id": "8e9132cb",
   "metadata": {},
   "source": [
    "<img src=\"./images2/dominios.jpg\" alt=\"domínios de deformação no ELU\" style=\"width:500px\"/>"
   ]
  },
  {
   "cell_type": "markdown",
   "id": "f2f917a9-9329-465e-8b58-b8da595961c7",
   "metadata": {
    "id": "f2f917a9-9329-465e-8b58-b8da595961c7"
   },
   "source": [
    "#### Ruptura convencional por deformação plástica excessiva:\n",
    "* reta a: tração uniforme;\n",
    "* domínio 1: tração não uniforme, sem compressão;\n",
    "* domínio 2: ﬂexão simples ou composta sem ruptura à compressão do concreto ($\\epsilon_c < \\epsilon_{cu}$ e com \n",
    "o máximo alongamento permitido).\n",
    "#### Ruptura convencional por encurtamento-limite do concreto:\n",
    "* domínio 3: ﬂexão simples (seção subarmada) ou composta com ruptura à compressão do concreto e com escoamento do aço ($\\epsilon_s \\ge \\epsilon_{yd}$);\n",
    "* domínio 4: ﬂexão simples (seção superarmada) ou composta com ruptura à compressão do concreto e aço tracionado sem escoamento ($\\epsilon_s \\le \\epsilon_{yd}$);\n",
    "* domínio 4a: ﬂexão composta com armaduras comprimidas;\n",
    "* domínio 5: compressão não uniforme, sem tração;\n",
    "* reta b: compressão uniforme."
   ]
  },
  {
   "cell_type": "markdown",
   "id": "8302b6e2",
   "metadata": {},
   "source": [
    "### Valores limite para a deformação do concreto"
   ]
  },
  {
   "cell_type": "markdown",
   "id": "5ff56506",
   "metadata": {},
   "source": [
    "* os valores a serem adotados para os parâmetros $\\epsilon_{c2}$ (deformação específica de encurtamento do concreto no início do patamar plástico) e $\\epsilon_{cu}$ (deformação específica de encurtamento do concreto na ruptura) são definidos como:\n",
    "* para concretos de classes até C50: \n",
    "$$\\epsilon_{c2} = 2.0 ‰ $$\n",
    "$$\\epsilon_{cu} = 3.5 ‰ $$\n",
    "* para concretos de classes de C50 até C90:\n",
    "$$\\epsilon_{c2} = 2.0 ‰  + 0.085 ‰ (f_{ck} - 50)^{0.53}$$\n",
    "$$\\epsilon_{cu} = 2.6 ‰ + 35 ‰ \\left[\\frac{(90 - f_{ck})}{100}\\right]^4  $$"
   ]
  },
  {
   "cell_type": "markdown",
   "id": "7bf856ff",
   "metadata": {
    "tags": []
   },
   "source": [
    "<img src=\"./images2/epsilon_c.jpg\" alt=\"deformações limites do concreto\" style=\"width:300px\"/>"
   ]
  },
  {
   "cell_type": "markdown",
   "id": "34b66763-2651-455a-bbda-05c9984d10fe",
   "metadata": {},
   "source": [
    "## __2.4 - Compatibilidade de deformações__ <a name=\"section_24\"></a>"
   ]
  },
  {
   "cell_type": "markdown",
   "id": "89d0f07f-9965-408b-9b3f-069a5f2a6a71",
   "metadata": {},
   "source": [
    "### Profundidade $x$ e orientação $\\alpha$ da linha neutra"
   ]
  },
  {
   "cell_type": "markdown",
   "id": "7ca19e3d-fa00-4f5d-b3bd-0d7dd9489fb1",
   "metadata": {},
   "source": [
    "<img src=\"./images2/linha_neutra.jpg\" alt=\"linha neutra\" style=\"width:500px\"/>"
   ]
  },
  {
   "cell_type": "markdown",
   "id": "409eacc5-78a9-47ea-93e9-3a7e9c3d8585",
   "metadata": {
    "id": "409eacc5-78a9-47ea-93e9-3a7e9c3d8585",
    "tags": []
   },
   "source": [
    "* Estas hipóteses introduzem uma relação de dependência entre $\\epsilon_S$ e $\\epsilon_I$, e o estado de eformações da seção fica determinado a partir de apenas duas variáveis independentes.\n",
    "* As duas variáveis, que serão utilizadas para definir este estado de deformação são a inclinação $\\alpha$ e a profundidade $x$ da linha neutra."
   ]
  },
  {
   "cell_type": "markdown",
   "id": "26cdd533-f511-45cb-9c55-0702f87a19d1",
   "metadata": {},
   "source": [
    "### Profundidade da linha neutra $x$"
   ]
  },
  {
   "cell_type": "markdown",
   "id": "cbc08c8c-6d69-4a2d-8619-717624e9a325",
   "metadata": {
    "id": "cbc08c8c-6d69-4a2d-8619-717624e9a325"
   },
   "source": [
    "* A profundidade da linha neutra é determinada, conforme a NBR-6118, por uma coordenada representada pela letra x e medida paralelamente ao eixo $\\eta$.\n",
    "* A coordenada x tem origem na fibra de maior encurtamento da seção (ou menor alongamento) e tem o sentido contrário ao de $\\eta$.\n",
    "* A Tabela abaixo apresenta as expressões para calcular $\\epsilon_S$ e $\\epsilon_I$ em função de $x$."
   ]
  },
  {
   "cell_type": "markdown",
   "id": "d0762ecd",
   "metadata": {},
   "source": [
    "<img src=\"./images2/tabela_dominios.jpg\" alt=\"tabela domínios da NBR-6118\" style=\"width:500px\"/>"
   ]
  },
  {
   "cell_type": "markdown",
   "id": "61135cfa-05ca-492c-98d6-58875ace357d",
   "metadata": {
    "id": "61135cfa-05ca-492c-98d6-58875ace357d"
   },
   "source": [
    "* Demonstração para o Domínio 3:"
   ]
  },
  {
   "cell_type": "markdown",
   "id": "cfe35bba",
   "metadata": {},
   "source": [
    "<img src=\"./images2/dominio_3.jpg\" alt=\"domínio 3\" style=\"width:200px\"/>"
   ]
  },
  {
   "cell_type": "markdown",
   "id": "2f6cb82c-2963-4bbb-82e7-6b6035c55e84",
   "metadata": {
    "id": "2f6cb82c-2963-4bbb-82e7-6b6035c55e84"
   },
   "source": [
    "* A deformação no bordo superior (ponto B) corresponde ao encurtamento último do concreto: $\\epsilon_{cu}$, com o sinal negativo (compressão):\n",
    "\n",
    "$$\\epsilon_{S} = - \\epsilon_{cu}$$\n",
    "\n",
    "* A deformação no bordo inferior corresponde à barra de armadura mais tracionada. Então, por semelhança de triângulos:\n",
    "\n",
    "$$\\frac{\\epsilon_{I}}{d-x} = \\frac{+\\epsilon_{cu}}{x}$$\n",
    "\n",
    "* Logo:\n",
    "\n",
    "$$ \\epsilon_{I} = \\epsilon_{cu} \\frac{d-x}{x}$$\n",
    "\n",
    "* Da mesma forma são obtidas as equações dos demais domínios."
   ]
  },
  {
   "cell_type": "markdown",
   "id": "cb3e8786-74a7-41b8-8e89-70aa48428d8c",
   "metadata": {
    "id": "cb3e8786-74a7-41b8-8e89-70aa48428d8c"
   },
   "source": [
    "### Cálculo das deformações ao longo da seção $\\epsilon(\\xi,\\eta)$"
   ]
  },
  {
   "cell_type": "markdown",
   "id": "b1a75ac9-58a6-44f2-a35c-5333d8bb11da",
   "metadata": {
    "id": "b1a75ac9-58a6-44f2-a35c-5333d8bb11da"
   },
   "source": [
    "* Conhecidos os valores de $x$ e $\\alpha$, a deformação $\\epsilon(\\xi,\\eta)$ de um ponto da seção é obtida por:"
   ]
  },
  {
   "cell_type": "markdown",
   "id": "b44db252-fc2f-44ab-87ff-0dbc3eede541",
   "metadata": {
    "id": "b44db252-fc2f-44ab-87ff-0dbc3eede541"
   },
   "source": [
    "$$ \\epsilon(\\xi,\\eta) = b \\eta + c$$"
   ]
  },
  {
   "cell_type": "markdown",
   "id": "54394f66-2e92-4185-a70b-09dee943aea2",
   "metadata": {
    "id": "54394f66-2e92-4185-a70b-09dee943aea2"
   },
   "source": [
    "onde:"
   ]
  },
  {
   "cell_type": "markdown",
   "id": "fca5f418-57c3-42a6-be75-71c438ba352c",
   "metadata": {},
   "source": [
    "$$ b = \\frac{\\epsilon_{S} - \\epsilon_{I}}{\\eta_{S} - \\eta_{I}} $$"
   ]
  },
  {
   "cell_type": "markdown",
   "id": "7a166ce8-fb23-49a9-aec0-d2b86801e756",
   "metadata": {},
   "source": [
    "$$ c = \\epsilon_{S} - b \\eta_{S} $$"
   ]
  },
  {
   "cell_type": "markdown",
   "id": "24d7efb2-a5f7-48b8-8d7c-21e1f34cd3f3",
   "metadata": {
    "tags": []
   },
   "source": [
    "sendo $b$ a curvatura da seção e $c$ o valor da deformação na fibra correspondente ao centro de gravidade da seção de concreto."
   ]
  },
  {
   "cell_type": "markdown",
   "id": "3e2eccc0-b2f5-4d7a-9bfe-15630881568c",
   "metadata": {},
   "source": [
    "* $\\eta_{S}$ e $\\eta_{S}$ são as ordenadas dos pontos extremos superior e inferior da seção. Os pontos extremos, no caso da zona tracionada, correspondem a barras de armadura."
   ]
  },
  {
   "cell_type": "markdown",
   "id": "057fd94c",
   "metadata": {},
   "source": [
    "## __2.5 - Diagramas tensão-deformação dos materiais__ <a name=\"section_25\"></a>"
   ]
  },
  {
   "cell_type": "markdown",
   "id": "18f3c66e-38a4-4834-a6eb-6a72c377c6f3",
   "metadata": {
    "id": "18f3c66e-38a4-4834-a6eb-6a72c377c6f3"
   },
   "source": [
    "### Diagrama tensão-deformação para o concreto comprimido"
   ]
  },
  {
   "cell_type": "markdown",
   "id": "55bcb4f9-87e1-42e5-a91a-1f55785281db",
   "metadata": {},
   "source": [
    "* A NBR-6118 diz que no estado limite último a distribuição das tensões do concreto na seção se faz de acordo com o diagrama parábola-retângulo. A resistência à tração do concreto é desprezada."
   ]
  },
  {
   "cell_type": "markdown",
   "id": "490badba",
   "metadata": {},
   "source": [
    "<img src=\"./images2/concreto.jpg\" alt=\"concreto comprimido\" style=\"width:500px\"/>"
   ]
  },
  {
   "cell_type": "markdown",
   "id": "1ee591c1-30db-40f2-82d0-e065dd3d4176",
   "metadata": {
    "id": "1ee591c1-30db-40f2-82d0-e065dd3d4176"
   },
   "source": [
    "* Variação do expoente $n$ do trecho curvo da relação tensão-deformação do concreto comprimido:"
   ]
  },
  {
   "cell_type": "markdown",
   "id": "8a4f24b9-9a39-4212-9ac7-5585e932a47b",
   "metadata": {},
   "source": [
    "<img src=\"./images2/exp_n.jpg\" alt=\"expoente n\" style=\"width:300px\"/>"
   ]
  },
  {
   "cell_type": "markdown",
   "id": "3aa8f8b4-266e-40a9-a38a-18128f08ae56",
   "metadata": {},
   "source": [
    "### Curvas tensão-deformação para o concreto comprimido do Código Modelo fib-2010"
   ]
  },
  {
   "cell_type": "markdown",
   "id": "a73e750c-219d-45e7-838d-23c4c0c47e35",
   "metadata": {
    "tags": []
   },
   "source": [
    "* O Código Modelo fib-2010, apresenta três relações tensão-deformação para o concreto comprimido que podem ser empregadas no dimensionamento de estruturas de concreto.\n",
    "* A primeira é destinada à análise estrutural não linear."
   ]
  },
  {
   "cell_type": "markdown",
   "id": "ece4703b-6dc1-42cf-b6c0-64486f306156",
   "metadata": {},
   "source": [
    "<img src=\"./images2/fib1.jpg\" alt=\"curva para análise não linear\" style=\"width:400px\"/>"
   ]
  },
  {
   "cell_type": "markdown",
   "id": "d80ffee3-23e0-4707-884e-50960c33c097",
   "metadata": {},
   "source": [
    "* A segunda é um diagrama do tipo parábola-retângulo para ser usada em projeto."
   ]
  },
  {
   "cell_type": "markdown",
   "id": "424513f7-1ae0-4877-a443-3720dc2cdd13",
   "metadata": {},
   "source": [
    "<img src=\"./images2/fib2.jpg\" alt=\"diagrama parábola-retângulo\" style=\"width:400px\"/>"
   ]
  },
  {
   "cell_type": "markdown",
   "id": "5ab13869-1c7a-4efa-ae53-ef537a8e08eb",
   "metadata": {},
   "source": [
    "* Por último, pode ser usado também um diagrama tensão-deformação bilinear para o concreto comprimido, como na figura abaixo."
   ]
  },
  {
   "cell_type": "markdown",
   "id": "a3050e98-590f-4f65-81cb-e729c225365d",
   "metadata": {},
   "source": [
    "<img src=\"./images2/fib3.jpg\" alt=\"diagrama bilinear para o concreto\" style=\"width:400px\"/>"
   ]
  },
  {
   "cell_type": "markdown",
   "id": "37c1eae8-3bf0-49d3-abea-54a1caf525d3",
   "metadata": {},
   "source": [
    "### Diagrama parábola-retângulo simplificado para o concreto"
   ]
  },
  {
   "cell_type": "markdown",
   "id": "1143e184-1468-4327-831b-424f8ef2dd11",
   "metadata": {},
   "source": [
    "* Para facilitar o procedimento de determinação dos esforços resistentes, o trecho parabólico do diagrama, pode ser aproximado por uma parábola do segundo grau da forma:"
   ]
  },
  {
   "cell_type": "markdown",
   "id": "6af27db1-fc29-42fd-a6cb-2fd1db2ba1ee",
   "metadata": {},
   "source": [
    "$$ \\sigma_c(\\epsilon) = \\sigma_{cd} \\left( a_2 \\epsilon^2 + a_1 \\epsilon\\right) $$"
   ]
  },
  {
   "cell_type": "markdown",
   "id": "4aa749d1-42e9-4e1c-9a67-11d430189138",
   "metadata": {},
   "source": [
    "sendo "
   ]
  },
  {
   "cell_type": "markdown",
   "id": "75530a87-4307-44f0-ac72-e6710cc243d0",
   "metadata": {},
   "source": [
    "$$ \\sigma_{cd} = 0.85 f_{cd} $$"
   ]
  },
  {
   "cell_type": "markdown",
   "id": "89057e47-38cf-4015-b57f-a03a2c11f198",
   "metadata": {},
   "source": [
    "* A premissa da regressão polinomial é de que um conjunto de $n$ pares $(x,y)$, representando uma função:"
   ]
  },
  {
   "cell_type": "markdown",
   "id": "0eaa9285-2430-4e9a-8f0d-a9165edc80dc",
   "metadata": {},
   "source": [
    "$$(x_1,y_1),(x_2,y_2), (x_3,y_3), ..., (x_n,y_n)$$"
   ]
  },
  {
   "cell_type": "markdown",
   "id": "b1322a70-412d-4ef8-983d-b1f90a0e8447",
   "metadata": {},
   "source": [
    "pode ser processado usando o método dos mínimos quadrados para criar uma equação polinomial de grau $p$ (com $p<n$):"
   ]
  },
  {
   "cell_type": "markdown",
   "id": "e34cf3af-932f-4bc0-9750-8a9d2bbde7a9",
   "metadata": {},
   "source": [
    "$$ y = a_0 + a_1 x + a_2 x^2 + a_3 x^3 + ...  a_p x^p $$ "
   ]
  },
  {
   "cell_type": "markdown",
   "id": "fb71b825-8a7f-459a-9c27-bdca7695b7c9",
   "metadata": {},
   "source": [
    "* A essência do método é reduzir o resíduo $R$ em cada ponto:"
   ]
  },
  {
   "cell_type": "markdown",
   "id": "2d17fe9d-e49c-4e01-b7e5-225bf44f0ae0",
   "metadata": {},
   "source": [
    "$$ R_i = y_i - a_0 + a_1 x_i + a_2 x_i^2 + a_3 x_i^3 + ...  a_p x_i^p $$"
   ]
  },
  {
   "cell_type": "markdown",
   "id": "2390e492-f960-4d8c-b5e4-7d6f0d07a728",
   "metadata": {},
   "source": [
    "* Os coeficientes do polinômio podem ser obtidos, resolvendo-se o seguinte sistema de equações lineares (este exemplo corresponde a um polinômio do quarto grau):"
   ]
  },
  {
   "cell_type": "markdown",
   "id": "30ef5465-3d7a-4c5c-a3bd-27cb23066e2a",
   "metadata": {},
   "source": [
    "$$ \\begin{bmatrix}\n",
    "n & \\sum{x_i} & \\sum{x_i^2} & \\sum{x_i^3} & \\sum{x_i^4} \\\\\n",
    "\\sum{x_i} & \\sum{x_i^2} & \\sum{x_i^3} & \\sum{x_i^4} & \\sum{x_i^5} \\\\\n",
    "\\sum{x_i^2} & \\sum{x_i^3} & \\sum{x_i^4} & \\sum{x_i^5} & \\sum{x_i^6} \\\\\n",
    "\\sum{x_i^3} & \\sum{x_i^4} & \\sum{x_i^5} & \\sum{x_i^6} & \\sum{x_i^7} \\\\\n",
    "\\sum{x_i^4} & \\sum{x_i^5} & \\sum{x_i^6} & \\sum{x_i^7} & \\sum{x_i^8} \n",
    "\\end{bmatrix}\n",
    "\\begin{pmatrix}\n",
    "a_0 \\\\\n",
    "a_1 \\\\\n",
    "a_2 \\\\\n",
    "a_3 \\\\\n",
    "a_4\n",
    "\\end{pmatrix}\n",
    "=\n",
    "\\begin{pmatrix}\n",
    "\\sum y_i \\\\\n",
    "\\sum x_i y_i \\\\\n",
    "\\sum x_i^2 y_i \\\\\n",
    "\\sum x_i^3 y_i \\\\\n",
    "\\sum x_i^4 y_i\n",
    "\\end{pmatrix}\n",
    "$$"
   ]
  },
  {
   "cell_type": "code",
   "execution_count": null,
   "id": "062c9b1f-401f-4015-9ca2-4104cd4731ae",
   "metadata": {},
   "outputs": [],
   "source": []
  }
 ],
 "metadata": {
  "colab": {
   "name": "Capítulo_1.ipynb",
   "provenance": []
  },
  "kernelspec": {
   "display_name": "Python 3 (ipykernel)",
   "language": "python",
   "name": "python3"
  },
  "language_info": {
   "codemirror_mode": {
    "name": "ipython",
    "version": 3
   },
   "file_extension": ".py",
   "mimetype": "text/x-python",
   "name": "python",
   "nbconvert_exporter": "python",
   "pygments_lexer": "ipython3",
   "version": "3.10.9"
  }
 },
 "nbformat": 4,
 "nbformat_minor": 5
}
