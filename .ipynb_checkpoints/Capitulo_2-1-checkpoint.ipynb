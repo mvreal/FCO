{
 "cells": [
  {
   "cell_type": "markdown",
   "id": "1dc445f3-8f0f-41b7-a0fa-541467a1d3db",
   "metadata": {
    "id": "1dc445f3-8f0f-41b7-a0fa-541467a1d3db"
   },
   "source": [
    "### Universidade Federal do Rio Grande do Sul - UFRGS"
   ]
  },
  {
   "cell_type": "markdown",
   "id": "27d28d81-ad30-4559-b52d-0fee9ac96cae",
   "metadata": {
    "id": "27d28d81-ad30-4559-b52d-0fee9ac96cae"
   },
   "source": [
    "### Escola de Engenharia - EE"
   ]
  },
  {
   "cell_type": "markdown",
   "id": "103a5401-6849-4ee0-a254-08a7f684a870",
   "metadata": {
    "id": "103a5401-6849-4ee0-a254-08a7f684a870"
   },
   "source": [
    "### Programa de Pós-graduação em Engenharia Oceânica - PPGEC"
   ]
  },
  {
   "cell_type": "markdown",
   "id": "547b79f5-d7a3-4b02-8ce9-7c1647bff36b",
   "metadata": {
    "id": "547b79f5-d7a3-4b02-8ce9-7c1647bff36b"
   },
   "source": [
    "### Disciplina: Tópicos avançados em concreto - PEC00013"
   ]
  },
  {
   "cell_type": "markdown",
   "id": "189e93bb-f3e5-4536-9aec-d09046d6929b",
   "metadata": {
    "id": "189e93bb-f3e5-4536-9aec-d09046d6929b"
   },
   "source": [
    "### Professor: Dr. Mauro de Vasconcellos Real"
   ]
  },
  {
   "cell_type": "markdown",
   "id": "9187878f-2f69-43a6-9e66-d91991265288",
   "metadata": {},
   "source": [
    "# __Aula 02__"
   ]
  },
  {
   "cell_type": "markdown",
   "id": "ce78f794-4773-4210-bf0c-d89fd0e707f7",
   "metadata": {
    "id": "ce78f794-4773-4210-bf0c-d89fd0e707f7"
   },
   "source": [
    "## __Capítulo 2 - Seções Poligonais de Concreto Armado Submetidas à Flexão Composta Oblíqua__ <a name=\"section_2\"></a>"
   ]
  },
  {
   "cell_type": "markdown",
   "id": "e4c7f828-335f-42ac-b316-e8fd6c4a263c",
   "metadata": {
    "id": "e4c7f828-335f-42ac-b316-e8fd6c4a263c"
   },
   "source": [
    "[2.1 - Esforços atuantes de cálculo](#section_21)"
   ]
  },
  {
   "cell_type": "markdown",
   "id": "d203a6e2",
   "metadata": {},
   "source": [
    "[2.2 - Esforços resistentes de cálculo](#section_22)"
   ]
  },
  {
   "cell_type": "markdown",
   "id": "5a4de045",
   "metadata": {},
   "source": [
    "[2.3 - Hipóteses básicas de cálculo](#section_23)"
   ]
  },
  {
   "cell_type": "markdown",
   "id": "63855435-7f10-490c-9416-7f55226f1d3b",
   "metadata": {},
   "source": [
    "[2.4 - Compatibilidade de deformações](#section_24)"
   ]
  },
  {
   "cell_type": "markdown",
   "id": "8eb3898f-b848-446f-8b60-121ace292330",
   "metadata": {},
   "source": [
    "[2.5 - Diagramas tensão-deformação dos materiais](#section_25)"
   ]
  },
  {
   "cell_type": "markdown",
   "id": "73822b3a-4ee8-4859-be04-bf35ca661f52",
   "metadata": {},
   "source": [
    "[2.6 - Cálculo dos esforços resistentes](#section_26)"
   ]
  },
  {
   "cell_type": "markdown",
   "id": "5bafba8c-efa5-4114-9f0e-603f32dbecc4",
   "metadata": {
    "id": "5bafba8c-efa5-4114-9f0e-603f32dbecc4"
   },
   "source": [
    "## __2.1 - Esforços atuantes de cálculo__ <a name=\"section_21\"></a>"
   ]
  },
  {
   "cell_type": "markdown",
   "id": "c727166c-3816-44c9-8755-2b00dc87991b",
   "metadata": {
    "id": "0b8c3d99-64a5-44e9-9200-89c81286e8e6",
    "tags": []
   },
   "source": [
    "### Esforços atuantes de cálculo na seção poligonal"
   ]
  },
  {
   "cell_type": "markdown",
   "id": "9d7e57d8-0f51-4c54-a16c-d2ea79e7051c",
   "metadata": {},
   "source": [
    "<img src=\"./images2/atuantes.jpg\" alt=\"esforços atuantes de cálculo\" style=\"width:300px\"/>"
   ]
  },
  {
   "cell_type": "markdown",
   "id": "157432c3-c6ac-4105-b5b2-45e3ad381233",
   "metadata": {
    "id": "157432c3-c6ac-4105-b5b2-45e3ad381233"
   },
   "source": [
    "* Os esforços de cálculo atuantes na seção de concreto armado são os momentos fletores $M_{Axd}$ e $M_{Ayd}$ e o esforço normal $N_{Ad}$, estabelecidos segundo o sistema de coordenadas local $x,y$.\n",
    "* O esforço normal será positivo quando for de tração e os momentos fletores serão positivos quando tiverem o mesmo sentido dos eixos $x,y$."
   ]
  },
  {
   "cell_type": "markdown",
   "id": "f3b9e05b-9627-450b-95bb-46e98c485e8f",
   "metadata": {
    "tags": []
   },
   "source": [
    "## __2.2 - Esforços resistentes de cálculo__ <a name=\"section_22\"></a>"
   ]
  },
  {
   "cell_type": "markdown",
   "id": "62d47eb9-eef2-4509-b5ee-d1603688e826",
   "metadata": {},
   "source": [
    "### Esforços resistentes de cálculo na seção poligonal"
   ]
  },
  {
   "cell_type": "markdown",
   "id": "afd73003-f3f7-491b-a35b-10410ff02ca3",
   "metadata": {
    "id": "4e3eb7d3-b94e-42a7-9967-eb43d228c585"
   },
   "source": [
    "<img src=\"./images2/resistentes.jpg\" alt=\"esforços resistentes de cálculo\" style=\"width:300px\"/>"
   ]
  },
  {
   "cell_type": "markdown",
   "id": "2c1f17c5",
   "metadata": {},
   "source": [
    "* Os esforços resistentes de cálculo (últimos) $M_{Rxd}$, $M_{Ryd}$ e $N_{Rd}$ seguem a mesma convenção de sinais adotadas para os esforços atuantes.\n",
    "* O esforço normal será positivo quando for de tração e os momentos fletores serão positivos quando tiverem o mesmo sentido dos eixos $x,y$."
   ]
  },
  {
   "cell_type": "markdown",
   "id": "4e3eb7d3-b94e-42a7-9967-eb43d228c585",
   "metadata": {
    "id": "4e3eb7d3-b94e-42a7-9967-eb43d228c585"
   },
   "source": [
    "## __2.3 - Hipóteses básicas de cálculo__ <a name=\"section_23\"></a>"
   ]
  },
  {
   "cell_type": "markdown",
   "id": "b72536a7",
   "metadata": {},
   "source": [
    "### Hipóteses básicas de cálculo segundo a norma NBR-6118:2014"
   ]
  },
  {
   "cell_type": "markdown",
   "id": "44de5aac-973b-4f8c-80e4-d7ce8e9fdf69",
   "metadata": {
    "id": "44de5aac-973b-4f8c-80e4-d7ce8e9fdf69"
   },
   "source": [
    "* A norma brasileira para o ***\"Projeto de estruturas de concreto\", NBR-6118:2014,*** estabelece as seguintes hipóteses sobre as deformações de uma seção de concreto armado no estado limite último:\n",
    "<ol type=\"a\">\n",
    "  <li>as seções transversais se mantêm planas após a deformação;</li>\n",
    "  <li>a deformação das barras passivas aderentes em tração ou compressão deve ser a(o) mesma(o) do concreto em seu entorno;</li>\n",
    "  <li>as tensões de tração no concreto, normais à seção transversal, devem ser desprezadas no ELU;</li>\n",
    "  <li>a distribuição de tensões no concreto é feita de acordo com o diagrama parábola-retângulo, ou de acordo com o diagrama retangular simplificado;</li>\n",
    "  <li>a tensão nas armaduras deve ser obtida a partir dos diagramas tensão-deformação, com seus valores de cálculo;</li>\n",
    "  <li>o estado-limite último é caracterizado quando a distribuição das deformações na seção transversal pertencer a um dos domínios deﬁnidos na figura abaixo;</li>\n",
    "</ol>"
   ]
  },
  {
   "cell_type": "markdown",
   "id": "6fed8a23-83cf-4ab0-ac2c-2bd0effe578c",
   "metadata": {
    "id": "6fed8a23-83cf-4ab0-ac2c-2bd0effe578c"
   },
   "source": [
    "### Domínios de deformação no estado limite último segundo a norma NBR-6118:2014"
   ]
  },
  {
   "cell_type": "markdown",
   "id": "8e9132cb",
   "metadata": {},
   "source": [
    "<img src=\"./images2/dominios.jpg\" alt=\"domínios de deformação no ELU\" style=\"width:500px\"/>"
   ]
  },
  {
   "cell_type": "markdown",
   "id": "f2f917a9-9329-465e-8b58-b8da595961c7",
   "metadata": {
    "id": "f2f917a9-9329-465e-8b58-b8da595961c7"
   },
   "source": [
    "#### Ruptura convencional por deformação plástica excessiva:\n",
    "* reta a: tração uniforme;\n",
    "* domínio 1: tração não uniforme, sem compressão;\n",
    "* domínio 2: ﬂexão simples ou composta sem ruptura à compressão do concreto ($\\epsilon_c < \\epsilon_{cu}$ e com \n",
    "o máximo alongamento permitido).\n",
    "#### Ruptura convencional por encurtamento-limite do concreto:\n",
    "* domínio 3: ﬂexão simples (seção subarmada) ou composta com ruptura à compressão do concreto e com escoamento do aço ($\\epsilon_s \\ge \\epsilon_{yd}$);\n",
    "* domínio 4: ﬂexão simples (seção superarmada) ou composta com ruptura à compressão do concreto e aço tracionado sem escoamento ($\\epsilon_s \\le \\epsilon_{yd}$);\n",
    "* domínio 4a: ﬂexão composta com armaduras comprimidas;\n",
    "* domínio 5: compressão não uniforme, sem tração;\n",
    "* reta b: compressão uniforme."
   ]
  },
  {
   "cell_type": "markdown",
   "id": "8302b6e2",
   "metadata": {},
   "source": [
    "### Valores limite para a deformação do concreto"
   ]
  },
  {
   "cell_type": "markdown",
   "id": "5ff56506",
   "metadata": {},
   "source": [
    "* os valores a serem adotados para os parâmetros $\\epsilon_{c2}$ (deformação específica de encurtamento do concreto no início do patamar plástico) e $\\epsilon_{cu}$ (deformação específica de encurtamento do concreto na ruptura) são definidos como:\n",
    "* para concretos de classes até C50: \n",
    "$$\\epsilon_{c2} = 2,0 ‰ $$\n",
    "$$\\epsilon_{cu} = 3,5 ‰ $$\n",
    "* para concretos de classes de C50 até C90:\n",
    "$$\\epsilon_{c2} = 2.0 ‰  + 0,085 ‰ (f_{ck} - 50)^{0,53}$$\n",
    "$$\\epsilon_{cu} = 2.6 ‰ + 35 ‰ \\left[\\frac{(90 - f_{ck})}{100}\\right]^4  $$"
   ]
  },
  {
   "cell_type": "markdown",
   "id": "7bf856ff",
   "metadata": {
    "tags": []
   },
   "source": [
    "<img src=\"./images2/epsilon_c.jpg\" alt=\"deformações limites do concreto\" style=\"width:300px\"/>"
   ]
  },
  {
   "cell_type": "markdown",
   "id": "34b66763-2651-455a-bbda-05c9984d10fe",
   "metadata": {},
   "source": [
    "## __2.4 - Compatibilidade de deformações__ <a name=\"section_24\"></a>"
   ]
  },
  {
   "cell_type": "markdown",
   "id": "89d0f07f-9965-408b-9b3f-069a5f2a6a71",
   "metadata": {},
   "source": [
    "### Profundidade $x$ e orientação $\\alpha$ da linha neutra"
   ]
  },
  {
   "cell_type": "markdown",
   "id": "7ca19e3d-fa00-4f5d-b3bd-0d7dd9489fb1",
   "metadata": {},
   "source": [
    "<img src=\"./images2/linha_neutra.jpg\" alt=\"linha neutra\" style=\"width:500px\"/>"
   ]
  },
  {
   "cell_type": "markdown",
   "id": "409eacc5-78a9-47ea-93e9-3a7e9c3d8585",
   "metadata": {
    "id": "409eacc5-78a9-47ea-93e9-3a7e9c3d8585",
    "tags": []
   },
   "source": [
    "* Estas hipóteses introduzem uma relação de dependência entre $\\epsilon_S$ e $\\epsilon_I$, e o estado de eformações da seção fica determinado a partir de apenas duas variáveis independentes.\n",
    "* As duas variáveis, que serão utilizadas para definir este estado de deformação são a inclinação $\\alpha$ e a profundidade $x$ da linha neutra."
   ]
  },
  {
   "cell_type": "markdown",
   "id": "26cdd533-f511-45cb-9c55-0702f87a19d1",
   "metadata": {},
   "source": [
    "### Profundidade da linha neutra $x$."
   ]
  },
  {
   "cell_type": "markdown",
   "id": "cbc08c8c-6d69-4a2d-8619-717624e9a325",
   "metadata": {
    "id": "cbc08c8c-6d69-4a2d-8619-717624e9a325"
   },
   "source": [
    "* A profundidade da linha neutra é determinada, conforme a NBR-6118, por uma coordenada representada pela letra x e medida paralelamente ao eixo $\\eta$.\n",
    "* A coordenada x tem origem na fibra de maior encurtamento da seção (ou menor alongamento) e tem o sentido contrário ao de $\\eta$.\n",
    "* A Tabela abaixo apresenta as expressões para calcular $\\epsilon_S$ e $\\epsilon_I$ em função de $x$."
   ]
  },
  {
   "cell_type": "markdown",
   "id": "d0762ecd",
   "metadata": {},
   "source": [
    "<img src=\"./images2/tabela_dominios.jpg\" alt=\"tabela domínios da NBR-6118\" style=\"width:500px\"/>"
   ]
  },
  {
   "cell_type": "markdown",
   "id": "61135cfa-05ca-492c-98d6-58875ace357d",
   "metadata": {
    "id": "61135cfa-05ca-492c-98d6-58875ace357d"
   },
   "source": [
    "* Demonstração para o Domínio 3:"
   ]
  },
  {
   "cell_type": "markdown",
   "id": "cfe35bba",
   "metadata": {},
   "source": [
    "<img src=\"./images2/dominio_3.jpg\" alt=\"domínio 3\" style=\"width:200px\"/>"
   ]
  },
  {
   "cell_type": "markdown",
   "id": "2f6cb82c-2963-4bbb-82e7-6b6035c55e84",
   "metadata": {
    "id": "2f6cb82c-2963-4bbb-82e7-6b6035c55e84"
   },
   "source": [
    "* A deformação no bordo superior (ponto B) corresponde ao encurtamento último do concreto: $\\epsilon_{cu}$, com o sinal negativo (compressão):\n",
    "\n",
    "$$\\epsilon_{S} = - \\epsilon_{cu}$$\n",
    "\n",
    "* A deformação no bordo inferior corresponde à barra de armadura mais tracionada. Então, por semelhança de triângulos:\n",
    "\n",
    "$$\\frac{\\epsilon_{I}}{d-x} = \\frac{+\\epsilon_{cu}}{x}$$\n",
    "\n",
    "* Logo:\n",
    "\n",
    "$$ \\epsilon_{I} = \\epsilon_{cu} \\frac{d-x}{x}$$\n",
    "\n",
    "* Da mesma forma são obtidas as equações dos demais domínios."
   ]
  },
  {
   "cell_type": "markdown",
   "id": "cb3e8786-74a7-41b8-8e89-70aa48428d8c",
   "metadata": {
    "id": "cb3e8786-74a7-41b8-8e89-70aa48428d8c"
   },
   "source": [
    "### Cálculo das deformações ao longo da seção $\\epsilon(\\xi,\\eta)$"
   ]
  },
  {
   "cell_type": "markdown",
   "id": "b1a75ac9-58a6-44f2-a35c-5333d8bb11da",
   "metadata": {
    "id": "b1a75ac9-58a6-44f2-a35c-5333d8bb11da"
   },
   "source": [
    "* Conhecidos os valores de $x$ e $\\alpha$, a deformação $\\epsilon(\\xi,\\eta)$ de um ponto da seção é obtida por:"
   ]
  },
  {
   "cell_type": "markdown",
   "id": "b44db252-fc2f-44ab-87ff-0dbc3eede541",
   "metadata": {
    "id": "b44db252-fc2f-44ab-87ff-0dbc3eede541"
   },
   "source": [
    "$$ \\epsilon(\\xi,\\eta) = b \\eta + c$$"
   ]
  },
  {
   "cell_type": "markdown",
   "id": "54394f66-2e92-4185-a70b-09dee943aea2",
   "metadata": {
    "id": "54394f66-2e92-4185-a70b-09dee943aea2"
   },
   "source": [
    "onde:"
   ]
  },
  {
   "cell_type": "markdown",
   "id": "fca5f418-57c3-42a6-be75-71c438ba352c",
   "metadata": {},
   "source": [
    "$$ b = \\frac{\\epsilon_{S} - \\epsilon_{I}}{\\eta_{S} - \\eta_{I}} $$"
   ]
  },
  {
   "cell_type": "markdown",
   "id": "7a166ce8-fb23-49a9-aec0-d2b86801e756",
   "metadata": {},
   "source": [
    "$$ c = \\epsilon_{S} - b \\eta_{S} $$"
   ]
  },
  {
   "cell_type": "markdown",
   "id": "24d7efb2-a5f7-48b8-8d7c-21e1f34cd3f3",
   "metadata": {
    "tags": []
   },
   "source": [
    "sendo $b$ a curvatura da seção e $c$ o valor da deformação na fibra correspondente ao centro de gravidade da seção de concreto."
   ]
  },
  {
   "cell_type": "markdown",
   "id": "3e2eccc0-b2f5-4d7a-9bfe-15630881568c",
   "metadata": {},
   "source": [
    "* $\\eta_{S}$ e $\\eta_{S}$ são as ordenadas dos pontos extremos superior e inferior da seção. Os pontos extremos, no caso da zona tracionada, correspondem a barras de armadura."
   ]
  },
  {
   "cell_type": "markdown",
   "id": "057fd94c",
   "metadata": {},
   "source": [
    "## __2.5 - Diagramas tensão-deformação dos materiais__ <a name=\"section_25\"></a>"
   ]
  },
  {
   "cell_type": "markdown",
   "id": "18f3c66e-38a4-4834-a6eb-6a72c377c6f3",
   "metadata": {
    "id": "18f3c66e-38a4-4834-a6eb-6a72c377c6f3"
   },
   "source": [
    "### Diagrama tensão-deformação para o concreto comprimido"
   ]
  },
  {
   "cell_type": "markdown",
   "id": "55bcb4f9-87e1-42e5-a91a-1f55785281db",
   "metadata": {},
   "source": [
    "* A NBR-6118 diz que no estado limite último a distribuição das tensões do concreto na seção se faz de acordo com o diagrama parábola-retângulo. A resistência à tração do concreto é desprezada."
   ]
  },
  {
   "cell_type": "markdown",
   "id": "490badba",
   "metadata": {},
   "source": [
    "<img src=\"./images2/concreto.jpg\" alt=\"concreto comprimido\" style=\"width:500px\"/>"
   ]
  },
  {
   "cell_type": "markdown",
   "id": "1ee591c1-30db-40f2-82d0-e065dd3d4176",
   "metadata": {
    "id": "1ee591c1-30db-40f2-82d0-e065dd3d4176"
   },
   "source": [
    "* Variação do expoente $n$ do trecho curvo da relação tensão-deformação do concreto comprimido:"
   ]
  },
  {
   "cell_type": "markdown",
   "id": "8a4f24b9-9a39-4212-9ac7-5585e932a47b",
   "metadata": {},
   "source": [
    "<img src=\"./images2/exp_n.jpg\" alt=\"expoente n\" style=\"width:300px\"/>"
   ]
  },
  {
   "cell_type": "markdown",
   "id": "3aa8f8b4-266e-40a9-a38a-18128f08ae56",
   "metadata": {},
   "source": [
    "### Curvas tensão-deformação para o concreto comprimido do Código Modelo fib-2010"
   ]
  },
  {
   "cell_type": "markdown",
   "id": "a73e750c-219d-45e7-838d-23c4c0c47e35",
   "metadata": {
    "tags": []
   },
   "source": [
    "* O Código Modelo fib-2010, apresenta três relações tensão-deformação para o concreto comprimido que podem ser empregadas no dimensionamento de estruturas de concreto.\n",
    "* A primeira é destinada à análise estrutural não linear."
   ]
  },
  {
   "cell_type": "markdown",
   "id": "ece4703b-6dc1-42cf-b6c0-64486f306156",
   "metadata": {},
   "source": [
    "<img src=\"./images2/fib1.jpg\" alt=\"curva para análise não linear\" style=\"width:400px\"/>"
   ]
  },
  {
   "cell_type": "markdown",
   "id": "d80ffee3-23e0-4707-884e-50960c33c097",
   "metadata": {},
   "source": [
    "* A segunda é um diagrama do tipo parábola-retângulo para ser usada em projeto."
   ]
  },
  {
   "cell_type": "markdown",
   "id": "424513f7-1ae0-4877-a443-3720dc2cdd13",
   "metadata": {},
   "source": [
    "<img src=\"./images2/fib2.jpg\" alt=\"diagrama parábola-retângulo\" style=\"width:400px\"/>"
   ]
  },
  {
   "cell_type": "markdown",
   "id": "5ab13869-1c7a-4efa-ae53-ef537a8e08eb",
   "metadata": {},
   "source": [
    "* Por último, pode ser usado também um diagrama tensão-deformação bilinear para o concreto comprimido, como na figura abaixo."
   ]
  },
  {
   "cell_type": "markdown",
   "id": "a3050e98-590f-4f65-81cb-e729c225365d",
   "metadata": {},
   "source": [
    "<img src=\"./images2/fib3.jpg\" alt=\"diagrama bilinear para o concreto\" style=\"width:400px\"/>"
   ]
  },
  {
   "cell_type": "markdown",
   "id": "37c1eae8-3bf0-49d3-abea-54a1caf525d3",
   "metadata": {},
   "source": [
    "### Diagrama parábola-retângulo simplificado para o concreto"
   ]
  },
  {
   "cell_type": "markdown",
   "id": "1143e184-1468-4327-831b-424f8ef2dd11",
   "metadata": {},
   "source": [
    "* Para facilitar o procedimento de determinação dos esforços resistentes, o trecho parabólico do diagrama, pode ser aproximado por uma parábola do segundo grau da forma:"
   ]
  },
  {
   "cell_type": "markdown",
   "id": "6af27db1-fc29-42fd-a6cb-2fd1db2ba1ee",
   "metadata": {},
   "source": [
    "$$ \\sigma_c(\\epsilon) = \\sigma_{cd} \\left( a_2 \\epsilon^2 + a_1 \\epsilon\\right) $$"
   ]
  },
  {
   "cell_type": "markdown",
   "id": "4aa749d1-42e9-4e1c-9a67-11d430189138",
   "metadata": {},
   "source": [
    "sendo "
   ]
  },
  {
   "cell_type": "markdown",
   "id": "75530a87-4307-44f0-ac72-e6710cc243d0",
   "metadata": {},
   "source": [
    "$$ \\sigma_{cd} = 0,85 f_{cd} $$"
   ]
  },
  {
   "cell_type": "markdown",
   "id": "89057e47-38cf-4015-b57f-a03a2c11f198",
   "metadata": {},
   "source": [
    "* A premissa da regressão polinomial é de que um conjunto de $n$ pares $(x,y)$, representando uma função:"
   ]
  },
  {
   "cell_type": "markdown",
   "id": "0eaa9285-2430-4e9a-8f0d-a9165edc80dc",
   "metadata": {},
   "source": [
    "$$(x_1,y_1),(x_2,y_2), (x_3,y_3), ..., (x_n,y_n)$$"
   ]
  },
  {
   "cell_type": "markdown",
   "id": "b1322a70-412d-4ef8-983d-b1f90a0e8447",
   "metadata": {},
   "source": [
    "pode ser processado usando o método dos mínimos quadrados para criar uma equação polinomial de grau $p$ (com $p<n$):"
   ]
  },
  {
   "cell_type": "markdown",
   "id": "e34cf3af-932f-4bc0-9750-8a9d2bbde7a9",
   "metadata": {},
   "source": [
    "$$ y = a_0 + a_1 x + a_2 x^2 + a_3 x^3 + ...  a_p x^p $$ "
   ]
  },
  {
   "cell_type": "markdown",
   "id": "fb71b825-8a7f-459a-9c27-bdca7695b7c9",
   "metadata": {},
   "source": [
    "* A essência do método é reduzir o resíduo $R$ em cada ponto:"
   ]
  },
  {
   "cell_type": "markdown",
   "id": "2d17fe9d-e49c-4e01-b7e5-225bf44f0ae0",
   "metadata": {},
   "source": [
    "$$ R_i = y_i - a_0 + a_1 x_i + a_2 x_i^2 + a_3 x_i^3 + ...  a_p x_i^p $$"
   ]
  },
  {
   "cell_type": "markdown",
   "id": "2390e492-f960-4d8c-b5e4-7d6f0d07a728",
   "metadata": {},
   "source": [
    "* Os coeficientes do polinômio podem ser obtidos, resolvendo-se o seguinte sistema de equações lineares (este exemplo corresponde a um polinômio do quarto grau):"
   ]
  },
  {
   "cell_type": "markdown",
   "id": "30ef5465-3d7a-4c5c-a3bd-27cb23066e2a",
   "metadata": {},
   "source": [
    "$$ \\begin{bmatrix}\n",
    "n & \\sum{x_i} & \\sum{x_i^2} & \\sum{x_i^3} & \\sum{x_i^4} \\\\\n",
    "\\sum{x_i} & \\sum{x_i^2} & \\sum{x_i^3} & \\sum{x_i^4} & \\sum{x_i^5} \\\\\n",
    "\\sum{x_i^2} & \\sum{x_i^3} & \\sum{x_i^4} & \\sum{x_i^5} & \\sum{x_i^6} \\\\\n",
    "\\sum{x_i^3} & \\sum{x_i^4} & \\sum{x_i^5} & \\sum{x_i^6} & \\sum{x_i^7} \\\\\n",
    "\\sum{x_i^4} & \\sum{x_i^5} & \\sum{x_i^6} & \\sum{x_i^7} & \\sum{x_i^8} \n",
    "\\end{bmatrix}\n",
    "\\begin{pmatrix}\n",
    "a_0 \\\\\n",
    "a_1 \\\\\n",
    "a_2 \\\\\n",
    "a_3 \\\\\n",
    "a_4\n",
    "\\end{pmatrix}\n",
    "=\n",
    "\\begin{pmatrix}\n",
    "\\sum y_i \\\\\n",
    "\\sum x_i y_i \\\\\n",
    "\\sum x_i^2 y_i \\\\\n",
    "\\sum x_i^3 y_i \\\\\n",
    "\\sum x_i^4 y_i\n",
    "\\end{pmatrix}\n",
    "$$"
   ]
  },
  {
   "cell_type": "markdown",
   "id": "949987b4-a5ea-46c2-b3a1-b6d27233ecc6",
   "metadata": {},
   "source": [
    "* Para o caso de um polinômio do segundo grau (parábola), com $a_0 = 0$, tem-se:"
   ]
  },
  {
   "cell_type": "markdown",
   "id": "3fc8bde7-8e0d-4fd7-ad42-d67f7f395e99",
   "metadata": {},
   "source": [
    "$$ \\begin{bmatrix}\n",
    "\\sum_{i=0}^{n-1}{x_i^2} & \\sum_{i=0}^{n-1}{x_i^3} \\\\\n",
    "\\sum_{i=0}^{n-1}{x_i^3} & \\sum_{i=0}^{n-1}{x_i^4}\n",
    "\\end{bmatrix}\n",
    "\\begin{pmatrix}\n",
    "a_1 \\\\\n",
    "a_2 \\\\\n",
    "\\end{pmatrix}\n",
    "=\n",
    "\\begin{pmatrix}\n",
    "\\sum_{i=0}^{n-1}x_i y_i \\\\\n",
    "\\sum_{i=0}^{n-1}x_i^2 y_i\n",
    "\\end{pmatrix}\n",
    "$$"
   ]
  },
  {
   "cell_type": "markdown",
   "id": "41da9267-2bd1-43f4-adad-f53de1c764a0",
   "metadata": {},
   "source": [
    "* resultando:"
   ]
  },
  {
   "cell_type": "markdown",
   "id": "63ad5492-d6d8-4662-acb5-aa71d41ff2ef",
   "metadata": {},
   "source": [
    "$$ a_1 = \\frac{\\sum{x_i^2 y_i} - \\frac{\\sum{x_i^4}\\sum{x_i yi}}{\\sum{x_i^3}}}{\\sum{x_i^3} - \\frac{\\sum{x_i^2}\\sum{x_i^4}}{\\sum{x_i^3}}} $$"
   ]
  },
  {
   "cell_type": "markdown",
   "id": "77e8bafe-59db-46de-9cdc-60c13017ea34",
   "metadata": {},
   "source": [
    "$$ a_2 = \\frac{\\sum{x_i^2 y_i} - a_1 \\sum{x_i^3}}{\\sum{x_i^4}} $$"
   ]
  },
  {
   "cell_type": "markdown",
   "id": "d104ab39-cd22-49a4-9ef7-a2b886ed7707",
   "metadata": {},
   "source": [
    "* Assim, o trecho curvo do diagrama parábola-retângulo pode ser calculado pela expressão:"
   ]
  },
  {
   "cell_type": "markdown",
   "id": "26cc0719-2c5f-41e6-8905-731b12172708",
   "metadata": {},
   "source": [
    "$$ \\sigma_{c}(\\epsilon) = \\sigma_{cd} ( a_2 \\epsilon^2 + a_1 \\epsilon )$$"
   ]
  },
  {
   "cell_type": "markdown",
   "id": "5cfdcb12-fad5-4f19-9794-eb0ff9518e9c",
   "metadata": {},
   "source": [
    "sendo:"
   ]
  },
  {
   "cell_type": "markdown",
   "id": "a8f35038-fa86-492c-8883-5b9ff5ca9191",
   "metadata": {},
   "source": [
    "$$ \\sigma_{cd} = 0,85 f_{cd} $$"
   ]
  },
  {
   "cell_type": "markdown",
   "id": "d074de53-8431-4831-b441-2be5c6e7030d",
   "metadata": {},
   "source": [
    "* Os valores de $a_2$ e $a_1$ estão dados na tabela abaixo para diferentes classes de concreto, foram obtidos para 100 pontos de interpolação. Observe-se que o resultado coincide com a solução exata para $f_ck$ = 50 MPa, quando $n$ = 2."
   ]
  },
  {
   "cell_type": "markdown",
   "id": "8c24d968-9d5c-4ff4-9a61-ae1e4df43f0b",
   "metadata": {},
   "source": [
    "|$f_{ck}$ | $a_2$ | $a_1$ |\n",
    "|-------|-----|-----|\n",
    "|$\\le$ 50 MPa | 250000 | 1000.00 |\n",
    "|60 MPa | 120525 | 721.22 |\n",
    "|70 MPa | 81898 | 620.93 |\n",
    "|80 MPa | 69771 | 581.88 |\n",
    "|90 MPa | 64927 | 561.93 |"
   ]
  },
  {
   "cell_type": "markdown",
   "id": "4881654b-a505-4526-ba5c-7368729a67c2",
   "metadata": {},
   "source": [
    "A figura abaixo mostra a proximidade da parábola do 2º grau, com os coeficientes ajustados, junto a curva exata da NBR-6118:2014 para $f_{ck}$ = 90 MPa, cujo expoente $n$ é igual a $1,4$."
   ]
  },
  {
   "cell_type": "markdown",
   "id": "311b237d-0f58-447b-acd3-c9f909d57e30",
   "metadata": {},
   "source": [
    "<img src=\"./images2/fck90.jpg\" alt=\"curvas para fck = 90 MPa\" style=\"width:400px\"/>"
   ]
  },
  {
   "cell_type": "markdown",
   "id": "699d136a-e639-4ea9-862b-46901ecd356c",
   "metadata": {},
   "source": [
    "* A resistência de cálculo do concreto à compressão, $f_{cd}$, é determinada por:"
   ]
  },
  {
   "cell_type": "markdown",
   "id": "46967baf-3300-41d4-a93b-d407376b8b8a",
   "metadata": {},
   "source": [
    "$$ f_{cd} = \\frac{f_{ck}}{\\gamma_c} $$"
   ]
  },
  {
   "cell_type": "markdown",
   "id": "71712b3d-f6b6-4a65-9b83-5ee544617c40",
   "metadata": {},
   "source": [
    "onde $f_{ck}$ é a resistência característica do concreto à compressão e $\\gamma_c$ é o coeficiente de minoração da resistência do concreto, tomado, em geral, com o valor de 1,4."
   ]
  },
  {
   "cell_type": "markdown",
   "id": "e05ff79c-9d35-4388-9486-aad463f5872c",
   "metadata": {},
   "source": [
    "* Assim, as tensões no concreto são dadas por"
   ]
  },
  {
   "cell_type": "markdown",
   "id": "eb34344b-61ca-4fdc-a8ff-a2efdcac0a06",
   "metadata": {},
   "source": [
    "$$ \\sigma_c(\\epsilon) = 0 \\; \\text{para} \\; \\epsilon \\ge 0 $$"
   ]
  },
  {
   "cell_type": "markdown",
   "id": "95b56bbc-3ca3-4338-a1bb-92ed961e36b0",
   "metadata": {},
   "source": [
    "$$ \\sigma_c(\\epsilon) = \\sigma_{cd} (a_2 \\epsilon^2 + a_1 \\epsilon) \\; \\text{para} \\; 0 \\le \\epsilon \\le -\\epsilon_{c2} $$"
   ]
  },
  {
   "cell_type": "markdown",
   "id": "5936f245-82f6-420b-8376-7b69028ee3f6",
   "metadata": {},
   "source": [
    "$$ \\sigma_c(\\epsilon) = -\\sigma_{cd} \\; \\text{para} \\; -\\epsilon_{c2} \\le \\epsilon \\le -\\epsilon_{cu} $$"
   ]
  },
  {
   "cell_type": "markdown",
   "id": "2935de9c-6fa7-41d1-8a27-173db305d9b3",
   "metadata": {},
   "source": [
    "sendo $$\\sigma_{cd} = 0,85 f_{cd}$$"
   ]
  },
  {
   "cell_type": "markdown",
   "id": "b7c3c35f-0dc1-43db-a2b2-87d2f206388a",
   "metadata": {},
   "source": [
    "Porém, tem-se que:"
   ]
  },
  {
   "cell_type": "markdown",
   "id": "915d8ad7-dbc7-4623-abfb-084f9a4a48de",
   "metadata": {},
   "source": [
    "$$ \\epsilon(\\xi,\\eta) = b \\eta + c $$"
   ]
  },
  {
   "cell_type": "markdown",
   "id": "03df09b7-442f-4ba3-9a0b-dfe2432fbf58",
   "metadata": {},
   "source": [
    "Substituindo a relação anterior na expressão da tensão $\\sigma_c(\\epsilon)$, resulta:"
   ]
  },
  {
   "cell_type": "code",
   "execution_count": 68,
   "id": "584a165f-c913-4cad-adf7-bd9c7d403956",
   "metadata": {},
   "outputs": [],
   "source": [
    "import sympy as sp\n",
    "sp.init_printing()\n",
    "from sympy import I, pi, oo"
   ]
  },
  {
   "cell_type": "code",
   "execution_count": 8,
   "id": "a5dcbf6e-81a0-46d9-aaa9-8c7433e97af9",
   "metadata": {},
   "outputs": [],
   "source": [
    "xi, eta = sp.symbols('xi, eta')\n",
    "sigma_c, sigma_cd = sp.symbols('sigma_c, sigma_cd')\n",
    "a_1,a_2 = sp.symbols('a_1,a_2')\n",
    "b,c = sp.symbols('b, c')\n",
    "epsilon = sp.Symbol('epsilon')"
   ]
  },
  {
   "cell_type": "code",
   "execution_count": 23,
   "id": "37fca20b-e373-4621-b3d9-aa8b2e3d4c80",
   "metadata": {},
   "outputs": [],
   "source": [
    "epsilon = b*eta + c"
   ]
  },
  {
   "cell_type": "code",
   "execution_count": 76,
   "id": "f2e274dc-fa8c-4a75-b28e-dd09062697d7",
   "metadata": {},
   "outputs": [
    {
     "data": {
      "image/png": "[encoded data removed]",
      "text/latex": [
       "$\\displaystyle b \\eta + c$"
      ],
      "text/plain": [
       "b⋅η + c"
      ]
     },
     "execution_count": 76,
     "metadata": {},
     "output_type": "execute_result"
    }
   ],
   "source": [
    "epsilon"
   ]
  },
  {
   "cell_type": "code",
   "execution_count": 24,
   "id": "2f3f64b9-2dd0-444d-8187-41e63c525a5b",
   "metadata": {},
   "outputs": [],
   "source": [
    "sigma_c = sigma_cd*(a_2*epsilon**2 + a_1*epsilon)"
   ]
  },
  {
   "cell_type": "code",
   "execution_count": 25,
   "id": "56d42ba1-b188-4a4d-af09-ffb4bd224f9e",
   "metadata": {},
   "outputs": [],
   "source": [
    "sigma_c = sp.expand(sigma_c)"
   ]
  },
  {
   "cell_type": "code",
   "execution_count": 26,
   "id": "f3ca32fd-3a43-4188-9a5b-14137a07dc7d",
   "metadata": {},
   "outputs": [
    {
     "data": {
      "image/png": "[encoded data removed]",
      "text/latex": [
       "$\\displaystyle a_{1} b \\eta \\sigma_{cd} + a_{1} c \\sigma_{cd} + a_{2} b^{2} \\eta^{2} \\sigma_{cd} + 2 a_{2} b c \\eta \\sigma_{cd} + a_{2} c^{2} \\sigma_{cd}$"
      ],
      "text/plain": [
       "                              2  2                              2     \n",
       "a₁⋅b⋅η⋅σ_cd + a₁⋅c⋅σ_cd + a₂⋅b ⋅η ⋅σ_cd + 2⋅a₂⋅b⋅c⋅η⋅σ_cd + a₂⋅c ⋅σ_cd"
      ]
     },
     "execution_count": 26,
     "metadata": {},
     "output_type": "execute_result"
    }
   ],
   "source": [
    "sigma_c"
   ]
  },
  {
   "cell_type": "code",
   "execution_count": 27,
   "id": "a856378a-871e-4f29-9ccb-805700e678f8",
   "metadata": {},
   "outputs": [],
   "source": [
    "sigma_c = sigma_c.collect(sigma_cd)\n"
   ]
  },
  {
   "cell_type": "code",
   "execution_count": 28,
   "id": "53811110-df80-42a8-a14c-ba0ec441f654",
   "metadata": {},
   "outputs": [
    {
     "data": {
      "image/png": "[encoded data removed]",
      "text/latex": [
       "$\\displaystyle \\sigma_{cd} \\left(a_{1} b \\eta + a_{1} c + a_{2} b^{2} \\eta^{2} + 2 a_{2} b c \\eta + a_{2} c^{2}\\right)$"
      ],
      "text/plain": [
       "     ⎛                    2  2                    2⎞\n",
       "σ_cd⋅⎝a₁⋅b⋅η + a₁⋅c + a₂⋅b ⋅η  + 2⋅a₂⋅b⋅c⋅η + a₂⋅c ⎠"
      ]
     },
     "execution_count": 28,
     "metadata": {},
     "output_type": "execute_result"
    }
   ],
   "source": [
    "sigma_c\n"
   ]
  },
  {
   "cell_type": "markdown",
   "id": "ebdde30c-3658-4f94-a509-d1dc79f98b9a",
   "metadata": {},
   "source": [
    "* Logo a expressão da tensão de compressão no concreto, para o trecho parabólico, pode ser reescrita na forma:"
   ]
  },
  {
   "cell_type": "markdown",
   "id": "fa3eb0b4-70aa-4557-9c0d-f55237c82f9d",
   "metadata": {},
   "source": [
    "$$ \\sigma_c(\\xi,\\eta) = 0 \\; \\text{para} \\; \\epsilon \\ge 0 $$"
   ]
  },
  {
   "cell_type": "markdown",
   "id": "d4f45944-a1b0-4a94-9d2d-3d3702bce463",
   "metadata": {},
   "source": [
    "$$ \\sigma_c(\\xi,\\eta) = \\sigma_{cd} (D_0 + D_1\\eta + D_2 \\eta^2) \\; \\text{para} \\; 0 \\le \\epsilon \\le -\\epsilon_{c2} $$"
   ]
  },
  {
   "cell_type": "markdown",
   "id": "e58ac2c2-fbff-4800-b358-9d7f154d738f",
   "metadata": {},
   "source": [
    "$$ \\sigma_c(\\xi,\\eta) = -\\sigma_{cd} \\; \\text{para} \\; -\\epsilon_{c2} \\le \\epsilon \\le -\\epsilon_{cu} $$\n"
   ]
  },
  {
   "cell_type": "markdown",
   "id": "8872e5e8-9240-4a2b-8475-8a6b0b010640",
   "metadata": {},
   "source": [
    "onde:"
   ]
  },
  {
   "cell_type": "markdown",
   "id": "5740b09c-66a6-4115-80c1-a4e834651be3",
   "metadata": {},
   "source": [
    "$$ D_2 = a_1 c + a_2 c^2 $$"
   ]
  },
  {
   "cell_type": "markdown",
   "id": "d79cd0d7-cf2a-4e03-ae6a-9aaebeed7a82",
   "metadata": {},
   "source": [
    "$$ D_1 = a_1 b + 2 a_2 b c$$"
   ]
  },
  {
   "cell_type": "markdown",
   "id": "d52c373b-ed12-48a7-9081-88cf3f3d70dc",
   "metadata": {},
   "source": [
    "$$D_0 = a_2 b^2$$"
   ]
  },
  {
   "cell_type": "code",
   "execution_count": null,
   "id": "4d022e40-a020-409f-99b8-519181fd8445",
   "metadata": {},
   "outputs": [],
   "source": []
  }
 ],
 "metadata": {
  "colab": {
   "name": "Capítulo_1.ipynb",
   "provenance": []
  },
  "kernelspec": {
   "display_name": "Python 3 (ipykernel)",
   "language": "python",
   "name": "python3"
  },
  "language_info": {
   "codemirror_mode": {
    "name": "ipython",
    "version": 3
   },
   "file_extension": ".py",
   "mimetype": "text/x-python",
   "name": "python",
   "nbconvert_exporter": "python",
   "pygments_lexer": "ipython3",
   "version": "3.10.9"
  }
 },
 "nbformat": 4,
 "nbformat_minor": 5
}
